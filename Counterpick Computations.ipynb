{
 "cells": [
  {
   "cell_type": "code",
   "execution_count": 1,
   "metadata": {
    "collapsed": true
   },
   "outputs": [],
   "source": [
    "%load_ext autoreload\n",
    "%autoreload 2"
   ]
  },
  {
   "cell_type": "code",
   "execution_count": 2,
   "metadata": {
    "collapsed": true
   },
   "outputs": [],
   "source": [
    "url = 'https://docs.google.com/spreadsheets/d/1HcdISgCl3s4RpWkJa8m-G1JjfKzd8qf2WY2Xcw32D7U/pub?gid=1371955398&single=true&output=csv'"
   ]
  },
  {
   "cell_type": "code",
   "execution_count": 3,
   "metadata": {
    "collapsed": true
   },
   "outputs": [],
   "source": [
    "def full_cast_counterpick(row):\n",
    "    full_cast_events = [\n",
    "        \"IYL Season 1\",\n",
    "        \"IYL Season 2\",\n",
    "        \"IYL Season 3\",\n",
    "        \"IYL Season 4\",\n",
    "        \"IYL Season 5\",\n",
    "        \"NFTT Round 1\",\n",
    "        \"NFTT Round 2\",\n",
    "        \"NFTT Round 3\",\n",
    "        \"NFTT Round 4\",\n",
    "        \"NFTT Round 5\",\n",
    "        \"NFTT Round 6\",\n",
    "        \"NFTT Round 7\",\n",
    "        \"NFTT Round 8\",\n",
    "        \"Summer Smash\",\n",
    "        \"Summer Smash II\",\n",
    "        \"Summer Smash III\",\n",
    "        \"Summer Smash IV\",\n",
    "    ]\n",
    "    return not any([\n",
    "        row.char_select_random,\n",
    "        row.char_select_locked,\n",
    "        row.event not in full_cast_events\n",
    "    ]) "
   ]
  },
  {
   "cell_type": "code",
   "execution_count": 4,
   "metadata": {
    "collapsed": true
   },
   "outputs": [],
   "source": [
    "import pandas\n",
    "import re\n",
    "\n",
    "historical_record = pandas.read_csv(url)\n",
    "historical_record['Match Date'] = pandas.to_datetime(historical_record['Match Date'], infer_datetime_format=True)\n",
    "historical_record.columns = [re.sub('\\W+', '_', col.lower()).strip('_') for col in historical_record.columns]\n",
    "historical_record.format_restricted.replace(to_replace=['.', 'Restricted'], value=[False, True], inplace=True)\n",
    "historical_record.format_team.replace(to_replace=['.', 'Team'], value=[False, True], inplace=True)\n",
    "historical_record.char_select_random.replace(to_replace=['.', 'Random'], value=[False, True], inplace=True)\n",
    "historical_record.char_select_locked.replace(to_replace=['.', 'Locked'], value=[False, True], inplace=True)\n",
    "historical_record.set_length_non_ft3_ft4.replace(to_replace=['.', 'non-FT3/FT4'], value=[False, True], inplace=True)\n",
    "historical_record.set_win_1 = historical_record.set_win_1.fillna(0)\n",
    "historical_record.set_win_2 = historical_record.set_win_2.fillna(0)\n",
    "historical_record.wins_1 = historical_record.wins_1.fillna(0)\n",
    "historical_record.wins_2 = historical_record.wins_2.fillna(0)\n",
    "historical_record['standard_format'] = historical_record.apply(full_cast_counterpick, axis=1)\n",
    "historical_record.character_1 = historical_record.character_1.apply(lambda n: n.title())\n",
    "historical_record.character_2 = historical_record.character_2.apply(lambda n: n.title())"
   ]
  },
  {
   "cell_type": "markdown",
   "metadata": {},
   "source": [
    "Recurrence Relation:\n",
    "  * `meta_impact(m, n) = 1 + counterpicks_2 * mu_win * meta_impact(m-1, n) + counterpicks_1 * (1 - mu_win) * meta_impact(m, n-1)`\n",
    "  * `meta_impact(0, n) = 0`\n",
    "  * `meta_impact(m, 0) = 0`\n",
    "\n",
    "Counterpicks:\n",
    "\n",
    "  * Pmn = Probability of match m/n\n",
    "  * Wmn = Probability of m winning match m/n\n",
    "  * Cmn = Probability of counterpicking m with n\n",
    "\n",
    "\n",
    "    Paa = Waa * Caa + Wab * Caa + Wba * 0   + Wbb * 0\n",
    "    Pab = Waa * Cab + Wab * Cab + Wba * 0   + Wbb * 0\n",
    "    Pba = Waa * 0   + Wab * 0   + Wba * Cba + Wbb * Cba\n",
    "    Pbb = Waa * 0   + Wab * 0   + Wba * Cbb + Wbb * Cbb\n",
    "    [Caa, Caa, 0,   0      [Waa\n",
    "     Cab, Cab, 0,   0       Wab\n",
    "     0,   0,   Cba, Cba     Wba\n",
    "     0,   0,   Cbb, Cbb] *  Wbb]\n",
    "    \n",
    "    Paa = (1-Waa) * Caa + (1-Wab) * 0   + (1-Wba) * Caa + (1-Wbb) * 0\n",
    "    Pab = (1-Waa) * 0   + (1-Wab) * Cba + (1-Wba) * 0   + (1-Wbb) * Cba\n",
    "    Pba = (1-Waa) * Cab + (1-Wab) * 0   + (1-Wba) * Cab + (1-Wbb) * 0\n",
    "    Pbb = (1-Waa) * 0   + (1-Wab) * Cbb + (1-Wba) * 0   + (1-Wbb) * Cbb\n",
    "    [Caa, 0,   Caa, 0          [Waa\n",
    "     0,   Cba, 0,   Cba         Wab\n",
    "     Cab, 0,   Cab, 0           Wba\n",
    "     0,   Cbb, 0,   Cbb] * 1 -  Wbb]"
   ]
  },
  {
   "cell_type": "code",
   "execution_count": 5,
   "metadata": {
    "collapsed": true
   },
   "outputs": [],
   "source": [
    "def counterpicks(matches):\n",
    "    for pick, counterpick in zip(matches, matches[1:] + [None]):\n",
    "        if counterpick is None:\n",
    "            if matches[0]['set_win_1']:\n",
    "                for _ in range(int(pick['wins_1']) - 1):\n",
    "                    yield (pick['character_1'], pick['character_2'])\n",
    "                for _ in range(int(pick['wins_2'])):\n",
    "                    yield (pick['character_2'], pick['character_1'])\n",
    "            else:\n",
    "                for _ in range(int(pick['wins_1'])):\n",
    "                    yield (pick['character_1'], pick['character_2'])\n",
    "                for _ in range(int(pick['wins_2'] - 1)):\n",
    "                    yield (pick['character_2'], pick['character_1'])\n",
    "                \n",
    "        else:\n",
    "            if pick['character_1'] != counterpick['character_1']:\n",
    "                for _ in range(int(pick['wins_1'])):\n",
    "                    yield (pick['character_1'], pick['character_2'])\n",
    "                for _ in range(int(pick['wins_2'] - 1)):\n",
    "                    yield (pick['character_2'], pick['character_1'])\n",
    "                yield (pick['character_2'], counterpick['character_1'])\n",
    "            else:\n",
    "                for _ in range(int(pick['wins_1'] - 1)):\n",
    "                    yield (pick['character_1'], pick['character_2'])\n",
    "                for _ in range(int(pick['wins_2'])):\n",
    "                    yield (pick['character_2'], pick['character_1'])\n",
    "                yield (pick['character_1'], counterpick['character_2'])"
   ]
  },
  {
   "cell_type": "code",
   "execution_count": 6,
   "metadata": {
    "collapsed": true
   },
   "outputs": [],
   "source": [
    "sets = historical_record[historical_record.standard_format].groupby(['match_date', 'event', 'player_1', 'player_2'])"
   ]
  },
  {
   "cell_type": "code",
   "execution_count": 24,
   "metadata": {
    "collapsed": true
   },
   "outputs": [],
   "source": [
    "cast = historical_record[historical_record.standard_format].character_1.unique()\n",
    "matchups = [(l, r) for l in cast for r in cast]"
   ]
  },
  {
   "cell_type": "code",
   "execution_count": 22,
   "metadata": {},
   "outputs": [],
   "source": [
    "counterpick_counts = pandas.DataFrame(\n",
    "    data=(\n",
    "        {'pick': pick, 'counter': counter}\n",
    "        for (key, set) in sets\n",
    "        for (pick, counter) in counterpicks([row for (ix, row) in set.iterrows()])\n",
    "    )\n",
    ").groupby(['pick', 'counter']).size().reindex(\n",
    "    pandas.MultiIndex.from_product([cast, cast], names=['pick', 'counter'])\n",
    ").fillna(0)"
   ]
  },
  {
   "cell_type": "code",
   "execution_count": 23,
   "metadata": {
    "collapsed": true
   },
   "outputs": [],
   "source": [
    "blind_picks = pandas.DataFrame(\n",
    "    {\n",
    "        'character_1': list(set['character_1'])[0],\n",
    "        'character_2': list(set['character_2'])[0],\n",
    "    }\n",
    "    for (key, set) in sets\n",
    ")\n",
    "\n",
    "blind_pick_counts = blind_picks['character_1'].append(blind_picks['character_2']).value_counts()"
   ]
  },
  {
   "cell_type": "code",
   "execution_count": 110,
   "metadata": {
    "collapsed": true
   },
   "outputs": [],
   "source": [
    "half_matchup = historical_record.groupby(['character_1', 'character_2']).sum()[['wins_1', 'wins_2']]\n",
    "reversed_matchup = half_matchup.reset_index().rename(columns={\n",
    "    'character_1': 'character_2',\n",
    "    'character_2': 'character_1',\n",
    "    'wins_1': 'wins_2',\n",
    "    'wins_2': 'wins_1',\n",
    "}).set_index(['character_1', 'character_2'])\n",
    "matchup_pcts = (half_matchup + reversed_matchup).apply(lambda r: r['wins_1']/(r['wins_1'] + r['wins_2']), axis=1).loc[matchups]"
   ]
  },
  {
   "cell_type": "markdown",
   "metadata": {},
   "source": [
    "## Computational"
   ]
  },
  {
   "cell_type": "code",
   "execution_count": 112,
   "metadata": {},
   "outputs": [],
   "source": [
    "# mu_win = pandas.DataFrame(\n",
    "#     data=matchup_pcts.loc[cast].values,\n",
    "#     #index=matchup_pcts.reset_index().apply(lambda r: (r.character_1, r.character_2), axis=1),\n",
    "#     index=pandas.MultiIndex.from_product([cast, cast], names=['character_1', 'character_2']),\n",
    "# ).loc[matchups]\n",
    "blind_pcts = blind_pick_counts / blind_pick_counts.sum()\n",
    "blind_mu_pcts = pandas.Series(\n",
    "    data=[pct_l*pct_r for pct_l in blind_pcts.values for pct_r in blind_pcts.values],\n",
    "    index=pandas.MultiIndex.from_product([blind_pcts.index, blind_pcts.index])\n",
    ")"
   ]
  },
  {
   "cell_type": "code",
   "execution_count": 123,
   "metadata": {
    "collapsed": true
   },
   "outputs": [],
   "source": [
    "import itertools\n",
    "\n",
    "class Meta:\n",
    "    def __init__(self, exclude=[]):\n",
    "        mu_exclude = exclude + list(itertools.product(cast, exclude))\n",
    "        self.blind_mu_pcts = blind_mu_pcts.drop(mu_exclude)\n",
    "        self.blind_mu_pcts /= self.blind_mu_pcts.sum()\n",
    "        \n",
    "        self.matchups = [(l, r) for (l, r) in matchups if l not in exclude and r not in exclude]\n",
    "        \n",
    "        self.counterpick_pcts = counterpick_counts.drop(mu_exclude).groupby('pick').apply(lambda g: g / g.sum())\n",
    "        self.counterpicks_2 = pandas.DataFrame({\n",
    "            before: {\n",
    "                after: 0 if before[0] != after[0] else self.counterpick_pcts.loc[before[0], after[1]]\n",
    "                for after in self.matchups\n",
    "            } for before in self.matchups\n",
    "        })\n",
    "        \n",
    "        self.counterpicks_1 = pandas.DataFrame({\n",
    "            before: {\n",
    "                after: 0 if before[1] != after[1] else self.counterpick_pcts.loc[before[1], after[0]]\n",
    "                for after in self.matchups\n",
    "            } for before in self.matchups\n",
    "        })\n",
    "        \n",
    "        self.transition_win = self.counterpicks_2.dot(matchup_pcts.drop(mu_exclude))\n",
    "        self.transition_lose = self.counterpicks_1.dot(1-matchup_pcts.drop(mu_exclude))\n",
    "\n",
    "        self._meta_influence = {}\n",
    "\n",
    "    def _matchup_influence(self, remaining_wins_1, remaining_wins_2):\n",
    "        ix = (remaining_wins_1, remaining_wins_2)\n",
    "        if ix not in self._meta_influence:\n",
    "            if remaining_wins_1 == 0:\n",
    "                self._meta_influence[ix] = 0\n",
    "            elif remaining_wins_2 == 0:\n",
    "                self._meta_influence[ix] = 0\n",
    "            else:\n",
    "                self._meta_influence[ix] = (\n",
    "                    1 +\n",
    "                    self.transition_win * self._matchup_influence(remaining_wins_1 - 1, remaining_wins_2) +\n",
    "                    self.transition_lose * self._matchup_influence(remaining_wins_1, remaining_wins_2 - 1)\n",
    "                )\n",
    "\n",
    "\n",
    "        return self._meta_influence[ix]\n",
    "\n",
    "    def matchup_influence(self, remaining_wins_1, remaining_wins_2):\n",
    "        return self._matchup_influence(remaining_wins_1, remaining_wins_2) * self.blind_mu_pcts\n",
    "    \n",
    "    def character_influence(self, remaining_wins_1, remaining_wins_2):\n",
    "        mus = self.matchup_influence(remaining_wins_1, remaining_wins_2).reset_index()\n",
    "        chars = mus[['level_0', 0]].rename(columns={'level_0': 'char'}).append(\n",
    "            mus[['level_1', 0]].rename(columns={'level_1': 'char'})\n",
    "        ).groupby('char').sum() / 2\n",
    "        return chars[0]\n",
    "        \n",
    "    "
   ]
  },
  {
   "cell_type": "code",
   "execution_count": 140,
   "metadata": {},
   "outputs": [
    {
     "name": "stderr",
     "output_type": "stream",
     "text": [
      "/home/cpennington/.pyenv/versions/3.6.1/lib/python3.6/site-packages/ipykernel_launcher.py:6: PerformanceWarning: dropping on a non-lexsorted multi-index without a level parameter may impact performance.\n",
      "  \n",
      "/home/cpennington/.pyenv/versions/3.6.1/lib/python3.6/site-packages/ipykernel_launcher.py:11: PerformanceWarning: dropping on a non-lexsorted multi-index without a level parameter may impact performance.\n",
      "  # This is added back by InteractiveShellApp.init_path()\n"
     ]
    },
    {
     "name": "stdout",
     "output_type": "stream",
     "text": [
      "Jaina       Jaina         0.001547\n",
      "Persephone  Persephone    0.001661\n",
      "Jaina       Persephone    0.002017\n",
      "Persephone  Jaina         0.002017\n",
      "Vendetta    Jaina         0.002343\n",
      "Jaina       Vendetta      0.002343\n",
      "Midori      Persephone    0.002765\n",
      "Persephone  Midori        0.002765\n",
      "Midori      Valerie       0.002780\n",
      "Valerie     Midori        0.002780\n",
      "Persephone  Gloria        0.002943\n",
      "Gloria      Persephone    0.002943\n",
      "Vendetta    Bbb           0.003301\n",
      "Bbb         Vendetta      0.003301\n",
      "Lum         Lum           0.003387\n",
      "Valerie     Valerie       0.003498\n",
      "Menelker    Bbb           0.003514\n",
      "Bbb         Menelker      0.003514\n",
      "            Jaina         0.003536\n",
      "Jaina       Bbb           0.003536\n",
      "Gloria      Bbb           0.003556\n",
      "Bbb         Gloria        0.003556\n",
      "Valerie     Gloria        0.004035\n",
      "Gloria      Valerie       0.004035\n",
      "Midori      Midori        0.004077\n",
      "Vendetta    Vendetta      0.004513\n",
      "Menelker    Vendetta      0.004525\n",
      "Vendetta    Menelker      0.004525\n",
      "Gloria      Vendetta      0.004603\n",
      "Vendetta    Gloria        0.004603\n",
      "                            ...   \n",
      "Grave       Onimaru       0.104028\n",
      "Onimaru     Grave         0.104028\n",
      "Valerie     Setsuki       0.105070\n",
      "Setsuki     Valerie       0.105070\n",
      "            Setsuki       0.107254\n",
      "Geiger      Geiger        0.115454\n",
      "Grave       Geiger        0.122174\n",
      "Geiger      Grave         0.122174\n",
      "Onimaru     Argagarg      0.134158\n",
      "Argagarg    Onimaru       0.134158\n",
      "Setsuki     Argagarg      0.140667\n",
      "Argagarg    Setsuki       0.140667\n",
      "Rook        Geiger        0.158471\n",
      "Geiger      Rook          0.158471\n",
      "Quince      Setsuki       0.213719\n",
      "Setsuki     Quince        0.213719\n",
      "            Grave         0.214194\n",
      "Grave       Setsuki       0.214194\n",
      "Setsuki     Midori        0.227173\n",
      "Midori      Setsuki       0.227173\n",
      "Setsuki     Gloria        0.238700\n",
      "Gloria      Setsuki       0.238700\n",
      "Grave       Argagarg      0.278156\n",
      "Argagarg    Grave         0.278156\n",
      "Gloria      Argagarg      0.316155\n",
      "Argagarg    Gloria        0.316155\n",
      "Valerie     Grave         0.363338\n",
      "Grave       Valerie       0.363338\n",
      "Geiger      Menelker      0.365881\n",
      "Menelker    Geiger        0.365881\n",
      "Length: 289, dtype: float64\n",
      "char\n",
      "Jaina         0.161145\n",
      "Persephone    0.236407\n",
      "Bbb           0.286855\n",
      "Vendetta      0.385184\n",
      "Midori        0.395538\n",
      "Lum           0.438406\n",
      "Gwen          0.465117\n",
      "Onimaru       0.541568\n",
      "Quince        0.565235\n",
      "Rook          0.600153\n",
      "Menelker      0.611414\n",
      "Gloria        0.700293\n",
      "Valerie       0.838367\n",
      "Geiger        1.184819\n",
      "Argagarg      1.399289\n",
      "Grave         1.467318\n",
      "Setsuki       1.631627\n",
      "Name: 0, dtype: float64\n"
     ]
    },
    {
     "name": "stderr",
     "output_type": "stream",
     "text": [
      "/home/cpennington/.pyenv/versions/3.6.1/lib/python3.6/site-packages/ipykernel_launcher.py:26: PerformanceWarning: dropping on a non-lexsorted multi-index without a level parameter may impact performance.\n",
      "/home/cpennington/.pyenv/versions/3.6.1/lib/python3.6/site-packages/ipykernel_launcher.py:27: PerformanceWarning: dropping on a non-lexsorted multi-index without a level parameter may impact performance.\n"
     ]
    }
   ],
   "source": [
    "meta = Meta(['Zane', 'Troq', 'Degrey'])\n",
    "\n",
    "print(meta.matchup_influence(4, 4).sort_values())\n",
    "print(meta.character_influence(4, 4).sort_values())"
   ]
  },
  {
   "cell_type": "code",
   "execution_count": 139,
   "metadata": {},
   "outputs": [
    {
     "data": {
      "text/plain": [
       "character_2\n",
       "Gwen          0.520408\n",
       "Setsuki       0.400000\n",
       "Troq          0.426829\n",
       "Degrey        0.500000\n",
       "Zane          0.435345\n",
       "Midori        0.500000\n",
       "Grave         0.550898\n",
       "Geiger        0.460177\n",
       "Menelker      0.582278\n",
       "Lum           0.681034\n",
       "Quince        0.460526\n",
       "Rook          0.534884\n",
       "Bbb           0.576923\n",
       "Onimaru       0.690647\n",
       "Vendetta      0.483333\n",
       "Jaina         0.576923\n",
       "Argagarg      0.495413\n",
       "Valerie       0.625000\n",
       "Persephone    0.583333\n",
       "Gloria        0.513889\n",
       "dtype: float64"
      ]
     },
     "execution_count": 139,
     "metadata": {},
     "output_type": "execute_result"
    }
   ],
   "source": [
    "matchup_pcts['Degrey']"
   ]
  },
  {
   "cell_type": "markdown",
   "metadata": {},
   "source": [
    "## Stochastic"
   ]
  },
  {
   "cell_type": "code",
   "execution_count": 8,
   "metadata": {},
   "outputs": [
    {
     "ename": "NameError",
     "evalue": "name 'blind_pick_counts' is not defined",
     "output_type": "error",
     "traceback": [
      "\u001b[0;31m---------------------------------------------------------------------------\u001b[0m",
      "\u001b[0;31mNameError\u001b[0m                                 Traceback (most recent call last)",
      "\u001b[0;32m<ipython-input-8-edcf1da9edf3>\u001b[0m in \u001b[0;36m<module>\u001b[0;34m()\u001b[0m\n\u001b[1;32m      1\u001b[0m match_starts = pandas.DataFrame({\n\u001b[0;32m----> 2\u001b[0;31m     \u001b[0;34m'character_1'\u001b[0m\u001b[0;34m:\u001b[0m \u001b[0mblind_pick_counts\u001b[0m\u001b[0;34m.\u001b[0m\u001b[0mreset_index\u001b[0m\u001b[0;34m(\u001b[0m\u001b[0;34m)\u001b[0m\u001b[0;34m[\u001b[0m\u001b[0;34m'index'\u001b[0m\u001b[0;34m]\u001b[0m\u001b[0;34m.\u001b[0m\u001b[0msample\u001b[0m\u001b[0;34m(\u001b[0m\u001b[0;36m10000\u001b[0m\u001b[0;34m,\u001b[0m \u001b[0mweights\u001b[0m\u001b[0;34m=\u001b[0m\u001b[0mblind_pick_counts\u001b[0m\u001b[0;34m.\u001b[0m\u001b[0mvalues\u001b[0m\u001b[0;34m,\u001b[0m \u001b[0mreplace\u001b[0m\u001b[0;34m=\u001b[0m\u001b[0;32mTrue\u001b[0m\u001b[0;34m)\u001b[0m\u001b[0;34m.\u001b[0m\u001b[0mreset_index\u001b[0m\u001b[0;34m(\u001b[0m\u001b[0mdrop\u001b[0m\u001b[0;34m=\u001b[0m\u001b[0;32mTrue\u001b[0m\u001b[0;34m)\u001b[0m\u001b[0;34m,\u001b[0m\u001b[0;34m\u001b[0m\u001b[0m\n\u001b[0m\u001b[1;32m      3\u001b[0m     \u001b[0;34m'character_2'\u001b[0m\u001b[0;34m:\u001b[0m \u001b[0mblind_pick_counts\u001b[0m\u001b[0;34m.\u001b[0m\u001b[0mreset_index\u001b[0m\u001b[0;34m(\u001b[0m\u001b[0;34m)\u001b[0m\u001b[0;34m[\u001b[0m\u001b[0;34m'index'\u001b[0m\u001b[0;34m]\u001b[0m\u001b[0;34m.\u001b[0m\u001b[0msample\u001b[0m\u001b[0;34m(\u001b[0m\u001b[0;36m10000\u001b[0m\u001b[0;34m,\u001b[0m \u001b[0mweights\u001b[0m\u001b[0;34m=\u001b[0m\u001b[0mblind_pick_counts\u001b[0m\u001b[0;34m.\u001b[0m\u001b[0mvalues\u001b[0m\u001b[0;34m,\u001b[0m \u001b[0mreplace\u001b[0m\u001b[0;34m=\u001b[0m\u001b[0;32mTrue\u001b[0m\u001b[0;34m)\u001b[0m\u001b[0;34m.\u001b[0m\u001b[0mreset_index\u001b[0m\u001b[0;34m(\u001b[0m\u001b[0mdrop\u001b[0m\u001b[0;34m=\u001b[0m\u001b[0;32mTrue\u001b[0m\u001b[0;34m)\u001b[0m\u001b[0;34m,\u001b[0m\u001b[0;34m\u001b[0m\u001b[0m\n\u001b[1;32m      4\u001b[0m })\n",
      "\u001b[0;31mNameError\u001b[0m: name 'blind_pick_counts' is not defined"
     ]
    }
   ],
   "source": [
    "match_starts = pandas.DataFrame({\n",
    "    'character_1': blind_pick_counts.reset_index()['index'].sample(10000, weights=blind_pick_counts.values, replace=True).reset_index(drop=True),\n",
    "    'character_2': blind_pick_counts.reset_index()['index'].sample(10000, weights=blind_pick_counts.values, replace=True).reset_index(drop=True),\n",
    "})"
   ]
  },
  {
   "cell_type": "code",
   "execution_count": 23,
   "metadata": {
    "collapsed": true
   },
   "outputs": [],
   "source": [
    "import random\n",
    "import numpy\n",
    "\n",
    "class Meta:\n",
    "    def __init__(self, exclude=None):\n",
    "        self.exclude = exclude or []\n",
    "        self.cast = blind_pick_counts.drop(self.exclude).reset_index()['index']\n",
    "        self.blind_pick_counts = blind_pick_counts.drop(self.exclude)\n",
    "        self.cps = cps.drop(self.exclude)\n",
    "        self.cps = self.cps[~self.cps.counter.isin(self.exclude)]\n",
    "\n",
    "    def sample_blindpick(self, n=10000):\n",
    "        return self.cast.sample(\n",
    "            n,\n",
    "            weights=self.blind_pick_counts.values,\n",
    "            replace=True\n",
    "        ).reset_index(drop=True)\n",
    "\n",
    "    def counterpick(self, char):\n",
    "        pick = self.cps['counter'][char].sample(1, weights=self.cps[0][char]).values[0]\n",
    "        return pick\n",
    "\n",
    "    def generate_match(self, best_of=7, n=10000):\n",
    "        matchups = pandas.DataFrame({\n",
    "            'character_1': self.sample_blindpick(n),\n",
    "            'character_2': self.sample_blindpick(n),\n",
    "            'remaining_1': best_of // 2 + 1,\n",
    "            'remaining_2': best_of // 2 + 1,\n",
    "        })\n",
    "        while not matchups.empty:\n",
    "            yield matchups.copy()\n",
    "            matchup_pct = matchups.apply(lambda r: matchup_pcts[r.character_1][r.character_2], axis=1)\n",
    "            p1_wins = matchup_pct < numpy.random.random(len(matchup_pct))\n",
    "            matchups.loc[p1_wins, 'remaining_1'] -= 1\n",
    "            matchups.loc[~p1_wins, 'remaining_2'] -= 1\n",
    "            matchups.loc[p1_wins, 'character_2'] = matchups.loc[p1_wins, 'character_1'].apply(self.counterpick)\n",
    "            matchups.loc[~p1_wins, 'character_1'] = matchups.loc[~p1_wins, 'character_2'].apply(self.counterpick)\n",
    "            matchups = matchups[matchups.remaining_1 > 0][matchups.remaining_2 > 0]\n",
    "    \n",
    "    def equality_errors(self, best_of=7, n=10000):\n",
    "        all_matches = pandas.concat(self.generate_match(best_of=best_of, n=n))\n",
    "        char_counts = all_matches['character_1'].append(all_matches['character_2']).value_counts()\n",
    "        estimated_fracs = (char_counts / char_counts.sum()).sort_values()\n",
    "        baseline = pandas.Series(data=1/20, index=hist_fracs.index)\n",
    "        return (\n",
    "            numpy.linalg.norm(estimated_fracs - baseline[estimated_fracs.index]),\n",
    "            numpy.linalg.norm(pandas.Series(data=estimated_fracs, index=baseline.index).fillna(0) - baseline),\n",
    "        )\n",
    "\n",
    "    "
   ]
  },
  {
   "cell_type": "code",
   "execution_count": 31,
   "metadata": {
    "scrolled": false
   },
   "outputs": [
    {
     "name": "stderr",
     "output_type": "stream",
     "text": [
      "/home/cpennington/.pyenv/versions/3.6.1/lib/python3.6/site-packages/ipykernel_launcher.py:38: UserWarning: Boolean Series key will be reindexed to match DataFrame index.\n"
     ]
    },
    {
     "name": "stdout",
     "output_type": "stream",
     "text": [
      "Trying frozenset()\n",
      "Found scores (0.067089136474846475, 0.067089136474846475)\n",
      "Trying frozenset({'Troq', 'Zane'})\n",
      "Found scores (0.068221668945761427, 0.098255768857330048)\n",
      "Trying frozenset({'Zane', 'Setsuki'})\n",
      "Found scores (0.063245860926042272, 0.094868534953778449)\n",
      "Trying frozenset({'Zane', 'Degrey'})\n",
      "Found scores (0.064967605222998132, 0.096024943261692863)\n",
      "Trying frozenset({'Grave', 'Zane'})\n",
      "Found scores (0.065626244803790604, 0.096471778293172633)\n",
      "Trying frozenset({'Zane', 'Geiger'})\n",
      "Found scores (0.068890048655999264, 0.098721015006056068)\n",
      "Trying frozenset({'Argagarg', 'Zane'})\n",
      "Found scores (0.076584194018595078, 0.10423597638760725)\n",
      "Trying frozenset({'Zane', 'Rook'})\n",
      "Found scores (0.070661878544335976, 0.099965499445631184)\n",
      "Trying frozenset({'Zane', 'Onimaru'})\n",
      "Found scores (0.069852006132889485, 0.099394681753045666)\n",
      "Trying frozenset({'Zane', 'Quince'})\n",
      "Found scores (0.067869816382366194, 0.098011795084959566)\n",
      "Trying frozenset({'Zane', 'Gwen'})\n",
      "Found scores (0.070706361517238303, 0.09999694774845079)\n",
      "Trying frozenset({'Zane', 'Valerie'})\n",
      "Found scores (0.069154482497267827, 0.098905725059093133)\n",
      "Trying frozenset({'Zane', 'Lum'})\n",
      "Found scores (0.066897880599377693, 0.097341288406762899)\n",
      "Trying frozenset({'Menelker', 'Zane'})\n",
      "Found scores (0.071679579257284395, 0.1006874474922337)\n",
      "Trying frozenset({'Zane', 'Gloria'})\n",
      "Found scores (0.066065957038029421, 0.096771435244863202)\n",
      "Trying frozenset({'Zane', 'Vendetta'})\n",
      "Found scores (0.070457643099656755, 0.099821237575771465)\n",
      "Trying frozenset({'Zane', 'Bbb'})\n",
      "Found scores (0.070774002569668037, 0.10004478716920426)\n",
      "Trying frozenset({'Midori', 'Zane'})\n",
      "Found scores (0.062844464526667088, 0.09460140972334144)\n",
      "Trying frozenset({'Zane', 'Persephone'})\n",
      "Found scores (0.070549877583427609, 0.099886361566715515)\n",
      "Trying frozenset({'Zane', 'Jaina'})\n",
      "Found scores (0.067007168129669323, 0.097416428700490623)\n",
      "Found better scores frozenset({'Midori', 'Zane'}) (0.062844464526667088, 0.09460140972334144)\n",
      "Trying frozenset({'Midori'})\n",
      "Found scores (0.062347886280478215, 0.079920328600697366)\n",
      "Trying frozenset({'Midori', 'Troq', 'Zane'})\n",
      "Found scores (0.069589532154740313, 0.11109771818320859)\n",
      "Trying frozenset({'Midori', 'Zane', 'Setsuki'})\n",
      "Found scores (0.068821845844906943, 0.1106184725328466)\n",
      "Trying frozenset({'Midori', 'Zane', 'Degrey'})\n",
      "Found scores (0.072726212253315464, 0.11308891169656862)\n",
      "Trying frozenset({'Midori', 'Zane', 'Grave'})\n",
      "Found scores (0.077620729884051096, 0.11629693765414816)\n",
      "Trying frozenset({'Midori', 'Zane', 'Geiger'})\n",
      "Found scores (0.078169267203929582, 0.11666376616241797)\n",
      "Trying frozenset({'Midori', 'Argagarg', 'Zane'})\n",
      "Found scores (0.070625062737081815, 0.11174927063125176)\n",
      "Trying frozenset({'Midori', 'Zane', 'Rook'})\n",
      "Found scores (0.075719426388482294, 0.11503665299634196)\n",
      "Trying frozenset({'Midori', 'Zane', 'Onimaru'})\n",
      "Found scores (0.074956554180225482, 0.11453595511704209)\n",
      "Trying frozenset({'Midori', 'Zane', 'Quince'})\n",
      "Found scores (0.080224572701613872, 0.11805076054459172)\n",
      "Trying frozenset({'Midori', 'Zane', 'Gwen'})\n",
      "Found scores (0.075850354194108419, 0.115122874492308)\n",
      "Trying frozenset({'Midori', 'Zane', 'Valerie'})\n",
      "Found scores (0.075382207839705284, 0.11481496966331754)\n",
      "Trying frozenset({'Midori', 'Zane', 'Lum'})\n",
      "Found scores (0.074769223855082126, 0.11441344691901989)\n",
      "Trying frozenset({'Midori', 'Menelker', 'Zane'})\n",
      "Found scores (0.077550670475068348, 0.11625018920901867)\n",
      "Trying frozenset({'Midori', 'Zane', 'Gloria'})\n",
      "Found scores (0.072183232386166543, 0.11274049422330613)\n",
      "Trying frozenset({'Midori', 'Zane', 'Vendetta'})\n",
      "Found scores (0.074097200478117867, 0.1139754145361814)\n",
      "Trying frozenset({'Midori', 'Zane', 'Bbb'})\n",
      "Found scores (0.071526664390094641, 0.11232125230237257)\n",
      "Trying frozenset({'Zane'})\n",
      "Found scores (0.063447971036501544, 0.080781464635451744)\n",
      "Trying frozenset({'Midori', 'Zane', 'Persephone'})\n",
      "Found scores (0.068575556144785277, 0.11046541042591838)\n",
      "Trying frozenset({'Midori', 'Zane', 'Jaina'})\n",
      "Found scores (0.07299600262780849, 0.11326259929755729)\n",
      "Found better scores frozenset({'Midori'}) (0.062347886280478215, 0.079920328600697366)\n",
      "Trying frozenset({'Midori', 'Zane'})\n",
      "Found scores (0.067794767880150625, 0.097959841526635311)\n",
      "Trying frozenset({'Midori', 'Troq'})\n"
     ]
    },
    {
     "name": "stderr",
     "output_type": "stream",
     "text": [
      "/home/cpennington/.pyenv/versions/3.6.1/lib/python3.6/site-packages/pandas/core/indexing.py:517: SettingWithCopyWarning: \n",
      "A value is trying to be set on a copy of a slice from a DataFrame.\n",
      "Try using .loc[row_indexer,col_indexer] = value instead\n",
      "\n",
      "See the caveats in the documentation: http://pandas.pydata.org/pandas-docs/stable/indexing.html#indexing-view-versus-copy\n",
      "  self.obj[item] = s\n"
     ]
    },
    {
     "name": "stdout",
     "output_type": "stream",
     "text": [
      "Found scores (0.069783231981275937, 0.099346361109768744)\n",
      "Trying frozenset({'Midori', 'Setsuki'})\n",
      "Found scores (0.068635101549761726, 0.098543275593751728)\n",
      "Trying frozenset({'Midori', 'Degrey'})\n"
     ]
    },
    {
     "ename": "KeyboardInterrupt",
     "evalue": "",
     "output_type": "error",
     "traceback": [
      "\u001b[0;31m---------------------------------------------------------------------------\u001b[0m",
      "\u001b[0;31mKeyboardInterrupt\u001b[0m                         Traceback (most recent call last)",
      "\u001b[0;32m<ipython-input-31-88f86760306d>\u001b[0m in \u001b[0;36m<module>\u001b[0;34m()\u001b[0m\n\u001b[1;32m     13\u001b[0m         \u001b[0mprint\u001b[0m\u001b[0;34m(\u001b[0m\u001b[0;34m\"Trying\"\u001b[0m\u001b[0;34m,\u001b[0m \u001b[0mnext_exclude\u001b[0m\u001b[0;34m)\u001b[0m\u001b[0;34m\u001b[0m\u001b[0m\n\u001b[1;32m     14\u001b[0m \u001b[0;34m\u001b[0m\u001b[0m\n\u001b[0;32m---> 15\u001b[0;31m         \u001b[0mnext_scores\u001b[0m \u001b[0;34m=\u001b[0m \u001b[0mMeta\u001b[0m\u001b[0;34m(\u001b[0m\u001b[0mnext_exclude\u001b[0m\u001b[0;34m)\u001b[0m\u001b[0;34m.\u001b[0m\u001b[0mequality_errors\u001b[0m\u001b[0;34m(\u001b[0m\u001b[0mn\u001b[0m\u001b[0;34m=\u001b[0m\u001b[0;36m1000\u001b[0m\u001b[0;34m)\u001b[0m\u001b[0;34m\u001b[0m\u001b[0m\n\u001b[0m\u001b[1;32m     16\u001b[0m         \u001b[0mprint\u001b[0m\u001b[0;34m(\u001b[0m\u001b[0;34m\"Found scores\"\u001b[0m\u001b[0;34m,\u001b[0m \u001b[0mnext_scores\u001b[0m\u001b[0;34m)\u001b[0m\u001b[0;34m\u001b[0m\u001b[0m\n\u001b[1;32m     17\u001b[0m \u001b[0;34m\u001b[0m\u001b[0m\n",
      "\u001b[0;32m<ipython-input-23-c9468beffb2d>\u001b[0m in \u001b[0;36mequality_errors\u001b[0;34m(self, best_of, n)\u001b[0m\n\u001b[1;32m     39\u001b[0m \u001b[0;34m\u001b[0m\u001b[0m\n\u001b[1;32m     40\u001b[0m     \u001b[0;32mdef\u001b[0m \u001b[0mequality_errors\u001b[0m\u001b[0;34m(\u001b[0m\u001b[0mself\u001b[0m\u001b[0;34m,\u001b[0m \u001b[0mbest_of\u001b[0m\u001b[0;34m=\u001b[0m\u001b[0;36m7\u001b[0m\u001b[0;34m,\u001b[0m \u001b[0mn\u001b[0m\u001b[0;34m=\u001b[0m\u001b[0;36m10000\u001b[0m\u001b[0;34m)\u001b[0m\u001b[0;34m:\u001b[0m\u001b[0;34m\u001b[0m\u001b[0m\n\u001b[0;32m---> 41\u001b[0;31m         \u001b[0mall_matches\u001b[0m \u001b[0;34m=\u001b[0m \u001b[0mpandas\u001b[0m\u001b[0;34m.\u001b[0m\u001b[0mconcat\u001b[0m\u001b[0;34m(\u001b[0m\u001b[0mself\u001b[0m\u001b[0;34m.\u001b[0m\u001b[0mgenerate_match\u001b[0m\u001b[0;34m(\u001b[0m\u001b[0mbest_of\u001b[0m\u001b[0;34m=\u001b[0m\u001b[0mbest_of\u001b[0m\u001b[0;34m,\u001b[0m \u001b[0mn\u001b[0m\u001b[0;34m=\u001b[0m\u001b[0mn\u001b[0m\u001b[0;34m)\u001b[0m\u001b[0;34m)\u001b[0m\u001b[0;34m\u001b[0m\u001b[0m\n\u001b[0m\u001b[1;32m     42\u001b[0m         \u001b[0mchar_counts\u001b[0m \u001b[0;34m=\u001b[0m \u001b[0mall_matches\u001b[0m\u001b[0;34m[\u001b[0m\u001b[0;34m'character_1'\u001b[0m\u001b[0;34m]\u001b[0m\u001b[0;34m.\u001b[0m\u001b[0mappend\u001b[0m\u001b[0;34m(\u001b[0m\u001b[0mall_matches\u001b[0m\u001b[0;34m[\u001b[0m\u001b[0;34m'character_2'\u001b[0m\u001b[0;34m]\u001b[0m\u001b[0;34m)\u001b[0m\u001b[0;34m.\u001b[0m\u001b[0mvalue_counts\u001b[0m\u001b[0;34m(\u001b[0m\u001b[0;34m)\u001b[0m\u001b[0;34m\u001b[0m\u001b[0m\n\u001b[1;32m     43\u001b[0m         \u001b[0mestimated_fracs\u001b[0m \u001b[0;34m=\u001b[0m \u001b[0;34m(\u001b[0m\u001b[0mchar_counts\u001b[0m \u001b[0;34m/\u001b[0m \u001b[0mchar_counts\u001b[0m\u001b[0;34m.\u001b[0m\u001b[0msum\u001b[0m\u001b[0;34m(\u001b[0m\u001b[0;34m)\u001b[0m\u001b[0;34m)\u001b[0m\u001b[0;34m.\u001b[0m\u001b[0msort_values\u001b[0m\u001b[0;34m(\u001b[0m\u001b[0;34m)\u001b[0m\u001b[0;34m\u001b[0m\u001b[0m\n",
      "\u001b[0;32m~/.pyenv/versions/3.6.1/lib/python3.6/site-packages/pandas/core/reshape/concat.py\u001b[0m in \u001b[0;36mconcat\u001b[0;34m(objs, axis, join, join_axes, ignore_index, keys, levels, names, verify_integrity, copy)\u001b[0m\n\u001b[1;32m    204\u001b[0m                        \u001b[0mkeys\u001b[0m\u001b[0;34m=\u001b[0m\u001b[0mkeys\u001b[0m\u001b[0;34m,\u001b[0m \u001b[0mlevels\u001b[0m\u001b[0;34m=\u001b[0m\u001b[0mlevels\u001b[0m\u001b[0;34m,\u001b[0m \u001b[0mnames\u001b[0m\u001b[0;34m=\u001b[0m\u001b[0mnames\u001b[0m\u001b[0;34m,\u001b[0m\u001b[0;34m\u001b[0m\u001b[0m\n\u001b[1;32m    205\u001b[0m                        \u001b[0mverify_integrity\u001b[0m\u001b[0;34m=\u001b[0m\u001b[0mverify_integrity\u001b[0m\u001b[0;34m,\u001b[0m\u001b[0;34m\u001b[0m\u001b[0m\n\u001b[0;32m--> 206\u001b[0;31m                        copy=copy)\n\u001b[0m\u001b[1;32m    207\u001b[0m     \u001b[0;32mreturn\u001b[0m \u001b[0mop\u001b[0m\u001b[0;34m.\u001b[0m\u001b[0mget_result\u001b[0m\u001b[0;34m(\u001b[0m\u001b[0;34m)\u001b[0m\u001b[0;34m\u001b[0m\u001b[0m\n\u001b[1;32m    208\u001b[0m \u001b[0;34m\u001b[0m\u001b[0m\n",
      "\u001b[0;32m~/.pyenv/versions/3.6.1/lib/python3.6/site-packages/pandas/core/reshape/concat.py\u001b[0m in \u001b[0;36m__init__\u001b[0;34m(self, objs, axis, join, join_axes, keys, levels, names, ignore_index, verify_integrity, copy)\u001b[0m\n\u001b[1;32m    234\u001b[0m             \u001b[0mobjs\u001b[0m \u001b[0;34m=\u001b[0m \u001b[0;34m[\u001b[0m\u001b[0mobjs\u001b[0m\u001b[0;34m[\u001b[0m\u001b[0mk\u001b[0m\u001b[0;34m]\u001b[0m \u001b[0;32mfor\u001b[0m \u001b[0mk\u001b[0m \u001b[0;32min\u001b[0m \u001b[0mkeys\u001b[0m\u001b[0;34m]\u001b[0m\u001b[0;34m\u001b[0m\u001b[0m\n\u001b[1;32m    235\u001b[0m         \u001b[0;32melse\u001b[0m\u001b[0;34m:\u001b[0m\u001b[0;34m\u001b[0m\u001b[0m\n\u001b[0;32m--> 236\u001b[0;31m             \u001b[0mobjs\u001b[0m \u001b[0;34m=\u001b[0m \u001b[0mlist\u001b[0m\u001b[0;34m(\u001b[0m\u001b[0mobjs\u001b[0m\u001b[0;34m)\u001b[0m\u001b[0;34m\u001b[0m\u001b[0m\n\u001b[0m\u001b[1;32m    237\u001b[0m \u001b[0;34m\u001b[0m\u001b[0m\n\u001b[1;32m    238\u001b[0m         \u001b[0;32mif\u001b[0m \u001b[0mlen\u001b[0m\u001b[0;34m(\u001b[0m\u001b[0mobjs\u001b[0m\u001b[0;34m)\u001b[0m \u001b[0;34m==\u001b[0m \u001b[0;36m0\u001b[0m\u001b[0;34m:\u001b[0m\u001b[0;34m\u001b[0m\u001b[0m\n",
      "\u001b[0;32m<ipython-input-23-c9468beffb2d>\u001b[0m in \u001b[0;36mgenerate_match\u001b[0;34m(self, best_of, n)\u001b[0m\n\u001b[1;32m     34\u001b[0m             \u001b[0mmatchups\u001b[0m\u001b[0;34m.\u001b[0m\u001b[0mloc\u001b[0m\u001b[0;34m[\u001b[0m\u001b[0mp1_wins\u001b[0m\u001b[0;34m,\u001b[0m \u001b[0;34m'remaining_1'\u001b[0m\u001b[0;34m]\u001b[0m \u001b[0;34m-=\u001b[0m \u001b[0;36m1\u001b[0m\u001b[0;34m\u001b[0m\u001b[0m\n\u001b[1;32m     35\u001b[0m             \u001b[0mmatchups\u001b[0m\u001b[0;34m.\u001b[0m\u001b[0mloc\u001b[0m\u001b[0;34m[\u001b[0m\u001b[0;34m~\u001b[0m\u001b[0mp1_wins\u001b[0m\u001b[0;34m,\u001b[0m \u001b[0;34m'remaining_2'\u001b[0m\u001b[0;34m]\u001b[0m \u001b[0;34m-=\u001b[0m \u001b[0;36m1\u001b[0m\u001b[0;34m\u001b[0m\u001b[0m\n\u001b[0;32m---> 36\u001b[0;31m             \u001b[0mmatchups\u001b[0m\u001b[0;34m.\u001b[0m\u001b[0mloc\u001b[0m\u001b[0;34m[\u001b[0m\u001b[0mp1_wins\u001b[0m\u001b[0;34m,\u001b[0m \u001b[0;34m'character_2'\u001b[0m\u001b[0;34m]\u001b[0m \u001b[0;34m=\u001b[0m \u001b[0mmatchups\u001b[0m\u001b[0;34m.\u001b[0m\u001b[0mloc\u001b[0m\u001b[0;34m[\u001b[0m\u001b[0mp1_wins\u001b[0m\u001b[0;34m,\u001b[0m \u001b[0;34m'character_1'\u001b[0m\u001b[0;34m]\u001b[0m\u001b[0;34m.\u001b[0m\u001b[0mapply\u001b[0m\u001b[0;34m(\u001b[0m\u001b[0mself\u001b[0m\u001b[0;34m.\u001b[0m\u001b[0mcounterpick\u001b[0m\u001b[0;34m)\u001b[0m\u001b[0;34m\u001b[0m\u001b[0m\n\u001b[0m\u001b[1;32m     37\u001b[0m             \u001b[0mmatchups\u001b[0m\u001b[0;34m.\u001b[0m\u001b[0mloc\u001b[0m\u001b[0;34m[\u001b[0m\u001b[0;34m~\u001b[0m\u001b[0mp1_wins\u001b[0m\u001b[0;34m,\u001b[0m \u001b[0;34m'character_1'\u001b[0m\u001b[0;34m]\u001b[0m \u001b[0;34m=\u001b[0m \u001b[0mmatchups\u001b[0m\u001b[0;34m.\u001b[0m\u001b[0mloc\u001b[0m\u001b[0;34m[\u001b[0m\u001b[0;34m~\u001b[0m\u001b[0mp1_wins\u001b[0m\u001b[0;34m,\u001b[0m \u001b[0;34m'character_2'\u001b[0m\u001b[0;34m]\u001b[0m\u001b[0;34m.\u001b[0m\u001b[0mapply\u001b[0m\u001b[0;34m(\u001b[0m\u001b[0mself\u001b[0m\u001b[0;34m.\u001b[0m\u001b[0mcounterpick\u001b[0m\u001b[0;34m)\u001b[0m\u001b[0;34m\u001b[0m\u001b[0m\n\u001b[1;32m     38\u001b[0m             \u001b[0mmatchups\u001b[0m \u001b[0;34m=\u001b[0m \u001b[0mmatchups\u001b[0m\u001b[0;34m[\u001b[0m\u001b[0mmatchups\u001b[0m\u001b[0;34m.\u001b[0m\u001b[0mremaining_1\u001b[0m \u001b[0;34m>\u001b[0m \u001b[0;36m0\u001b[0m\u001b[0;34m]\u001b[0m\u001b[0;34m[\u001b[0m\u001b[0mmatchups\u001b[0m\u001b[0;34m.\u001b[0m\u001b[0mremaining_2\u001b[0m \u001b[0;34m>\u001b[0m \u001b[0;36m0\u001b[0m\u001b[0;34m]\u001b[0m\u001b[0;34m\u001b[0m\u001b[0m\n",
      "\u001b[0;32m~/.pyenv/versions/3.6.1/lib/python3.6/site-packages/pandas/core/series.py\u001b[0m in \u001b[0;36mapply\u001b[0;34m(self, func, convert_dtype, args, **kwds)\u001b[0m\n\u001b[1;32m   2353\u001b[0m             \u001b[0;32melse\u001b[0m\u001b[0;34m:\u001b[0m\u001b[0;34m\u001b[0m\u001b[0m\n\u001b[1;32m   2354\u001b[0m                 \u001b[0mvalues\u001b[0m \u001b[0;34m=\u001b[0m \u001b[0mself\u001b[0m\u001b[0;34m.\u001b[0m\u001b[0masobject\u001b[0m\u001b[0;34m\u001b[0m\u001b[0m\n\u001b[0;32m-> 2355\u001b[0;31m                 \u001b[0mmapped\u001b[0m \u001b[0;34m=\u001b[0m \u001b[0mlib\u001b[0m\u001b[0;34m.\u001b[0m\u001b[0mmap_infer\u001b[0m\u001b[0;34m(\u001b[0m\u001b[0mvalues\u001b[0m\u001b[0;34m,\u001b[0m \u001b[0mf\u001b[0m\u001b[0;34m,\u001b[0m \u001b[0mconvert\u001b[0m\u001b[0;34m=\u001b[0m\u001b[0mconvert_dtype\u001b[0m\u001b[0;34m)\u001b[0m\u001b[0;34m\u001b[0m\u001b[0m\n\u001b[0m\u001b[1;32m   2356\u001b[0m \u001b[0;34m\u001b[0m\u001b[0m\n\u001b[1;32m   2357\u001b[0m         \u001b[0;32mif\u001b[0m \u001b[0mlen\u001b[0m\u001b[0;34m(\u001b[0m\u001b[0mmapped\u001b[0m\u001b[0;34m)\u001b[0m \u001b[0;32mand\u001b[0m \u001b[0misinstance\u001b[0m\u001b[0;34m(\u001b[0m\u001b[0mmapped\u001b[0m\u001b[0;34m[\u001b[0m\u001b[0;36m0\u001b[0m\u001b[0;34m]\u001b[0m\u001b[0;34m,\u001b[0m \u001b[0mSeries\u001b[0m\u001b[0;34m)\u001b[0m\u001b[0;34m:\u001b[0m\u001b[0;34m\u001b[0m\u001b[0m\n",
      "\u001b[0;32mpandas/_libs/src/inference.pyx\u001b[0m in \u001b[0;36mpandas._libs.lib.map_infer (pandas/_libs/lib.c:66652)\u001b[0;34m()\u001b[0m\n",
      "\u001b[0;32m<ipython-input-23-c9468beffb2d>\u001b[0m in \u001b[0;36mcounterpick\u001b[0;34m(self, char)\u001b[0m\n\u001b[1;32m     18\u001b[0m \u001b[0;34m\u001b[0m\u001b[0m\n\u001b[1;32m     19\u001b[0m     \u001b[0;32mdef\u001b[0m \u001b[0mcounterpick\u001b[0m\u001b[0;34m(\u001b[0m\u001b[0mself\u001b[0m\u001b[0;34m,\u001b[0m \u001b[0mchar\u001b[0m\u001b[0;34m)\u001b[0m\u001b[0;34m:\u001b[0m\u001b[0;34m\u001b[0m\u001b[0m\n\u001b[0;32m---> 20\u001b[0;31m         \u001b[0mpick\u001b[0m \u001b[0;34m=\u001b[0m \u001b[0mself\u001b[0m\u001b[0;34m.\u001b[0m\u001b[0mcps\u001b[0m\u001b[0;34m[\u001b[0m\u001b[0;34m'counter'\u001b[0m\u001b[0;34m]\u001b[0m\u001b[0;34m[\u001b[0m\u001b[0mchar\u001b[0m\u001b[0;34m]\u001b[0m\u001b[0;34m.\u001b[0m\u001b[0msample\u001b[0m\u001b[0;34m(\u001b[0m\u001b[0;36m1\u001b[0m\u001b[0;34m,\u001b[0m \u001b[0mweights\u001b[0m\u001b[0;34m=\u001b[0m\u001b[0mself\u001b[0m\u001b[0;34m.\u001b[0m\u001b[0mcps\u001b[0m\u001b[0;34m[\u001b[0m\u001b[0;36m0\u001b[0m\u001b[0;34m]\u001b[0m\u001b[0;34m[\u001b[0m\u001b[0mchar\u001b[0m\u001b[0;34m]\u001b[0m\u001b[0;34m)\u001b[0m\u001b[0;34m.\u001b[0m\u001b[0mvalues\u001b[0m\u001b[0;34m[\u001b[0m\u001b[0;36m0\u001b[0m\u001b[0;34m]\u001b[0m\u001b[0;34m\u001b[0m\u001b[0m\n\u001b[0m\u001b[1;32m     21\u001b[0m         \u001b[0;32mreturn\u001b[0m \u001b[0mpick\u001b[0m\u001b[0;34m\u001b[0m\u001b[0m\n\u001b[1;32m     22\u001b[0m \u001b[0;34m\u001b[0m\u001b[0m\n",
      "\u001b[0;32m~/.pyenv/versions/3.6.1/lib/python3.6/site-packages/pandas/core/generic.py\u001b[0m in \u001b[0;36msample\u001b[0;34m(self, n, frac, replace, weights, random_state, axis)\u001b[0m\n\u001b[1;32m   2863\u001b[0m                                  \"same length\")\n\u001b[1;32m   2864\u001b[0m \u001b[0;34m\u001b[0m\u001b[0m\n\u001b[0;32m-> 2865\u001b[0;31m             \u001b[0;32mif\u001b[0m \u001b[0;34m(\u001b[0m\u001b[0mweights\u001b[0m \u001b[0;34m==\u001b[0m \u001b[0mnp\u001b[0m\u001b[0;34m.\u001b[0m\u001b[0minf\u001b[0m\u001b[0;34m)\u001b[0m\u001b[0;34m.\u001b[0m\u001b[0many\u001b[0m\u001b[0;34m(\u001b[0m\u001b[0;34m)\u001b[0m \u001b[0;32mor\u001b[0m \u001b[0;34m(\u001b[0m\u001b[0mweights\u001b[0m \u001b[0;34m==\u001b[0m \u001b[0;34m-\u001b[0m\u001b[0mnp\u001b[0m\u001b[0;34m.\u001b[0m\u001b[0minf\u001b[0m\u001b[0;34m)\u001b[0m\u001b[0;34m.\u001b[0m\u001b[0many\u001b[0m\u001b[0;34m(\u001b[0m\u001b[0;34m)\u001b[0m\u001b[0;34m:\u001b[0m\u001b[0;34m\u001b[0m\u001b[0m\n\u001b[0m\u001b[1;32m   2866\u001b[0m                 \u001b[0;32mraise\u001b[0m \u001b[0mValueError\u001b[0m\u001b[0;34m(\u001b[0m\u001b[0;34m\"weight vector may not include `inf` values\"\u001b[0m\u001b[0;34m)\u001b[0m\u001b[0;34m\u001b[0m\u001b[0m\n\u001b[1;32m   2867\u001b[0m \u001b[0;34m\u001b[0m\u001b[0m\n",
      "\u001b[0;32m~/.pyenv/versions/3.6.1/lib/python3.6/site-packages/pandas/core/generic.py\u001b[0m in \u001b[0;36mlogical_func\u001b[0;34m(self, axis, bool_only, skipna, level, **kwargs)\u001b[0m\n\u001b[1;32m   6419\u001b[0m         return self._reduce(f, axis=axis, skipna=skipna,\n\u001b[1;32m   6420\u001b[0m                             \u001b[0mnumeric_only\u001b[0m\u001b[0;34m=\u001b[0m\u001b[0mbool_only\u001b[0m\u001b[0;34m,\u001b[0m \u001b[0mfilter_type\u001b[0m\u001b[0;34m=\u001b[0m\u001b[0;34m'bool'\u001b[0m\u001b[0;34m,\u001b[0m\u001b[0;34m\u001b[0m\u001b[0m\n\u001b[0;32m-> 6421\u001b[0;31m                             name=name)\n\u001b[0m\u001b[1;32m   6422\u001b[0m \u001b[0;34m\u001b[0m\u001b[0m\n\u001b[1;32m   6423\u001b[0m     \u001b[0;32mreturn\u001b[0m \u001b[0mset_function_name\u001b[0m\u001b[0;34m(\u001b[0m\u001b[0mlogical_func\u001b[0m\u001b[0;34m,\u001b[0m \u001b[0mname\u001b[0m\u001b[0;34m,\u001b[0m \u001b[0mcls\u001b[0m\u001b[0;34m)\u001b[0m\u001b[0;34m\u001b[0m\u001b[0m\n",
      "\u001b[0;32m~/.pyenv/versions/3.6.1/lib/python3.6/site-packages/pandas/core/series.py\u001b[0m in \u001b[0;36m_reduce\u001b[0;34m(self, op, name, axis, skipna, numeric_only, filter_type, **kwds)\u001b[0m\n\u001b[1;32m   2378\u001b[0m                 raise NotImplementedError('Series.{0} does not implement '\n\u001b[1;32m   2379\u001b[0m                                           'numeric_only.'.format(name))\n\u001b[0;32m-> 2380\u001b[0;31m             \u001b[0;32mwith\u001b[0m \u001b[0mnp\u001b[0m\u001b[0;34m.\u001b[0m\u001b[0merrstate\u001b[0m\u001b[0;34m(\u001b[0m\u001b[0mall\u001b[0m\u001b[0;34m=\u001b[0m\u001b[0;34m'ignore'\u001b[0m\u001b[0;34m)\u001b[0m\u001b[0;34m:\u001b[0m\u001b[0;34m\u001b[0m\u001b[0m\n\u001b[0m\u001b[1;32m   2381\u001b[0m                 \u001b[0;32mreturn\u001b[0m \u001b[0mop\u001b[0m\u001b[0;34m(\u001b[0m\u001b[0mdelegate\u001b[0m\u001b[0;34m,\u001b[0m \u001b[0mskipna\u001b[0m\u001b[0;34m=\u001b[0m\u001b[0mskipna\u001b[0m\u001b[0;34m,\u001b[0m \u001b[0;34m**\u001b[0m\u001b[0mkwds\u001b[0m\u001b[0;34m)\u001b[0m\u001b[0;34m\u001b[0m\u001b[0m\n\u001b[1;32m   2382\u001b[0m \u001b[0;34m\u001b[0m\u001b[0m\n",
      "\u001b[0;32m~/.pyenv/versions/3.6.1/lib/python3.6/site-packages/numpy/core/numeric.py\u001b[0m in \u001b[0;36m__init__\u001b[0;34m(self, **kwargs)\u001b[0m\n\u001b[1;32m   3058\u001b[0m     \u001b[0;31m# without a from __future__ import with_statement\u001b[0m\u001b[0;34m\u001b[0m\u001b[0;34m\u001b[0m\u001b[0m\n\u001b[1;32m   3059\u001b[0m \u001b[0;34m\u001b[0m\u001b[0m\n\u001b[0;32m-> 3060\u001b[0;31m     \u001b[0;32mdef\u001b[0m \u001b[0m__init__\u001b[0m\u001b[0;34m(\u001b[0m\u001b[0mself\u001b[0m\u001b[0;34m,\u001b[0m \u001b[0;34m**\u001b[0m\u001b[0mkwargs\u001b[0m\u001b[0;34m)\u001b[0m\u001b[0;34m:\u001b[0m\u001b[0;34m\u001b[0m\u001b[0m\n\u001b[0m\u001b[1;32m   3061\u001b[0m         \u001b[0mself\u001b[0m\u001b[0;34m.\u001b[0m\u001b[0mcall\u001b[0m \u001b[0;34m=\u001b[0m \u001b[0mkwargs\u001b[0m\u001b[0;34m.\u001b[0m\u001b[0mpop\u001b[0m\u001b[0;34m(\u001b[0m\u001b[0;34m'call'\u001b[0m\u001b[0;34m,\u001b[0m \u001b[0m_Unspecified\u001b[0m\u001b[0;34m)\u001b[0m\u001b[0;34m\u001b[0m\u001b[0m\n\u001b[1;32m   3062\u001b[0m         \u001b[0mself\u001b[0m\u001b[0;34m.\u001b[0m\u001b[0mkwargs\u001b[0m \u001b[0;34m=\u001b[0m \u001b[0mkwargs\u001b[0m\u001b[0;34m\u001b[0m\u001b[0m\n",
      "\u001b[0;31mKeyboardInterrupt\u001b[0m: "
     ]
    }
   ],
   "source": [
    "best_exclude = frozenset(['Zane'])\n",
    "best_scores = Meta(best_exclude).equality_errors(n=1000)\n",
    "\n",
    "while True:\n",
    "    next_best_exclude = best_exclude\n",
    "    next_best_scores = best_scores\n",
    "    \n",
    "    for char in blind_pick_counts.index:\n",
    "        if char in best_exclude:\n",
    "            next_exclude = best_exclude - set([char])\n",
    "        else:\n",
    "            next_exclude = best_exclude | set([char])\n",
    "        print(\"Trying\", next_exclude)\n",
    "        \n",
    "        next_scores = Meta(next_exclude).equality_errors(n=1000)\n",
    "        print(\"Found scores\", next_scores)\n",
    "        \n",
    "        if next_scores[0] < next_best_scores[0]:\n",
    "            next_best_exclude = next_exclude\n",
    "            next_best_scores = next_scores\n",
    "    \n",
    "    if next_best_exclude == best_exclude:\n",
    "        break\n",
    "    else:\n",
    "        print(\"Found better scores\", next_best_exclude, next_best_scores)\n",
    "        best_exclude = next_best_exclude\n",
    "        best_scores = next_best_scores\n",
    "        \n",
    "print(\"Best scores\", best_exclude, best_scores)"
   ]
  },
  {
   "cell_type": "code",
   "execution_count": 15,
   "metadata": {
    "scrolled": false
   },
   "outputs": [
    {
     "data": {
      "text/plain": [
       "character_1\n",
       "Jaina         0.022745\n",
       "Menelker      0.028403\n",
       "Persephone    0.028630\n",
       "Midori        0.031006\n",
       "Vendetta      0.032138\n",
       "Valerie       0.033835\n",
       "Gloria        0.034174\n",
       "Quince        0.037230\n",
       "Bbb           0.037796\n",
       "Gwen          0.039719\n",
       "Lum           0.042662\n",
       "Onimaru       0.046283\n",
       "Rook          0.046735\n",
       "Grave         0.053072\n",
       "Argagarg      0.068236\n",
       "Degrey        0.069820\n",
       "Geiger        0.072310\n",
       "Setsuki       0.078873\n",
       "Troq          0.091207\n",
       "Zane          0.105126\n",
       "dtype: float64"
      ]
     },
     "execution_count": 15,
     "metadata": {},
     "output_type": "execute_result"
    }
   ],
   "source": [
    "m = historical_record[historical_record.standard_format][['character_1', 'character_2', 'wins_1', 'wins_2']]\n",
    "by_c = m.groupby('character_1').sum()\n",
    "hist_counts = by_c['wins_1'] + by_c['wins_2']\n",
    "hist_fracs = (hist_counts / hist_counts.sum()).sort_values()\n",
    "hist_fracs"
   ]
  },
  {
   "cell_type": "code",
   "execution_count": 16,
   "metadata": {},
   "outputs": [
    {
     "name": "stdout",
     "output_type": "stream",
     "text": [
      "0.0715261149542\n",
      "0.100578253715\n",
      "0.100780438853\n"
     ]
    }
   ],
   "source": [
    "from numpy.linalg import norm\n",
    "\n",
    "print(norm(estimated_fracs - baseline[estimated_fracs.index]))\n",
    "print(norm(pandas.Series(data=estimated_fracs, index=baseline.index).fillna(0) - baseline))\n",
    "print(norm(hist_fracs - baseline))"
   ]
  },
  {
   "cell_type": "code",
   "execution_count": null,
   "metadata": {
    "collapsed": true
   },
   "outputs": [],
   "source": []
  }
 ],
 "metadata": {
  "kernelspec": {
   "display_name": "Python 3",
   "language": "python",
   "name": "python3"
  },
  "language_info": {
   "codemirror_mode": {
    "name": "ipython",
    "version": 3
   },
   "file_extension": ".py",
   "mimetype": "text/x-python",
   "name": "python",
   "nbconvert_exporter": "python",
   "pygments_lexer": "ipython3",
   "version": "3.6.1"
  }
 },
 "nbformat": 4,
 "nbformat_minor": 2
}
