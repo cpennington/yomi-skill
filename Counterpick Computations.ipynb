{
 "cells": [
  {
   "cell_type": "code",
   "execution_count": 1,
   "metadata": {
    "collapsed": true
   },
   "outputs": [],
   "source": [
    "%load_ext autoreload\n",
    "%autoreload 2"
   ]
  },
  {
   "cell_type": "code",
   "execution_count": 2,
   "metadata": {
    "collapsed": true
   },
   "outputs": [],
   "source": [
    "url = 'https://docs.google.com/spreadsheets/d/1HcdISgCl3s4RpWkJa8m-G1JjfKzd8qf2WY2Xcw32D7U/pub?gid=1371955398&single=true&output=csv'"
   ]
  },
  {
   "cell_type": "code",
   "execution_count": 3,
   "metadata": {
    "collapsed": true
   },
   "outputs": [],
   "source": [
    "def full_cast_counterpick(row):\n",
    "    full_cast_events = [\n",
    "        \"IYL Season 1\",\n",
    "        \"IYL Season 2\",\n",
    "        \"IYL Season 3\",\n",
    "        \"IYL Season 4\",\n",
    "        \"IYL Season 5\",\n",
    "        \"NFTT Round 1\",\n",
    "        \"NFTT Round 2\",\n",
    "        \"NFTT Round 3\",\n",
    "        \"NFTT Round 4\",\n",
    "        \"NFTT Round 5\",\n",
    "        \"NFTT Round 6\",\n",
    "        \"NFTT Round 7\",\n",
    "        \"NFTT Round 8\",\n",
    "        \"Summer Smash\",\n",
    "        \"Summer Smash II\",\n",
    "        \"Summer Smash III\",\n",
    "        \"Summer Smash IV\",\n",
    "    ]\n",
    "    return not any([\n",
    "        row.char_select_random,\n",
    "        row.char_select_locked,\n",
    "        row.event not in full_cast_events\n",
    "    ]) "
   ]
  },
  {
   "cell_type": "code",
   "execution_count": 4,
   "metadata": {
    "collapsed": true
   },
   "outputs": [],
   "source": [
    "import pandas\n",
    "import re\n",
    "\n",
    "historical_record = pandas.read_csv(url)\n",
    "historical_record['Match Date'] = pandas.to_datetime(historical_record['Match Date'], infer_datetime_format=True)\n",
    "historical_record.columns = [re.sub('\\W+', '_', col.lower()).strip('_') for col in historical_record.columns]\n",
    "historical_record.format_restricted.replace(to_replace=['.', 'Restricted'], value=[False, True], inplace=True)\n",
    "historical_record.format_team.replace(to_replace=['.', 'Team'], value=[False, True], inplace=True)\n",
    "historical_record.char_select_random.replace(to_replace=['.', 'Random'], value=[False, True], inplace=True)\n",
    "historical_record.char_select_locked.replace(to_replace=['.', 'Locked'], value=[False, True], inplace=True)\n",
    "historical_record.set_length_non_ft3_ft4.replace(to_replace=['.', 'non-FT3/FT4'], value=[False, True], inplace=True)\n",
    "historical_record.set_win_1 = historical_record.set_win_1.fillna(0)\n",
    "historical_record.set_win_2 = historical_record.set_win_2.fillna(0)\n",
    "historical_record.wins_1 = historical_record.wins_1.fillna(0)\n",
    "historical_record.wins_2 = historical_record.wins_2.fillna(0)\n",
    "historical_record['standard_format'] = historical_record.apply(full_cast_counterpick, axis=1)\n",
    "historical_record.character_1 = historical_record.character_1.apply(lambda n: n.title())\n",
    "historical_record.character_2 = historical_record.character_2.apply(lambda n: n.title())"
   ]
  },
  {
   "cell_type": "markdown",
   "metadata": {},
   "source": [
    "Recurrence Relation:\n",
    "  * `meta_impact(m, n) = 1 + counterpicks_2 * mu_win * meta_impact(m-1, n) + counterpicks_1 * (1 - mu_win) * meta_impact(m, n-1)`\n",
    "  * `meta_impact(0, n) = 0`\n",
    "  * `meta_impact(m, 0) = 0`\n",
    "\n",
    "Counterpicks:\n",
    "\n",
    "  * Pmn = Probability of match m/n\n",
    "  * Wmn = Probability of m winning match m/n\n",
    "  * Cmn = Probability of counterpicking m with n\n",
    "\n",
    "\n",
    "    Paa = Waa * Caa + Wab * Caa + Wba * 0   + Wbb * 0\n",
    "    Pab = Waa * Cab + Wab * Cab + Wba * 0   + Wbb * 0\n",
    "    Pba = Waa * 0   + Wab * 0   + Wba * Cba + Wbb * Cba\n",
    "    Pbb = Waa * 0   + Wab * 0   + Wba * Cbb + Wbb * Cbb\n",
    "    [Caa, Caa, 0,   0      [Waa\n",
    "     Cab, Cab, 0,   0       Wab\n",
    "     0,   0,   Cba, Cba     Wba\n",
    "     0,   0,   Cbb, Cbb] *  Wbb]\n",
    "    \n",
    "    Paa = (1-Waa) * Caa + (1-Wab) * 0   + (1-Wba) * Caa + (1-Wbb) * 0\n",
    "    Pab = (1-Waa) * 0   + (1-Wab) * Cba + (1-Wba) * 0   + (1-Wbb) * Cba\n",
    "    Pba = (1-Waa) * Cab + (1-Wab) * 0   + (1-Wba) * Cab + (1-Wbb) * 0\n",
    "    Pbb = (1-Waa) * 0   + (1-Wab) * Cbb + (1-Wba) * 0   + (1-Wbb) * Cbb\n",
    "    [Caa, 0,   Caa, 0          [Waa\n",
    "     0,   Cba, 0,   Cba         Wab\n",
    "     Cab, 0,   Cab, 0           Wba\n",
    "     0,   Cbb, 0,   Cbb] * 1 -  Wbb]"
   ]
  },
  {
   "cell_type": "code",
   "execution_count": 5,
   "metadata": {
    "collapsed": true
   },
   "outputs": [],
   "source": [
    "def counterpicks(matches):\n",
    "    for pick, counterpick in zip(matches, matches[1:] + [None]):\n",
    "        if counterpick is None:\n",
    "            if matches[0]['set_win_1']:\n",
    "                for _ in range(int(pick['wins_1']) - 1):\n",
    "                    yield (pick['character_1'], pick['character_2'])\n",
    "                for _ in range(int(pick['wins_2'])):\n",
    "                    yield (pick['character_2'], pick['character_1'])\n",
    "            else:\n",
    "                for _ in range(int(pick['wins_1'])):\n",
    "                    yield (pick['character_1'], pick['character_2'])\n",
    "                for _ in range(int(pick['wins_2'] - 1)):\n",
    "                    yield (pick['character_2'], pick['character_1'])\n",
    "                \n",
    "        else:\n",
    "            if pick['character_1'] != counterpick['character_1']:\n",
    "                for _ in range(int(pick['wins_1'])):\n",
    "                    yield (pick['character_1'], pick['character_2'])\n",
    "                for _ in range(int(pick['wins_2'] - 1)):\n",
    "                    yield (pick['character_2'], pick['character_1'])\n",
    "                yield (pick['character_2'], counterpick['character_1'])\n",
    "            else:\n",
    "                for _ in range(int(pick['wins_1'] - 1)):\n",
    "                    yield (pick['character_1'], pick['character_2'])\n",
    "                for _ in range(int(pick['wins_2'])):\n",
    "                    yield (pick['character_2'], pick['character_1'])\n",
    "                yield (pick['character_1'], counterpick['character_2'])"
   ]
  },
  {
   "cell_type": "code",
   "execution_count": 6,
   "metadata": {
    "collapsed": true
   },
   "outputs": [],
   "source": [
    "sets = historical_record[historical_record.standard_format].groupby(['match_date', 'event', 'player_1', 'player_2'])"
   ]
  },
  {
   "cell_type": "code",
   "execution_count": 7,
   "metadata": {
    "collapsed": true
   },
   "outputs": [],
   "source": [
    "cast = historical_record[historical_record.standard_format].character_1.unique()\n",
    "matchups = [(l, r) for l in cast for r in cast]"
   ]
  },
  {
   "cell_type": "code",
   "execution_count": 8,
   "metadata": {
    "collapsed": true
   },
   "outputs": [],
   "source": [
    "counterpick_counts = pandas.DataFrame(\n",
    "    data=(\n",
    "        {'pick': pick, 'counter': counter}\n",
    "        for (key, set) in sets\n",
    "        for (pick, counter) in counterpicks([row for (ix, row) in set.iterrows()])\n",
    "    )\n",
    ").groupby(['pick', 'counter']).size().reindex(\n",
    "    pandas.MultiIndex.from_product([cast, cast], names=['pick', 'counter'])\n",
    ").fillna(0)"
   ]
  },
  {
   "cell_type": "code",
   "execution_count": 9,
   "metadata": {
    "collapsed": true
   },
   "outputs": [],
   "source": [
    "blind_picks = pandas.DataFrame(\n",
    "    {\n",
    "        'character_1': list(set['character_1'])[0],\n",
    "        'character_2': list(set['character_2'])[0],\n",
    "    }\n",
    "    for (key, set) in sets\n",
    ")\n",
    "\n",
    "blind_pick_counts = blind_picks['character_1'].append(blind_picks['character_2']).value_counts()"
   ]
  },
  {
   "cell_type": "code",
   "execution_count": 10,
   "metadata": {
    "collapsed": true
   },
   "outputs": [],
   "source": [
    "half_matchup = historical_record.groupby(['character_1', 'character_2']).sum()[['wins_1', 'wins_2']]\n",
    "reversed_matchup = half_matchup.reset_index().rename(columns={\n",
    "    'character_1': 'character_2',\n",
    "    'character_2': 'character_1',\n",
    "    'wins_1': 'wins_2',\n",
    "    'wins_2': 'wins_1',\n",
    "}).set_index(['character_1', 'character_2'])\n",
    "matchup_pcts = (half_matchup + reversed_matchup).apply(lambda r: r['wins_1']/(r['wins_1'] + r['wins_2']), axis=1).loc[matchups]"
   ]
  },
  {
   "cell_type": "code",
   "execution_count": 11,
   "metadata": {
    "collapsed": true
   },
   "outputs": [],
   "source": [
    "identity = pandas.DataFrame({\n",
    "    current: {\n",
    "        target: 1 if target == current else 0\n",
    "        for target in matchups\n",
    "    } for current in matchups\n",
    "})"
   ]
  },
  {
   "cell_type": "markdown",
   "metadata": {},
   "source": [
    "## Computational"
   ]
  },
  {
   "cell_type": "code",
   "execution_count": 12,
   "metadata": {
    "collapsed": true
   },
   "outputs": [],
   "source": [
    "# mu_win = pandas.DataFrame(\n",
    "#     data=matchup_pcts.loc[cast].values,\n",
    "#     #index=matchup_pcts.reset_index().apply(lambda r: (r.character_1, r.character_2), axis=1),\n",
    "#     index=pandas.MultiIndex.from_product([cast, cast], names=['character_1', 'character_2']),\n",
    "# ).loc[matchups]\n",
    "blind_pcts = blind_pick_counts / blind_pick_counts.sum()\n",
    "blind_mu_pcts = pandas.Series(\n",
    "    data=[pct_l*pct_r for pct_l in blind_pcts.values for pct_r in blind_pcts.values],\n",
    "    index=pandas.MultiIndex.from_product([blind_pcts.index, blind_pcts.index])\n",
    ")"
   ]
  },
  {
   "cell_type": "code",
   "execution_count": 13,
   "metadata": {
    "collapsed": true
   },
   "outputs": [],
   "source": [
    "import itertools\n",
    "\n",
    "class Meta:\n",
    "    def __init__(self, exclude=[]):\n",
    "        self.mu_exclude = exclude + list(itertools.product(cast, exclude))\n",
    "        self.mu_include = list(set(cast) - set(self.mu_exclude))\n",
    "        self.blind_mu_pcts = blind_mu_pcts.drop(self.mu_exclude)\n",
    "        self.blind_mu_pcts /= self.blind_mu_pcts.sum()\n",
    "        \n",
    "        self.matchups = [(l, r) for (l, r) in matchups if l not in exclude and r not in exclude]\n",
    "        \n",
    "        self.win_count = pandas.DataFrame({\n",
    "            matchup: {\n",
    "                c: 1 if c == matchup[0] else 0\n",
    "                for c in self.mu_include\n",
    "            } for matchup in self.matchups\n",
    "        })\n",
    "        \n",
    "        self.lose_count = pandas.DataFrame({\n",
    "            matchup: {\n",
    "                c: 1 if c == matchup[1] else 0\n",
    "                for c in self.mu_include\n",
    "            } for matchup in self.matchups\n",
    "        })\n",
    "        \n",
    "        self.counterpick_pcts = counterpick_counts.drop(self.mu_exclude).groupby('pick').apply(lambda g: g / g.sum())\n",
    "        self.counterpicks_2 = pandas.DataFrame({\n",
    "            before: {\n",
    "                after: 0 if before[0] != after[0] else self.counterpick_pcts.loc[before[0], after[1]]\n",
    "                for after in self.matchups\n",
    "            } for before in self.matchups\n",
    "        })\n",
    "        \n",
    "        self.counterpicks_1 = pandas.DataFrame({\n",
    "            before: {\n",
    "                after: 0 if before[1] != after[1] else self.counterpick_pcts.loc[before[1], after[0]]\n",
    "                for after in self.matchups\n",
    "            } for before in self.matchups\n",
    "        })\n",
    "        \n",
    "        self.matchup_pct_win = pandas.DataFrame({\n",
    "            current: {\n",
    "                target: matchup_pcts[current] if current == target else 0\n",
    "                for target in self.matchups\n",
    "            } for current in self.matchups\n",
    "        })\n",
    "        self.matchup_pct_lose = pandas.DataFrame({\n",
    "            current: {\n",
    "                target: 1-matchup_pcts[current] if current == target else 0\n",
    "                for target in self.matchups\n",
    "            } for current in self.matchups\n",
    "        })\n",
    "\n",
    "        self._meta_influence = {}\n",
    "\n",
    "    def _matchup_influence(self, remaining_wins_1, remaining_wins_2):\n",
    "        ix = (remaining_wins_1, remaining_wins_2)\n",
    "        if ix not in self._meta_influence:\n",
    "            if remaining_wins_1 == 0:\n",
    "                self._meta_influence[ix] = self.win_count * 0\n",
    "            elif remaining_wins_2 == 0:\n",
    "                self._meta_influence[ix] = self.win_count * 0\n",
    "            else:\n",
    "                inf_win = self._matchup_influence(remaining_wins_1 - 1, remaining_wins_2)\n",
    "                inf_lose = self._matchup_influence(remaining_wins_1, remaining_wins_2 - 1)\n",
    "                self._meta_influence[ix] = (\n",
    "                    (inf_win.dot(self.counterpicks_2) + self.win_count).dot(self.matchup_pct_win) +\n",
    "                    (inf_lose.dot(self.counterpicks_1) + self.lose_count).dot(self.matchup_pct_lose)\n",
    "                )\n",
    "\n",
    "\n",
    "        return self._meta_influence[ix]\n",
    "\n",
    "    def matchup_influence(self, remaining_wins_1, remaining_wins_2):\n",
    "        return self._matchup_influence(remaining_wins_1, remaining_wins_2).dot(self.blind_mu_pcts)\n",
    "    \n",
    "    def character_influence(self, remaining_wins_1, remaining_wins_2):\n",
    "        mus = self.matchup_influence(remaining_wins_1, remaining_wins_2)\n",
    "        return pandas.Series({\n",
    "            c: mus.loc[(mus.index.get_level_values(0) == c) | (mus.index.get_level_values(1) == c)].sum()\n",
    "            for c in self.mu_include\n",
    "        })"
   ]
  },
  {
   "cell_type": "code",
   "execution_count": 38,
   "metadata": {
    "scrolled": false
   },
   "outputs": [
    {
     "name": "stdout",
     "output_type": "stream",
     "text": [
      "{'Gloria', 'Jaina', 'Gwen', 'Quince', 'Bbb', 'Persephone'}\n",
      "0.262000241851 0.117197932303\n",
      "{'Gloria', 'Jaina', 'Quince', 'Bbb', 'Setsuki', 'Persephone'}\n",
      "0.336606646803 0.0982284790259\n",
      "{'Gloria', 'Jaina', 'Quince', 'Bbb', 'Troq', 'Persephone'}"
     ]
    },
    {
     "name": "stderr",
     "output_type": "stream",
     "text": [
      "/home/cpennington/.pyenv/versions/3.6.1/lib/python3.6/site-packages/ipykernel_launcher.py:7: PerformanceWarning: dropping on a non-lexsorted multi-index without a level parameter may impact performance.\n",
      "  import sys\n",
      "/home/cpennington/.pyenv/versions/3.6.1/lib/python3.6/site-packages/ipykernel_launcher.py:26: PerformanceWarning: dropping on a non-lexsorted multi-index without a level parameter may impact performance.\n"
     ]
    },
    {
     "name": "stdout",
     "output_type": "stream",
     "text": [
      "\n",
      "0.259826134428 0.12538955202\n",
      "{'Gloria', 'Jaina', 'Quince', 'Bbb', 'Degrey', 'Persephone'}\n",
      "0.264192394326 0.13318823315\n",
      "{'Gloria', 'Jaina', 'Quince', 'Bbb', 'Persephone', 'Zane'}\n",
      "0.378043781514 0.102594530139\n",
      "{'Gloria', 'Jaina', 'Quince', 'Bbb', 'Persephone', 'Midori'}\n",
      "0.193030070273 0.127851371446\n",
      "{'Gloria', 'Jaina', 'Quince', 'Bbb', 'Grave', 'Persephone'}\n",
      "0.229758223565 0.133997347452\n",
      "{'Gloria', 'Jaina', 'Quince', 'Bbb', 'Geiger', 'Persephone'}\n",
      "0.305841239687 0.119504946996\n",
      "{'Gloria', 'Jaina', 'Quince', 'Bbb', 'Persephone', 'Menelker'}\n",
      "0.22805312429 0.145832524448\n",
      "{'Gloria', 'Lum', 'Jaina', 'Quince', 'Bbb', 'Persephone'}\n",
      "0.229427326501 0.132498906257\n",
      "{'Gloria', 'Jaina', 'Quince', 'Bbb', 'Persephone'}\n",
      "0.22667398562 0.173676193454\n",
      "{'Gloria', 'Jaina', 'Rook', 'Quince', 'Bbb', 'Persephone'}\n",
      "0.21054207543 0.136119584476\n",
      "{'Gloria', 'Jaina', 'Quince', 'Bbb', 'Persephone'}\n",
      "0.22667398562 0.173676193454\n",
      "{'Gloria', 'Jaina', 'Quince', 'Bbb', 'Onimaru', 'Persephone'}\n",
      "0.197141299752 0.136851944786\n",
      "{'Gloria', 'Jaina', 'Quince', 'Bbb', 'Vendetta', 'Persephone'}\n",
      "0.203556191464 0.149020891758\n",
      "{'Gloria', 'Jaina', 'Quince', 'Bbb', 'Persephone'}\n",
      "0.22667398562 0.173676193454\n",
      "{'Gloria', 'Jaina', 'Quince', 'Bbb', 'Persephone', 'Argagarg'}\n",
      "0.250230135312 0.11569974902\n",
      "{'Gloria', 'Jaina', 'Quince', 'Bbb', 'Valerie', 'Persephone'}\n",
      "0.20749322536 0.132664700067\n",
      "{'Gloria', 'Jaina', 'Quince', 'Bbb', 'Persephone'}\n",
      "0.22667398562 0.173676193454\n",
      "{'Gloria', 'Jaina', 'Quince', 'Bbb', 'Persephone'}\n",
      "0.22667398562 0.173676193454\n"
     ]
    }
   ],
   "source": [
    "from numpy.linalg import norm\n",
    "\n",
    "for c in cast:\n",
    "    include = ['Jaina', 'Persephone', 'Gloria', 'Quince', 'Bbb', c]\n",
    "    exclude = list(set(cast) - set(include))\n",
    "    print(set(include))\n",
    "    meta = Meta(exclude)\n",
    "    inf = meta.matchup_influence(4, 4)\n",
    "    norm_inf = inf / inf.sum()\n",
    "    #print(norm(norm_inf - pandas.Series(data=1/(len(inf)), index=inf.index), ord=2))\n",
    "\n",
    "#     print(\"Expected wins\")\n",
    "#     for char, wins in inf.sort_values(ascending=False).iteritems():\n",
    "#         print(f\"1. {char}: {wins:.3}\")\n",
    "#     print(inf.sum())\n",
    "    print(norm_inf.max(), norm_inf.min())\n",
    "#     print(\"Percent wins\")\n",
    "#     for char, pct in (norm_inf * 100).sort_values(ascending=False).iteritems():\n",
    "#         print(f\"1. {char}: {pct:.3}\")"
   ]
  },
  {
   "cell_type": "code",
   "execution_count": null,
   "metadata": {
    "collapsed": true
   },
   "outputs": [],
   "source": []
  }
 ],
 "metadata": {
  "kernelspec": {
   "display_name": "Python 3",
   "language": "python",
   "name": "python3"
  },
  "language_info": {
   "codemirror_mode": {
    "name": "ipython",
    "version": 3
   },
   "file_extension": ".py",
   "mimetype": "text/x-python",
   "name": "python",
   "nbconvert_exporter": "python",
   "pygments_lexer": "ipython3",
   "version": "3.6.1"
  }
 },
 "nbformat": 4,
 "nbformat_minor": 2
}
