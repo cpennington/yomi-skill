{
 "cells": [
  {
   "cell_type": "code",
   "execution_count": 1,
   "metadata": {},
   "outputs": [],
   "source": [
    "%load_ext autoreload\n",
    "%autoreload 2"
   ]
  },
  {
   "cell_type": "code",
   "execution_count": 2,
   "metadata": {},
   "outputs": [],
   "source": [
    "from model import YomiModel"
   ]
  },
  {
   "cell_type": "code",
   "execution_count": 50,
   "metadata": {},
   "outputs": [],
   "source": [
    "models = dict(\n",
    "    skill_mult_with_char_skill=YomiModel(\n",
    "        \"skill_mult_player_tournament_part_pooled_char_skill.stan\",\n",
    "        [\n",
    "            'skill', 'mu', 'muv', 'player_skill', 'baseline_skill',\n",
    "            'tournament_variance', 'player_variance', 'log_lik', 'win_hat',\n",
    "            'char_skill',\n",
    "        ]\n",
    "    ),\n",
    "    skill_mult_pooled=YomiModel(\n",
    "        \"skill_mult_player_tournament_part_pooled.stan\",\n",
    "        [\n",
    "            'skill', 'mu', 'muv', 'player_skill', 'baseline_skill',\n",
    "            'tournament_variance', 'player_variance', 'log_lik', 'win_hat',\n",
    "        ]\n",
    "    ),\n",
    "    skill_mult=YomiModel(\n",
    "        \"skill_mult_player_tournament.stan\",\n",
    "        [\n",
    "            'skill', 'mu', 'muv', 'log_lik', 'win_hat',\n",
    "        ]\n",
    "    ),\n",
    "    player_tournament_only=YomiModel(\n",
    "        \"player_tournament.stan\",\n",
    "        [\n",
    "            'skill', 'mu', 'log_lik', 'win_hat',\n",
    "        ]\n",
    "    ),\n",
    "    char_skill_only=YomiModel(\n",
    "        \"char_skill_only.stan\",\n",
    "        [\n",
    "            'char_skill', 'mu', 'log_lik', 'win_hat',\n",
    "        ]                      \n",
    "    ),\n",
    "    player_tournament_pooled=YomiModel(\n",
    "        \"player_tournament_part_pool.stan\",\n",
    "        [\n",
    "            'skill', 'mu', 'player_skill', 'raw_player_skill', 'raw_skill', 'baseline_skill', 'tournament_variance', 'player_variance',\n",
    "            'log_lik', 'win_hat',\n",
    "        ]                      \n",
    "    ),\n",
    "    player_tournament_min_pooled=YomiModel(\n",
    "        \"player_tournament_min_pool.stan\",\n",
    "        [\n",
    "            'skill', 'mu', 'player_skill', 'global_player_skill', 'player_variance', 'tournament_variance', 'skill_in_tournament',\n",
    "            'log_lik', 'win_hat',\n",
    "        ]                      \n",
    "    ),\n",
    "    player_tournament_pooled_char_skill=YomiModel(\n",
    "        \"player_tournament_part_pool_char_skill.stan\",\n",
    "        [\n",
    "            'skill', 'char_skill', 'mu', 'player_skill', 'baseline_skill', 'tournament_variance', 'player_variance',\n",
    "            'log_lik', 'win_hat',\n",
    "        ]                      \n",
    "    ),\n",
    "#     player_tournament_char_skill=YomiModel(\n",
    "#         \"player_tournament_char_skill.stan\",\n",
    "#         [\n",
    "#             'skill', 'char_skill', 'mu', 'log_lik', 'win_hat',\n",
    "#         ]                      \n",
    "#     )\n",
    ")"
   ]
  },
  {
   "cell_type": "code",
   "execution_count": 51,
   "metadata": {},
   "outputs": [
    {
     "name": "stderr",
     "output_type": "stream",
     "text": [
      "/usr/local/lib/python3.7/site-packages/arviz/stats/stats.py:401: UserWarning: Estimated shape parameter of Pareto distribution is greater than 0.7 for\n",
      "        one or more samples. You should consider using a more robust model, this is because\n",
      "        importance sampling is less likely to work well if the marginal posterior and LOO posterior\n",
      "        are very different. This is more likely to happen with a non-robust model and highly\n",
      "        influential observations.\n",
      "  influential observations.\"\"\"\n",
      "/usr/local/lib/python3.7/site-packages/arviz/stats/stats.py:401: UserWarning: Estimated shape parameter of Pareto distribution is greater than 0.7 for\n",
      "        one or more samples. You should consider using a more robust model, this is because\n",
      "        importance sampling is less likely to work well if the marginal posterior and LOO posterior\n",
      "        are very different. This is more likely to happen with a non-robust model and highly\n",
      "        influential observations.\n",
      "  influential observations.\"\"\"\n",
      "/usr/local/lib/python3.7/site-packages/arviz/stats/stats.py:401: UserWarning: Estimated shape parameter of Pareto distribution is greater than 0.7 for\n",
      "        one or more samples. You should consider using a more robust model, this is because\n",
      "        importance sampling is less likely to work well if the marginal posterior and LOO posterior\n",
      "        are very different. This is more likely to happen with a non-robust model and highly\n",
      "        influential observations.\n",
      "  influential observations.\"\"\"\n"
     ]
    },
    {
     "data": {
      "text/html": [
       "<div>\n",
       "<style scoped>\n",
       "    .dataframe tbody tr th:only-of-type {\n",
       "        vertical-align: middle;\n",
       "    }\n",
       "\n",
       "    .dataframe tbody tr th {\n",
       "        vertical-align: top;\n",
       "    }\n",
       "\n",
       "    .dataframe thead th {\n",
       "        text-align: right;\n",
       "    }\n",
       "</style>\n",
       "<table border=\"1\" class=\"dataframe\">\n",
       "  <thead>\n",
       "    <tr style=\"text-align: right;\">\n",
       "      <th></th>\n",
       "      <th>loo</th>\n",
       "      <th>ploo</th>\n",
       "      <th>dloo</th>\n",
       "      <th>weight</th>\n",
       "      <th>se</th>\n",
       "      <th>dse</th>\n",
       "      <th>warning</th>\n",
       "    </tr>\n",
       "  </thead>\n",
       "  <tbody>\n",
       "    <tr>\n",
       "      <th>player_tournament_pooled</th>\n",
       "      <td>29029.1</td>\n",
       "      <td>492.002</td>\n",
       "      <td>0</td>\n",
       "      <td>2.86548e-13</td>\n",
       "      <td>63.7121</td>\n",
       "      <td>0</td>\n",
       "      <td>0</td>\n",
       "    </tr>\n",
       "    <tr>\n",
       "      <th>player_tournament_min_pooled</th>\n",
       "      <td>29029.3</td>\n",
       "      <td>487.459</td>\n",
       "      <td>0.192899</td>\n",
       "      <td>0.305182</td>\n",
       "      <td>63.6972</td>\n",
       "      <td>1.16676</td>\n",
       "      <td>0</td>\n",
       "    </tr>\n",
       "    <tr>\n",
       "      <th>skill_mult_pooled</th>\n",
       "      <td>29059.7</td>\n",
       "      <td>631.208</td>\n",
       "      <td>30.6064</td>\n",
       "      <td>0.151926</td>\n",
       "      <td>63.1017</td>\n",
       "      <td>20.438</td>\n",
       "      <td>1</td>\n",
       "    </tr>\n",
       "    <tr>\n",
       "      <th>skill_mult</th>\n",
       "      <td>29169.6</td>\n",
       "      <td>957.11</td>\n",
       "      <td>140.463</td>\n",
       "      <td>0</td>\n",
       "      <td>73.7185</td>\n",
       "      <td>39.1306</td>\n",
       "      <td>1</td>\n",
       "    </tr>\n",
       "    <tr>\n",
       "      <th>skill_mult_with_char_skill</th>\n",
       "      <td>29195.1</td>\n",
       "      <td>1031.02</td>\n",
       "      <td>165.97</td>\n",
       "      <td>0.213409</td>\n",
       "      <td>70.1154</td>\n",
       "      <td>38.3356</td>\n",
       "      <td>1</td>\n",
       "    </tr>\n",
       "    <tr>\n",
       "      <th>player_tournament_only</th>\n",
       "      <td>29383.9</td>\n",
       "      <td>1545.87</td>\n",
       "      <td>354.787</td>\n",
       "      <td>0.329484</td>\n",
       "      <td>100.453</td>\n",
       "      <td>62.8323</td>\n",
       "      <td>0</td>\n",
       "    </tr>\n",
       "    <tr>\n",
       "      <th>player_tournament_pooled_char_skill</th>\n",
       "      <td>29675.9</td>\n",
       "      <td>1509.91</td>\n",
       "      <td>646.806</td>\n",
       "      <td>0</td>\n",
       "      <td>87.2908</td>\n",
       "      <td>54.643</td>\n",
       "      <td>0</td>\n",
       "    </tr>\n",
       "    <tr>\n",
       "      <th>char_skill_only</th>\n",
       "      <td>29708.4</td>\n",
       "      <td>1331.5</td>\n",
       "      <td>679.297</td>\n",
       "      <td>0</td>\n",
       "      <td>85.7122</td>\n",
       "      <td>55.5822</td>\n",
       "      <td>0</td>\n",
       "    </tr>\n",
       "  </tbody>\n",
       "</table>\n",
       "</div>"
      ],
      "text/plain": [
       "                                         loo     ploo      dloo       weight  \\\n",
       "player_tournament_pooled             29029.1  492.002         0  2.86548e-13   \n",
       "player_tournament_min_pooled         29029.3  487.459  0.192899     0.305182   \n",
       "skill_mult_pooled                    29059.7  631.208   30.6064     0.151926   \n",
       "skill_mult                           29169.6   957.11   140.463            0   \n",
       "skill_mult_with_char_skill           29195.1  1031.02    165.97     0.213409   \n",
       "player_tournament_only               29383.9  1545.87   354.787     0.329484   \n",
       "player_tournament_pooled_char_skill  29675.9  1509.91   646.806            0   \n",
       "char_skill_only                      29708.4   1331.5   679.297            0   \n",
       "\n",
       "                                          se      dse warning  \n",
       "player_tournament_pooled             63.7121        0       0  \n",
       "player_tournament_min_pooled         63.6972  1.16676       0  \n",
       "skill_mult_pooled                    63.1017   20.438       1  \n",
       "skill_mult                           73.7185  39.1306       1  \n",
       "skill_mult_with_char_skill           70.1154  38.3356       1  \n",
       "player_tournament_only               100.453  62.8323       0  \n",
       "player_tournament_pooled_char_skill  87.2908   54.643       0  \n",
       "char_skill_only                      85.7122  55.5822       0  "
      ]
     },
     "execution_count": 51,
     "metadata": {},
     "output_type": "execute_result"
    }
   ],
   "source": [
    "import arviz\n",
    "arviz.compare(\n",
    "    dataset_dict={\n",
    "        name: model.sample_infdata(warmup=1500, min_samples=2000)\n",
    "        for name, model\n",
    "        in models.items()\n",
    "    },\n",
    "    ic='loo',\n",
    ")"
   ]
  },
  {
   "cell_type": "code",
   "execution_count": 53,
   "metadata": {},
   "outputs": [
    {
     "name": "stderr",
     "output_type": "stream",
     "text": [
      "INFO:root:Dataframe loading failed\n",
      "Traceback (most recent call last):\n",
      "  File \"/code/model.py\", line 229, in dataframe\n",
      "    fit_results = pandas.DataFrame.from_csv(self.csv_filename)\n",
      "  File \"/usr/local/lib/python3.7/site-packages/pandas/core/frame.py\", line 1579, in from_csv\n",
      "    infer_datetime_format=infer_datetime_format)\n",
      "  File \"/usr/local/lib/python3.7/site-packages/pandas/io/parsers.py\", line 678, in parser_f\n",
      "    return _read(filepath_or_buffer, kwds)\n",
      "  File \"/usr/local/lib/python3.7/site-packages/pandas/io/parsers.py\", line 440, in _read\n",
      "    parser = TextFileReader(filepath_or_buffer, **kwds)\n",
      "  File \"/usr/local/lib/python3.7/site-packages/pandas/io/parsers.py\", line 787, in __init__\n",
      "    self._make_engine(self.engine)\n",
      "  File \"/usr/local/lib/python3.7/site-packages/pandas/io/parsers.py\", line 1014, in _make_engine\n",
      "    self._engine = CParserWrapper(self.f, **self.options)\n",
      "  File \"/usr/local/lib/python3.7/site-packages/pandas/io/parsers.py\", line 1708, in __init__\n",
      "    self._reader = parsers.TextReader(src, **kwds)\n",
      "  File \"pandas/_libs/parsers.pyx\", line 384, in pandas._libs.parsers.TextReader.__cinit__\n",
      "  File \"pandas/_libs/parsers.pyx\", line 695, in pandas._libs.parsers.TextReader._setup_parser_source\n",
      "FileNotFoundError: File b'models/skill_mult_player_tournament_part_pooled/c2f5f88aec62108d51ba83a4d4d51530/fits/warmup-1500/33d8b5a11351670c77e81ea471aa62ef/0.csv' does not exist\n"
     ]
    },
    {
     "name": "stdout",
     "output_type": "stream",
     "text": [
      "Unpickled successfully StanModel object 'anon_model_c2f5f88aec62108d51ba83a4d4d51530' coded as follows:\n",
      "data {\n",
      "    int<lower=0> NPT; // Number of player/tournaments\n",
      "    int<lower=0> NG; // Number of games\n",
      "    int<lower=0> NM; // Number of matchups\n",
      "    int<lower=0> NP; // Number of players\n",
      "\n",
      "    int<lower=0, upper=NPT> prev_tournament[NPT]; // Previous tournament for player/tournament\n",
      "\n",
      "    int<lower=1, upper=NP> tp[NPT]; // Player n game\n",
      "\n",
      "    int<lower=0, upper=1> win[NG]; // Did player 1 win game\n",
      "    int<lower=1, upper=NPT> pt1[NG]; // Player/tournament 1 in game\n",
      "    int<lower=1, upper=NPT> pt2[NG]; // Player/tournament 2 in game\n",
      "    int<lower=1, upper=NM> mup[NG]; // Matchup in game\n",
      "    vector<lower=0, upper=1>[NG] non_mirror; // Is this a mirror matchup: 0 = mirror\n",
      "\n",
      "}\n",
      "parameters {\n",
      "    vector[NPT] raw_skill; // Skill change before player/tournament\n",
      "    vector[NM] mu; // Matchup value\n",
      "    vector<lower=0>[NM] muv; // Matchup skill multiplier\n",
      "    real baseline_skill; // Average baseline player skill\n",
      "    vector[NP] raw_player_skill; //\n",
      "    real<lower=0> tournament_variance; // How much variance is there around a player skill per tournament\n",
      "    real<lower=0> player_variance;\n",
      "}\n",
      "transformed parameters {\n",
      "    vector[NP] player_skill;\n",
      "    vector[NPT] skill;\n",
      "\n",
      "    player_skill = baseline_skill + raw_player_skill * player_variance;\n",
      "    skill = player_skill[tp] + raw_skill * tournament_variance;\n",
      "}\n",
      "model {\n",
      "    baseline_skill ~ std_normal();\n",
      "    raw_player_skill ~ std_normal();\n",
      "    raw_skill ~ std_normal();\n",
      "    mu ~ normal(0, 0.5);\n",
      "    muv ~ std_normal();\n",
      "\n",
      "    win ~ bernoulli_logit(muv[mup] .* (skill[pt1] - skill[pt2]) +  non_mirror .* mu[mup]);\n",
      "}\n",
      "generated quantities{\n",
      "    vector[NG] log_lik;\n",
      "    vector[NG] win_hat;\n",
      "\n",
      "    for (n in 1:NG) {\n",
      "        log_lik[n] = bernoulli_logit_lpmf(win[n] | muv[mup[n]] * (skill[pt1[n]] - skill[pt2[n]]) + non_mirror[n] * mu[mup[n]]);\n",
      "        win_hat[n] = bernoulli_logit_rng( muv[mup[n]] * (skill[pt1[n]] - skill[pt2[n]]) + non_mirror[n] * mu[mup[n]]);\n",
      "    }\n",
      "}\n",
      "\n"
     ]
    },
    {
     "name": "stderr",
     "output_type": "stream",
     "text": [
      "INFO:root:Dataframe loading failed\n",
      "Traceback (most recent call last):\n",
      "  File \"/code/model.py\", line 229, in dataframe\n",
      "    fit_results = pandas.DataFrame.from_csv(self.csv_filename)\n",
      "  File \"/usr/local/lib/python3.7/site-packages/pandas/core/frame.py\", line 1579, in from_csv\n",
      "    infer_datetime_format=infer_datetime_format)\n",
      "  File \"/usr/local/lib/python3.7/site-packages/pandas/io/parsers.py\", line 678, in parser_f\n",
      "    return _read(filepath_or_buffer, kwds)\n",
      "  File \"/usr/local/lib/python3.7/site-packages/pandas/io/parsers.py\", line 440, in _read\n",
      "    parser = TextFileReader(filepath_or_buffer, **kwds)\n",
      "  File \"/usr/local/lib/python3.7/site-packages/pandas/io/parsers.py\", line 787, in __init__\n",
      "    self._make_engine(self.engine)\n",
      "  File \"/usr/local/lib/python3.7/site-packages/pandas/io/parsers.py\", line 1014, in _make_engine\n",
      "    self._engine = CParserWrapper(self.f, **self.options)\n",
      "  File \"/usr/local/lib/python3.7/site-packages/pandas/io/parsers.py\", line 1708, in __init__\n",
      "    self._reader = parsers.TextReader(src, **kwds)\n",
      "  File \"pandas/_libs/parsers.pyx\", line 384, in pandas._libs.parsers.TextReader.__cinit__\n",
      "  File \"pandas/_libs/parsers.pyx\", line 695, in pandas._libs.parsers.TextReader._setup_parser_source\n",
      "FileNotFoundError: File b'models/skill_mult_player_tournament_part_pooled/c2f5f88aec62108d51ba83a4d4d51530/fits/warmup-1500/33d8b5a11351670c77e81ea471aa62ef/1.csv' does not exist\n",
      "INFO:root:Dataframe loading failed\n",
      "Traceback (most recent call last):\n",
      "  File \"/code/model.py\", line 229, in dataframe\n",
      "    fit_results = pandas.DataFrame.from_csv(self.csv_filename)\n",
      "  File \"/usr/local/lib/python3.7/site-packages/pandas/core/frame.py\", line 1579, in from_csv\n",
      "    infer_datetime_format=infer_datetime_format)\n",
      "  File \"/usr/local/lib/python3.7/site-packages/pandas/io/parsers.py\", line 678, in parser_f\n",
      "    return _read(filepath_or_buffer, kwds)\n",
      "  File \"/usr/local/lib/python3.7/site-packages/pandas/io/parsers.py\", line 440, in _read\n",
      "    parser = TextFileReader(filepath_or_buffer, **kwds)\n",
      "  File \"/usr/local/lib/python3.7/site-packages/pandas/io/parsers.py\", line 787, in __init__\n",
      "    self._make_engine(self.engine)\n",
      "  File \"/usr/local/lib/python3.7/site-packages/pandas/io/parsers.py\", line 1014, in _make_engine\n",
      "    self._engine = CParserWrapper(self.f, **self.options)\n",
      "  File \"/usr/local/lib/python3.7/site-packages/pandas/io/parsers.py\", line 1708, in __init__\n",
      "    self._reader = parsers.TextReader(src, **kwds)\n",
      "  File \"pandas/_libs/parsers.pyx\", line 384, in pandas._libs.parsers.TextReader.__cinit__\n",
      "  File \"pandas/_libs/parsers.pyx\", line 695, in pandas._libs.parsers.TextReader._setup_parser_source\n",
      "FileNotFoundError: File b'models/skill_mult_player_tournament_part_pooled/c2f5f88aec62108d51ba83a4d4d51530/fits/warmup-1500/33d8b5a11351670c77e81ea471aa62ef/2.csv' does not exist\n",
      "INFO:root:Dataframe loading failed\n",
      "Traceback (most recent call last):\n",
      "  File \"/code/model.py\", line 229, in dataframe\n",
      "    fit_results = pandas.DataFrame.from_csv(self.csv_filename)\n",
      "  File \"/usr/local/lib/python3.7/site-packages/pandas/core/frame.py\", line 1579, in from_csv\n",
      "    infer_datetime_format=infer_datetime_format)\n",
      "  File \"/usr/local/lib/python3.7/site-packages/pandas/io/parsers.py\", line 678, in parser_f\n",
      "    return _read(filepath_or_buffer, kwds)\n",
      "  File \"/usr/local/lib/python3.7/site-packages/pandas/io/parsers.py\", line 440, in _read\n",
      "    parser = TextFileReader(filepath_or_buffer, **kwds)\n",
      "  File \"/usr/local/lib/python3.7/site-packages/pandas/io/parsers.py\", line 787, in __init__\n",
      "    self._make_engine(self.engine)\n",
      "  File \"/usr/local/lib/python3.7/site-packages/pandas/io/parsers.py\", line 1014, in _make_engine\n",
      "    self._engine = CParserWrapper(self.f, **self.options)\n",
      "  File \"/usr/local/lib/python3.7/site-packages/pandas/io/parsers.py\", line 1708, in __init__\n",
      "    self._reader = parsers.TextReader(src, **kwds)\n",
      "  File \"pandas/_libs/parsers.pyx\", line 384, in pandas._libs.parsers.TextReader.__cinit__\n",
      "  File \"pandas/_libs/parsers.pyx\", line 695, in pandas._libs.parsers.TextReader._setup_parser_source\n",
      "FileNotFoundError: File b'models/skill_mult_player_tournament_part_pooled/c2f5f88aec62108d51ba83a4d4d51530/fits/warmup-1500/33d8b5a11351670c77e81ea471aa62ef/3.csv' does not exist\n",
      "/usr/local/lib/python3.7/site-packages/plotnine/ggplot.py:706: UserWarning: Saving 2.8000000000000003 x 2 in image.\n",
      "  from_inches(height, units), units))\n",
      "/usr/local/lib/python3.7/site-packages/plotnine/ggplot.py:707: UserWarning: Filename: vengefulpickle-skill-c2f5f88aec62108d51ba83a4d4d51530-33d8b5a11351670c77e81ea471aa62ef.png\n",
      "  warn('Filename: {}'.format(filename))\n",
      "/usr/local/lib/python3.7/site-packages/plotnine/ggplot.py:706: UserWarning: Saving 9.8 x 2 in image.\n",
      "  from_inches(height, units), units))\n",
      "/usr/local/lib/python3.7/site-packages/plotnine/ggplot.py:707: UserWarning: Filename: mysticjuicer-skill-c2f5f88aec62108d51ba83a4d4d51530-33d8b5a11351670c77e81ea471aa62ef.png\n",
      "  warn('Filename: {}'.format(filename))\n",
      "/usr/local/lib/python3.7/site-packages/plotnine/ggplot.py:706: UserWarning: Saving 2.4000000000000004 x 2 in image.\n",
      "  from_inches(height, units), units))\n",
      "/usr/local/lib/python3.7/site-packages/plotnine/ggplot.py:707: UserWarning: Filename: cpat-skill-c2f5f88aec62108d51ba83a4d4d51530-33d8b5a11351670c77e81ea471aa62ef.png\n",
      "  warn('Filename: {}'.format(filename))\n",
      "/usr/local/lib/python3.7/site-packages/plotnine/ggplot.py:706: UserWarning: Saving 6.4 x 2 in image.\n",
      "  from_inches(height, units), units))\n",
      "/usr/local/lib/python3.7/site-packages/plotnine/ggplot.py:707: UserWarning: Filename: CKR-skill-c2f5f88aec62108d51ba83a4d4d51530-33d8b5a11351670c77e81ea471aa62ef.png\n",
      "  warn('Filename: {}'.format(filename))\n",
      "/usr/local/lib/python3.7/site-packages/plotnine/ggplot.py:706: UserWarning: Saving 5.4 x 2 in image.\n",
      "  from_inches(height, units), units))\n",
      "/usr/local/lib/python3.7/site-packages/plotnine/ggplot.py:707: UserWarning: Filename: Bomber678-skill-c2f5f88aec62108d51ba83a4d4d51530-33d8b5a11351670c77e81ea471aa62ef.png\n",
      "  warn('Filename: {}'.format(filename))\n",
      "/usr/local/lib/python3.7/site-packages/plotnine/ggplot.py:706: UserWarning: Saving 6.800000000000001 x 2 in image.\n",
      "  from_inches(height, units), units))\n",
      "/usr/local/lib/python3.7/site-packages/plotnine/ggplot.py:707: UserWarning: Filename: snoc-skill-c2f5f88aec62108d51ba83a4d4d51530-33d8b5a11351670c77e81ea471aa62ef.png\n",
      "  warn('Filename: {}'.format(filename))\n",
      "/usr/local/lib/python3.7/site-packages/plotnine/ggplot.py:706: UserWarning: Saving 4.6000000000000005 x 2 in image.\n",
      "  from_inches(height, units), units))\n",
      "/usr/local/lib/python3.7/site-packages/plotnine/ggplot.py:707: UserWarning: Filename: thehug0naut-skill-c2f5f88aec62108d51ba83a4d4d51530-33d8b5a11351670c77e81ea471aa62ef.png\n",
      "  warn('Filename: {}'.format(filename))\n",
      "/usr/local/lib/python3.7/site-packages/plotnine/ggplot.py:706: UserWarning: Saving 6.2 x 2 in image.\n",
      "  from_inches(height, units), units))\n",
      "/usr/local/lib/python3.7/site-packages/plotnine/ggplot.py:707: UserWarning: Filename: Fluffiness-skill-c2f5f88aec62108d51ba83a4d4d51530-33d8b5a11351670c77e81ea471aa62ef.png\n",
      "  warn('Filename: {}'.format(filename))\n",
      "/usr/local/lib/python3.7/site-packages/plotnine/ggplot.py:706: UserWarning: Saving 2.4000000000000004 x 2 in image.\n",
      "  from_inches(height, units), units))\n",
      "/usr/local/lib/python3.7/site-packages/plotnine/ggplot.py:707: UserWarning: Filename: Hobusu-skill-c2f5f88aec62108d51ba83a4d4d51530-33d8b5a11351670c77e81ea471aa62ef.png\n",
      "  warn('Filename: {}'.format(filename))\n",
      "/usr/local/lib/python3.7/site-packages/plotnine/ggplot.py:706: UserWarning: Saving 8.0 x 2 in image.\n",
      "  from_inches(height, units), units))\n",
      "/usr/local/lib/python3.7/site-packages/plotnine/ggplot.py:707: UserWarning: Filename: Niijima-San-skill-c2f5f88aec62108d51ba83a4d4d51530-33d8b5a11351670c77e81ea471aa62ef.png\n",
      "  warn('Filename: {}'.format(filename))\n",
      "/code/model.py:229: FutureWarning: from_csv is deprecated. Please use read_csv(...) instead. Note that some of the default arguments are different, so please refer to the documentation for from_csv when changing your function calls\n",
      "  fit_results = pandas.DataFrame.from_csv(self.csv_filename)\n"
     ]
    },
    {
     "data": {
      "text/plain": [
       "[], Categories (0, object): []"
      ]
     },
     "metadata": {},
     "output_type": "display_data"
    },
    {
     "name": "stderr",
     "output_type": "stream",
     "text": [
      "/usr/local/lib/python3.7/site-packages/plotnine/ggplot.py:706: UserWarning: Saving 0.0 x 2 in image.\n",
      "  from_inches(height, units), units))\n",
      "/usr/local/lib/python3.7/site-packages/plotnine/ggplot.py:707: UserWarning: Filename: vengefulpickle-raw-skill-c2f5f88aec62108d51ba83a4d4d51530-33d8b5a11351670c77e81ea471aa62ef.png\n",
      "  warn('Filename: {}'.format(filename))\n"
     ]
    },
    {
     "ename": "PlotnineError",
     "evalue": "'Width not defined. Set with `position_dodge(width = ?)`'",
     "output_type": "error",
     "traceback": [
      "\u001b[0;31m---------------------------------------------------------------------------\u001b[0m",
      "\u001b[0;31mPlotnineError\u001b[0m                             Traceback (most recent call last)",
      "\u001b[0;32m<ipython-input-53-59806f861364>\u001b[0m in \u001b[0;36m<module>\u001b[0;34m\u001b[0m\n\u001b[1;32m     15\u001b[0m ]\n\u001b[1;32m     16\u001b[0m \u001b[0mrender\u001b[0m\u001b[0;34m.\u001b[0m\u001b[0mrender_player_skills\u001b[0m\u001b[0;34m(\u001b[0m\u001b[0;34m*\u001b[0m\u001b[0mplayers\u001b[0m\u001b[0;34m)\u001b[0m\u001b[0;34m\u001b[0m\u001b[0;34m\u001b[0m\u001b[0m\n\u001b[0;32m---> 17\u001b[0;31m \u001b[0mrender\u001b[0m\u001b[0;34m.\u001b[0m\u001b[0mrender_raw_player_skills\u001b[0m\u001b[0;34m(\u001b[0m\u001b[0;34m*\u001b[0m\u001b[0mplayers\u001b[0m\u001b[0;34m)\u001b[0m\u001b[0;34m\u001b[0m\u001b[0;34m\u001b[0m\u001b[0m\n\u001b[0m",
      "\u001b[0;32m/code/render.py\u001b[0m in \u001b[0;36mrender_raw_player_skills\u001b[0;34m(self, *players)\u001b[0m\n\u001b[1;32m    132\u001b[0m     \u001b[0;32mdef\u001b[0m \u001b[0mrender_raw_player_skills\u001b[0m\u001b[0;34m(\u001b[0m\u001b[0mself\u001b[0m\u001b[0;34m,\u001b[0m \u001b[0;34m*\u001b[0m\u001b[0mplayers\u001b[0m\u001b[0;34m)\u001b[0m\u001b[0;34m:\u001b[0m\u001b[0;34m\u001b[0m\u001b[0;34m\u001b[0m\u001b[0m\n\u001b[1;32m    133\u001b[0m         \u001b[0;32mfor\u001b[0m \u001b[0mplayer\u001b[0m \u001b[0;32min\u001b[0m \u001b[0mplayers\u001b[0m\u001b[0;34m:\u001b[0m\u001b[0;34m\u001b[0m\u001b[0;34m\u001b[0m\u001b[0m\n\u001b[0;32m--> 134\u001b[0;31m             \u001b[0mself\u001b[0m\u001b[0;34m.\u001b[0m\u001b[0mrender_raw_player_skill\u001b[0m\u001b[0;34m(\u001b[0m\u001b[0mplayer\u001b[0m\u001b[0;34m)\u001b[0m\u001b[0;34m\u001b[0m\u001b[0;34m\u001b[0m\u001b[0m\n\u001b[0m",
      "\u001b[0;32m/code/render.py\u001b[0m in \u001b[0;36mrender_raw_player_skill\u001b[0;34m(self, player)\u001b[0m\n\u001b[1;32m    111\u001b[0m             \u001b[0;34m+\u001b[0m \u001b[0mlabs\u001b[0m\u001b[0;34m(\u001b[0m\u001b[0mtitle\u001b[0m\u001b[0;34m=\u001b[0m\u001b[0mplayer\u001b[0m\u001b[0;34m)\u001b[0m\u001b[0;34m\u001b[0m\u001b[0;34m\u001b[0m\u001b[0m\n\u001b[1;32m    112\u001b[0m         )\n\u001b[0;32m--> 113\u001b[0;31m         \u001b[0mplayer_chart\u001b[0m\u001b[0;34m.\u001b[0m\u001b[0msave\u001b[0m\u001b[0;34m(\u001b[0m\u001b[0;34mf'{player}-raw-skill-{self.model.model_hash}-{self.model.data_hash}.png'\u001b[0m\u001b[0;34m)\u001b[0m\u001b[0;34m\u001b[0m\u001b[0;34m\u001b[0m\u001b[0m\n\u001b[0m\u001b[1;32m    114\u001b[0m \u001b[0;34m\u001b[0m\u001b[0m\n\u001b[1;32m    115\u001b[0m     \u001b[0;32mdef\u001b[0m \u001b[0mrender_char_skill\u001b[0m\u001b[0;34m(\u001b[0m\u001b[0mself\u001b[0m\u001b[0;34m,\u001b[0m \u001b[0mplayer\u001b[0m\u001b[0;34m)\u001b[0m\u001b[0;34m:\u001b[0m\u001b[0;34m\u001b[0m\u001b[0;34m\u001b[0m\u001b[0m\n",
      "\u001b[0;32m/usr/local/lib/python3.7/site-packages/plotnine/ggplot.py\u001b[0m in \u001b[0;36msave\u001b[0;34m(self, filename, format, path, width, height, units, dpi, limitsize, verbose, **kwargs)\u001b[0m\n\u001b[1;32m    726\u001b[0m         \u001b[0;32mexcept\u001b[0m \u001b[0mException\u001b[0m \u001b[0;32mas\u001b[0m \u001b[0merr\u001b[0m\u001b[0;34m:\u001b[0m\u001b[0;34m\u001b[0m\u001b[0;34m\u001b[0m\u001b[0m\n\u001b[1;32m    727\u001b[0m             \u001b[0mfigure\u001b[0m\u001b[0;34m[\u001b[0m\u001b[0;36m0\u001b[0m\u001b[0;34m]\u001b[0m \u001b[0;32mand\u001b[0m \u001b[0mplt\u001b[0m\u001b[0;34m.\u001b[0m\u001b[0mclose\u001b[0m\u001b[0;34m(\u001b[0m\u001b[0mfigure\u001b[0m\u001b[0;34m[\u001b[0m\u001b[0;36m0\u001b[0m\u001b[0;34m]\u001b[0m\u001b[0;34m)\u001b[0m\u001b[0;34m\u001b[0m\u001b[0;34m\u001b[0m\u001b[0m\n\u001b[0;32m--> 728\u001b[0;31m             \u001b[0;32mraise\u001b[0m \u001b[0merr\u001b[0m\u001b[0;34m\u001b[0m\u001b[0;34m\u001b[0m\u001b[0m\n\u001b[0m\u001b[1;32m    729\u001b[0m         \u001b[0;32melse\u001b[0m\u001b[0;34m:\u001b[0m\u001b[0;34m\u001b[0m\u001b[0;34m\u001b[0m\u001b[0m\n\u001b[1;32m    730\u001b[0m             \u001b[0mfigure\u001b[0m\u001b[0;34m[\u001b[0m\u001b[0;36m0\u001b[0m\u001b[0;34m]\u001b[0m \u001b[0;32mand\u001b[0m \u001b[0mplt\u001b[0m\u001b[0;34m.\u001b[0m\u001b[0mclose\u001b[0m\u001b[0;34m(\u001b[0m\u001b[0mfigure\u001b[0m\u001b[0;34m[\u001b[0m\u001b[0;36m0\u001b[0m\u001b[0;34m]\u001b[0m\u001b[0;34m)\u001b[0m\u001b[0;34m\u001b[0m\u001b[0;34m\u001b[0m\u001b[0m\n",
      "\u001b[0;32m/usr/local/lib/python3.7/site-packages/plotnine/ggplot.py\u001b[0m in \u001b[0;36msave\u001b[0;34m(self, filename, format, path, width, height, units, dpi, limitsize, verbose, **kwargs)\u001b[0m\n\u001b[1;32m    723\u001b[0m \u001b[0;34m\u001b[0m\u001b[0m\n\u001b[1;32m    724\u001b[0m         \u001b[0;32mtry\u001b[0m\u001b[0;34m:\u001b[0m\u001b[0;34m\u001b[0m\u001b[0;34m\u001b[0m\u001b[0m\n\u001b[0;32m--> 725\u001b[0;31m             \u001b[0m_save\u001b[0m\u001b[0;34m(\u001b[0m\u001b[0;34m)\u001b[0m\u001b[0;34m\u001b[0m\u001b[0;34m\u001b[0m\u001b[0m\n\u001b[0m\u001b[1;32m    726\u001b[0m         \u001b[0;32mexcept\u001b[0m \u001b[0mException\u001b[0m \u001b[0;32mas\u001b[0m \u001b[0merr\u001b[0m\u001b[0;34m:\u001b[0m\u001b[0;34m\u001b[0m\u001b[0;34m\u001b[0m\u001b[0m\n\u001b[1;32m    727\u001b[0m             \u001b[0mfigure\u001b[0m\u001b[0;34m[\u001b[0m\u001b[0;36m0\u001b[0m\u001b[0;34m]\u001b[0m \u001b[0;32mand\u001b[0m \u001b[0mplt\u001b[0m\u001b[0;34m.\u001b[0m\u001b[0mclose\u001b[0m\u001b[0;34m(\u001b[0m\u001b[0mfigure\u001b[0m\u001b[0;34m[\u001b[0m\u001b[0;36m0\u001b[0m\u001b[0;34m]\u001b[0m\u001b[0;34m)\u001b[0m\u001b[0;34m\u001b[0m\u001b[0;34m\u001b[0m\u001b[0m\n",
      "\u001b[0;32m/usr/local/lib/python3.7/site-packages/plotnine/ggplot.py\u001b[0m in \u001b[0;36m_save\u001b[0;34m()\u001b[0m\n\u001b[1;32m    709\u001b[0m         \u001b[0;31m# Helper function so that we can clean up when it fails\u001b[0m\u001b[0;34m\u001b[0m\u001b[0;34m\u001b[0m\u001b[0;34m\u001b[0m\u001b[0m\n\u001b[1;32m    710\u001b[0m         \u001b[0;32mdef\u001b[0m \u001b[0m_save\u001b[0m\u001b[0;34m(\u001b[0m\u001b[0;34m)\u001b[0m\u001b[0;34m:\u001b[0m\u001b[0;34m\u001b[0m\u001b[0;34m\u001b[0m\u001b[0m\n\u001b[0;32m--> 711\u001b[0;31m             \u001b[0mfig\u001b[0m \u001b[0;34m=\u001b[0m \u001b[0mfigure\u001b[0m\u001b[0;34m[\u001b[0m\u001b[0;36m0\u001b[0m\u001b[0;34m]\u001b[0m \u001b[0;34m=\u001b[0m \u001b[0mself\u001b[0m\u001b[0;34m.\u001b[0m\u001b[0mdraw\u001b[0m\u001b[0;34m(\u001b[0m\u001b[0;34m)\u001b[0m\u001b[0;34m\u001b[0m\u001b[0;34m\u001b[0m\u001b[0m\n\u001b[0m\u001b[1;32m    712\u001b[0m \u001b[0;34m\u001b[0m\u001b[0m\n\u001b[1;32m    713\u001b[0m             \u001b[0;31m# savefig ignores the figure face & edge colors\u001b[0m\u001b[0;34m\u001b[0m\u001b[0;34m\u001b[0m\u001b[0;34m\u001b[0m\u001b[0m\n",
      "\u001b[0;32m/usr/local/lib/python3.7/site-packages/plotnine/ggplot.py\u001b[0m in \u001b[0;36mdraw\u001b[0;34m(self, return_ggplot)\u001b[0m\n\u001b[1;32m    186\u001b[0m         \u001b[0;31m# new frames knowing that they are separate from the original.\u001b[0m\u001b[0;34m\u001b[0m\u001b[0;34m\u001b[0m\u001b[0;34m\u001b[0m\u001b[0m\n\u001b[1;32m    187\u001b[0m         \u001b[0;32mwith\u001b[0m \u001b[0mpd\u001b[0m\u001b[0;34m.\u001b[0m\u001b[0moption_context\u001b[0m\u001b[0;34m(\u001b[0m\u001b[0;34m'mode.chained_assignment'\u001b[0m\u001b[0;34m,\u001b[0m \u001b[0;32mNone\u001b[0m\u001b[0;34m)\u001b[0m\u001b[0;34m:\u001b[0m\u001b[0;34m\u001b[0m\u001b[0;34m\u001b[0m\u001b[0m\n\u001b[0;32m--> 188\u001b[0;31m             \u001b[0;32mreturn\u001b[0m \u001b[0mself\u001b[0m\u001b[0;34m.\u001b[0m\u001b[0m_draw\u001b[0m\u001b[0;34m(\u001b[0m\u001b[0mreturn_ggplot\u001b[0m\u001b[0;34m)\u001b[0m\u001b[0;34m\u001b[0m\u001b[0;34m\u001b[0m\u001b[0m\n\u001b[0m\u001b[1;32m    189\u001b[0m \u001b[0;34m\u001b[0m\u001b[0m\n\u001b[1;32m    190\u001b[0m     \u001b[0;32mdef\u001b[0m \u001b[0m_draw\u001b[0m\u001b[0;34m(\u001b[0m\u001b[0mself\u001b[0m\u001b[0;34m,\u001b[0m \u001b[0mreturn_ggplot\u001b[0m\u001b[0;34m=\u001b[0m\u001b[0;32mFalse\u001b[0m\u001b[0;34m)\u001b[0m\u001b[0;34m:\u001b[0m\u001b[0;34m\u001b[0m\u001b[0;34m\u001b[0m\u001b[0m\n",
      "\u001b[0;32m/usr/local/lib/python3.7/site-packages/plotnine/ggplot.py\u001b[0m in \u001b[0;36m_draw\u001b[0;34m(self, return_ggplot)\u001b[0m\n\u001b[1;32m    193\u001b[0m         \u001b[0;31m# assign a default theme\u001b[0m\u001b[0;34m\u001b[0m\u001b[0;34m\u001b[0m\u001b[0;34m\u001b[0m\u001b[0m\n\u001b[1;32m    194\u001b[0m         \u001b[0mself\u001b[0m \u001b[0;34m=\u001b[0m \u001b[0mdeepcopy\u001b[0m\u001b[0;34m(\u001b[0m\u001b[0mself\u001b[0m\u001b[0;34m)\u001b[0m\u001b[0;34m\u001b[0m\u001b[0;34m\u001b[0m\u001b[0m\n\u001b[0;32m--> 195\u001b[0;31m         \u001b[0mself\u001b[0m\u001b[0;34m.\u001b[0m\u001b[0m_build\u001b[0m\u001b[0;34m(\u001b[0m\u001b[0;34m)\u001b[0m\u001b[0;34m\u001b[0m\u001b[0;34m\u001b[0m\u001b[0m\n\u001b[0m\u001b[1;32m    196\u001b[0m \u001b[0;34m\u001b[0m\u001b[0m\n\u001b[1;32m    197\u001b[0m         \u001b[0;31m# If no theme we use the default\u001b[0m\u001b[0;34m\u001b[0m\u001b[0;34m\u001b[0m\u001b[0;34m\u001b[0m\u001b[0m\n",
      "\u001b[0;32m/usr/local/lib/python3.7/site-packages/plotnine/ggplot.py\u001b[0m in \u001b[0;36m_build\u001b[0;34m(self)\u001b[0m\n\u001b[1;32m    312\u001b[0m \u001b[0;34m\u001b[0m\u001b[0m\n\u001b[1;32m    313\u001b[0m         \u001b[0;31m# Apply position adjustments\u001b[0m\u001b[0;34m\u001b[0m\u001b[0;34m\u001b[0m\u001b[0;34m\u001b[0m\u001b[0m\n\u001b[0;32m--> 314\u001b[0;31m         \u001b[0mlayers\u001b[0m\u001b[0;34m.\u001b[0m\u001b[0mcompute_position\u001b[0m\u001b[0;34m(\u001b[0m\u001b[0mlayout\u001b[0m\u001b[0;34m)\u001b[0m\u001b[0;34m\u001b[0m\u001b[0;34m\u001b[0m\u001b[0m\n\u001b[0m\u001b[1;32m    315\u001b[0m \u001b[0;34m\u001b[0m\u001b[0m\n\u001b[1;32m    316\u001b[0m         \u001b[0;31m# Reset position scales, then re-train and map.  This\u001b[0m\u001b[0;34m\u001b[0m\u001b[0;34m\u001b[0m\u001b[0;34m\u001b[0m\u001b[0m\n",
      "\u001b[0;32m/usr/local/lib/python3.7/site-packages/plotnine/layer.py\u001b[0m in \u001b[0;36mcompute_position\u001b[0;34m(self, layout)\u001b[0m\n\u001b[1;32m     90\u001b[0m     \u001b[0;32mdef\u001b[0m \u001b[0mcompute_position\u001b[0m\u001b[0;34m(\u001b[0m\u001b[0mself\u001b[0m\u001b[0;34m,\u001b[0m \u001b[0mlayout\u001b[0m\u001b[0;34m)\u001b[0m\u001b[0;34m:\u001b[0m\u001b[0;34m\u001b[0m\u001b[0;34m\u001b[0m\u001b[0m\n\u001b[1;32m     91\u001b[0m         \u001b[0;32mfor\u001b[0m \u001b[0ml\u001b[0m \u001b[0;32min\u001b[0m \u001b[0mself\u001b[0m\u001b[0;34m:\u001b[0m\u001b[0;34m\u001b[0m\u001b[0;34m\u001b[0m\u001b[0m\n\u001b[0;32m---> 92\u001b[0;31m             \u001b[0ml\u001b[0m\u001b[0;34m.\u001b[0m\u001b[0mcompute_position\u001b[0m\u001b[0;34m(\u001b[0m\u001b[0mlayout\u001b[0m\u001b[0;34m)\u001b[0m\u001b[0;34m\u001b[0m\u001b[0;34m\u001b[0m\u001b[0m\n\u001b[0m\u001b[1;32m     93\u001b[0m \u001b[0;34m\u001b[0m\u001b[0m\n\u001b[1;32m     94\u001b[0m     \u001b[0;32mdef\u001b[0m \u001b[0muse_defaults\u001b[0m\u001b[0;34m(\u001b[0m\u001b[0mself\u001b[0m\u001b[0;34m)\u001b[0m\u001b[0;34m:\u001b[0m\u001b[0;34m\u001b[0m\u001b[0;34m\u001b[0m\u001b[0m\n",
      "\u001b[0;32m/usr/local/lib/python3.7/site-packages/plotnine/layer.py\u001b[0m in \u001b[0;36mcompute_position\u001b[0;34m(self, layout)\u001b[0m\n\u001b[1;32m    427\u001b[0m         \u001b[0;32min\u001b[0m \u001b[0mconcert\u001b[0m \u001b[0;32mwith\u001b[0m \u001b[0mthe\u001b[0m \u001b[0mother\u001b[0m \u001b[0mobjects\u001b[0m \u001b[0;32min\u001b[0m \u001b[0mthe\u001b[0m \u001b[0mpanel\u001b[0m\u001b[0;34m\u001b[0m\u001b[0;34m\u001b[0m\u001b[0m\n\u001b[1;32m    428\u001b[0m         \"\"\"\n\u001b[0;32m--> 429\u001b[0;31m         \u001b[0mparams\u001b[0m \u001b[0;34m=\u001b[0m \u001b[0mself\u001b[0m\u001b[0;34m.\u001b[0m\u001b[0mposition\u001b[0m\u001b[0;34m.\u001b[0m\u001b[0msetup_params\u001b[0m\u001b[0;34m(\u001b[0m\u001b[0mself\u001b[0m\u001b[0;34m.\u001b[0m\u001b[0mdata\u001b[0m\u001b[0;34m)\u001b[0m\u001b[0;34m\u001b[0m\u001b[0;34m\u001b[0m\u001b[0m\n\u001b[0m\u001b[1;32m    430\u001b[0m         \u001b[0mdata\u001b[0m \u001b[0;34m=\u001b[0m \u001b[0mself\u001b[0m\u001b[0;34m.\u001b[0m\u001b[0mposition\u001b[0m\u001b[0;34m.\u001b[0m\u001b[0msetup_data\u001b[0m\u001b[0;34m(\u001b[0m\u001b[0mself\u001b[0m\u001b[0;34m.\u001b[0m\u001b[0mdata\u001b[0m\u001b[0;34m,\u001b[0m \u001b[0mparams\u001b[0m\u001b[0;34m)\u001b[0m\u001b[0;34m\u001b[0m\u001b[0;34m\u001b[0m\u001b[0m\n\u001b[1;32m    431\u001b[0m         \u001b[0mdata\u001b[0m \u001b[0;34m=\u001b[0m \u001b[0mself\u001b[0m\u001b[0;34m.\u001b[0m\u001b[0mposition\u001b[0m\u001b[0;34m.\u001b[0m\u001b[0mcompute_layer\u001b[0m\u001b[0;34m(\u001b[0m\u001b[0mdata\u001b[0m\u001b[0;34m,\u001b[0m \u001b[0mparams\u001b[0m\u001b[0;34m,\u001b[0m \u001b[0mlayout\u001b[0m\u001b[0;34m)\u001b[0m\u001b[0;34m\u001b[0m\u001b[0;34m\u001b[0m\u001b[0m\n",
      "\u001b[0;32m/usr/local/lib/python3.7/site-packages/plotnine/positions/position_dodge.py\u001b[0m in \u001b[0;36msetup_params\u001b[0;34m(self, data)\u001b[0m\n\u001b[1;32m     33\u001b[0m             msg = (\"Width not defined. \"\n\u001b[1;32m     34\u001b[0m                    \"Set with `position_dodge(width = ?)`\")\n\u001b[0;32m---> 35\u001b[0;31m             \u001b[0;32mraise\u001b[0m \u001b[0mPlotnineError\u001b[0m\u001b[0;34m(\u001b[0m\u001b[0mmsg\u001b[0m\u001b[0;34m)\u001b[0m\u001b[0;34m\u001b[0m\u001b[0;34m\u001b[0m\u001b[0m\n\u001b[0m\u001b[1;32m     36\u001b[0m \u001b[0;34m\u001b[0m\u001b[0m\n\u001b[1;32m     37\u001b[0m         \u001b[0mparams\u001b[0m \u001b[0;34m=\u001b[0m \u001b[0mcopy\u001b[0m\u001b[0;34m(\u001b[0m\u001b[0mself\u001b[0m\u001b[0;34m.\u001b[0m\u001b[0mparams\u001b[0m\u001b[0;34m)\u001b[0m\u001b[0;34m\u001b[0m\u001b[0;34m\u001b[0m\u001b[0m\n",
      "\u001b[0;31mPlotnineError\u001b[0m: 'Width not defined. Set with `position_dodge(width = ?)`'"
     ]
    }
   ],
   "source": [
    "from render import *\n",
    "\n",
    "render = YomiRender(models['skill_mult_pooled'], 1500, 2000)\n",
    "players = [\n",
    "    'vengefulpickle',\n",
    "    'mysticjuicer',\n",
    "    'cpat',\n",
    "    'CKR',\n",
    "    'Bomber678',\n",
    "    'snoc',\n",
    "    'thehug0naut',\n",
    "    'Fluffiness',\n",
    "    'Hobusu',\n",
    "    'Niijima-San',\n",
    "]\n",
    "render.render_player_skills(*players)\n",
    "render.render_raw_player_skills(*players)"
   ]
  },
  {
   "cell_type": "code",
   "execution_count": 22,
   "metadata": {},
   "outputs": [
    {
     "data": {
      "image/png": "[encoded data removed]",
      "text/plain": [
       "<Figure size 640x480 with 1 Axes>"
      ]
     },
     "metadata": {},
     "output_type": "display_data"
    },
    {
     "data": {
      "text/plain": [
       "<ggplot: (8757741211382)>"
      ]
     },
     "execution_count": 22,
     "metadata": {},
     "output_type": "execute_result"
    }
   ],
   "source": [
    "from plotnine import *\n",
    "vp = render.player_tournament_skill[render.player_tournament_skill.player == 'vengefulpickle'].set_index(['tournament', 'sample'])\n",
    "mj = render.player_tournament_skill[render.player_tournament_skill.player == 'ArthurWynne'].set_index(['tournament', 'sample'])\n",
    "\n",
    "df = vp.join(mj.skill, rsuffix='_mj', lsuffix='_vp')[['skill_vp', 'skill_mj']].reset_index()\n",
    "\n",
    "(\n",
    "    ggplot(df, aes(x='sample', y='skill_vp'))\n",
    "    + geom_line()\n",
    ")"
   ]
  },
  {
   "cell_type": "code",
   "execution_count": 5,
   "metadata": {},
   "outputs": [
    {
     "name": "stdout",
     "output_type": "stream",
     "text": [
      "0 True\n"
     ]
    },
    {
     "name": "stderr",
     "output_type": "stream",
     "text": [
      "WARNING:pystan:Rhat above 1.1 or below 0.9 indicates that the chains very likely have not mixed\n"
     ]
    },
    {
     "name": "stdout",
     "output_type": "stream",
     "text": [
      "1 False\n",
      "2 True\n",
      "3 True\n"
     ]
    }
   ],
   "source": [
    "import pystan\n",
    "\n",
    "for chain, sample in enumerate(models['skill_mult_with_char_skill']._samples(warmup=1500, min_samples=2000)):\n",
    "    print(chain, pystan.diagnostics.check_rhat(sample.fit))"
   ]
  },
  {
   "cell_type": "code",
   "execution_count": 23,
   "metadata": {},
   "outputs": [
    {
     "name": "stderr",
     "output_type": "stream",
     "text": [
      "INFO:pystan:n_eff / iter looks reasonable for all parameters\n"
     ]
    },
    {
     "data": {
      "text/plain": [
       "True"
      ]
     },
     "execution_count": 23,
     "metadata": {},
     "output_type": "execute_result"
    }
   ],
   "source": [
    "pystan.diagnostics.check_n_eff(fit, verbose=2)"
   ]
  },
  {
   "cell_type": "code",
   "execution_count": null,
   "metadata": {},
   "outputs": [],
   "source": [
    "arviz.plot_ppc(inf_data, alpha=0.3, kind='cumulative', figsize=(12, 6), textsize=14)"
   ]
  },
  {
   "cell_type": "code",
   "execution_count": 54,
   "metadata": {},
   "outputs": [],
   "source": [
    "fit_results = models['player_tournament_min_pooled'].sample_dataframe(1500, 2000)"
   ]
  },
  {
   "cell_type": "code",
   "execution_count": 55,
   "metadata": {},
   "outputs": [
    {
     "data": {
      "image/png": "[encoded data removed]",
      "text/plain": [
       "<Figure size 640x480 with 1 Axes>"
      ]
     },
     "metadata": {},
     "output_type": "display_data"
    },
    {
     "data": {
      "text/plain": [
       "<ggplot: (-9223363279108007992)>"
      ]
     },
     "execution_count": 55,
     "metadata": {},
     "output_type": "execute_result"
    }
   ],
   "source": [
    "(\n",
    "    ggplot(fit_results, aes(x='0', y='player_skill[3]'))\n",
    "    + geom_violin()\n",
    ")"
   ]
  },
  {
   "cell_type": "code",
   "execution_count": 56,
   "metadata": {},
   "outputs": [],
   "source": [
    "mu_index = models['player_tournament_min_pooled'].mu_index"
   ]
  },
  {
   "cell_type": "code",
   "execution_count": 57,
   "metadata": {},
   "outputs": [],
   "source": [
    "matchups = fit_results[[col for col in fit_results.columns if col.startswith('mu[')]].rename(\n",
    "    columns={'mu[{}]'.format(ix): \"{.value}-{.value}\".format(c1, c2) for ((c1, c2), ix) in mu_index.items()}\n",
    ").unstack().rename('win_rate').reset_index()\n",
    "matchups['c1'] = matchups.level_0.apply(lambda x: Character(x.split('-')[0])).astype(character_category)\n",
    "matchups['c2'] = matchups.level_0.apply(lambda x: Character(x.split('-')[1])).astype(character_category)\n",
    "matchups['win_rate'] = pandas.to_numeric(matchups['win_rate'])\n",
    "del(matchups['level_0'])\n",
    "matchups = matchups.rename(columns={'level_1': 'sample'})"
   ]
  },
  {
   "cell_type": "code",
   "execution_count": 58,
   "metadata": {},
   "outputs": [
    {
     "name": "stdout",
     "output_type": "stream",
     "text": [
      "<class 'pandas.core.frame.DataFrame'>\n",
      "RangeIndex: 420000 entries, 0 to 419999\n",
      "Data columns (total 4 columns):\n",
      "sample      420000 non-null int64\n",
      "win_rate    420000 non-null float64\n",
      "c1          420000 non-null category\n",
      "c2          420000 non-null category\n",
      "dtypes: category(2), float64(1), int64(1)\n",
      "memory usage: 7.2 MB\n"
     ]
    }
   ],
   "source": [
    "matchups.info(memory_usage='deep')"
   ]
  },
  {
   "cell_type": "code",
   "execution_count": 59,
   "metadata": {},
   "outputs": [],
   "source": [
    "flipped = matchups[matchups.c1 != matchups.c2].rename(columns={'c1': 'c2', 'c2': 'c1'})\n",
    "flipped['win_rate'] = -flipped['win_rate']\n",
    "\n",
    "matchups = matchups.append(flipped)\n",
    "del(flipped)"
   ]
  },
  {
   "cell_type": "code",
   "execution_count": 60,
   "metadata": {},
   "outputs": [
    {
     "name": "stdout",
     "output_type": "stream",
     "text": [
      "<class 'pandas.core.frame.DataFrame'>\n",
      "Int64Index: 800000 entries, 0 to 417999\n",
      "Data columns (total 4 columns):\n",
      "c1          800000 non-null category\n",
      "c2          800000 non-null category\n",
      "sample      800000 non-null int64\n",
      "win_rate    800000 non-null float64\n",
      "dtypes: category(2), float64(1), int64(1)\n",
      "memory usage: 19.8 MB\n"
     ]
    }
   ],
   "source": [
    "matchups.info(memory_usage='deep')"
   ]
  },
  {
   "cell_type": "code",
   "execution_count": 61,
   "metadata": {},
   "outputs": [],
   "source": [
    "import math\n",
    "\n",
    "matchups['win_rate'] = pandas.to_numeric(10*(matchups['win_rate'].rpow(math.e)) / (1 + matchups['win_rate'].rpow(math.e)))\n",
    "\n",
    "median_rates = pandas.to_numeric(matchups.groupby(['c1', 'c2']).win_rate.median().rename('median_win_rate'))\n",
    "text_color = median_rates.reset_index().median_win_rate.apply(lambda x: 'white' if x > 6 or x < 4 else 'black')\n",
    "\n",
    "matchups = matchups.join(median_rates, on=['c1', 'c2'])"
   ]
  },
  {
   "cell_type": "code",
   "execution_count": 62,
   "metadata": {},
   "outputs": [
    {
     "name": "stdout",
     "output_type": "stream",
     "text": [
      "<class 'pandas.core.frame.DataFrame'>\n",
      "Int64Index: 800000 entries, 0 to 417999\n",
      "Data columns (total 5 columns):\n",
      "c1                 800000 non-null category\n",
      "c2                 800000 non-null category\n",
      "sample             800000 non-null int64\n",
      "win_rate           800000 non-null float64\n",
      "median_win_rate    800000 non-null float64\n",
      "dtypes: category(2), float64(2), int64(1)\n",
      "memory usage: 25.9 MB\n"
     ]
    }
   ],
   "source": [
    "matchups.info(memory_usage='deep')"
   ]
  },
  {
   "cell_type": "code",
   "execution_count": 63,
   "metadata": {},
   "outputs": [
    {
     "data": {
      "text/plain": [
       "c1          c2        \n",
       "Midori      Onimaru       0.004\n",
       "            Troq          0.020\n",
       "            Setsuki       0.040\n",
       "Rook        Valerie       0.084\n",
       "Grave       Menelker      0.088\n",
       "Quince      Setsuki       0.128\n",
       "Argagarg    Geiger        0.216\n",
       "Jaina       Quince        0.220\n",
       "Geiger      Persephone    0.244\n",
       "BBB         Menelker      0.256\n",
       "Rook        Vendetta      0.368\n",
       "Geiger      Gwen          0.408\n",
       "DeGrey      Geiger        0.432\n",
       "Gloria      Lum           0.444\n",
       "Argagarg    Troq          0.448\n",
       "Rook        Troq          0.456\n",
       "Persephone  Rook          0.516\n",
       "Gloria      Onimaru       0.540\n",
       "Lum         Midori        0.580\n",
       "Menelker    Midori        0.584\n",
       "Geiger      Menelker      0.596\n",
       "Onimaru     Zane          0.620\n",
       "Quince      Vendetta      0.676\n",
       "Lum         Menelker      0.708\n",
       "Setsuki     Valerie       0.768\n",
       "Lum         Troq          0.780\n",
       "Argagarg    Vendetta      0.804\n",
       "Gloria      Valerie       0.856\n",
       "Grave       Onimaru       0.868\n",
       "Menelker    Persephone    0.888\n",
       "                          ...  \n",
       "Valerie     Vendetta      3.840\n",
       "BBB         Geiger        3.840\n",
       "Grave       Vendetta      3.864\n",
       "Argagarg    Gwen          3.868\n",
       "            Lum           3.868\n",
       "Gwen        Onimaru       3.872\n",
       "BBB         Rook          3.892\n",
       "Jaina       Rook          3.904\n",
       "Gwen        Lum           3.936\n",
       "Argagarg    Quince        3.940\n",
       "Jaina       Zane          3.964\n",
       "Onimaru     Troq          3.968\n",
       "Persephone  Setsuki       3.968\n",
       "            Zane          3.984\n",
       "Gwen        Troq          3.988\n",
       "Setsuki     Troq          3.988\n",
       "Geiger      Jaina         3.988\n",
       "Argagarg    Onimaru       3.988\n",
       "DeGrey      Valerie       3.988\n",
       "Troq        Valerie       3.992\n",
       "Menelker    Zane          3.992\n",
       "Jaina       Lum           3.996\n",
       "Argagarg    Rook          3.996\n",
       "            Jaina         3.996\n",
       "DeGrey      Lum           3.996\n",
       "            Onimaru         NaN\n",
       "Gloria      Midori          NaN\n",
       "            Zane            NaN\n",
       "Quince      Troq            NaN\n",
       "Troq        Zane            NaN\n",
       "Length: 190, dtype: float64"
      ]
     },
     "execution_count": 63,
     "metadata": {},
     "output_type": "execute_result"
    }
   ],
   "source": [
    "num_samples = matchups['sample'].nunique()\n",
    "df = matchups[matchups.c1 < matchups.c2]\n",
    "too_bad_samples = df[df.win_rate < 5].groupby(['c1', 'c2']).size()\n",
    "too_good_samples = df[df.win_rate > 5].groupby(['c1', 'c2']).size()\n",
    "lopsided_fraction = (too_bad_samples - too_good_samples).abs()/num_samples\n",
    "lopsided_fraction.sort_values()"
   ]
  },
  {
   "cell_type": "code",
   "execution_count": 67,
   "metadata": {},
   "outputs": [
    {
     "name": "stderr",
     "output_type": "stream",
     "text": [
      "/usr/local/lib/python3.7/site-packages/plotnine/ggplot.py:706: UserWarning: Saving 25 x 15 in image.\n",
      "  from_inches(height, units), units))\n",
      "/usr/local/lib/python3.7/site-packages/plotnine/ggplot.py:707: UserWarning: Filename: yomi-matchup-estimates-3c55c282fca23373ca5c2aa2755a1c6e-33d8b5a11351670c77e81ea471aa62ef.png\n",
      "  warn('Filename: {}'.format(filename))\n",
      "/usr/local/lib/python3.7/site-packages/plotnine/layer.py:517: MatplotlibDeprecationWarning: isinstance(..., numbers.Number)\n",
      "  return not cbook.iterable(value) and (cbook.is_numlike(value) or\n",
      "/usr/local/lib/python3.7/site-packages/plotnine/layer.py:517: MatplotlibDeprecationWarning: isinstance(..., numbers.Number)\n",
      "  return not cbook.iterable(value) and (cbook.is_numlike(value) or\n"
     ]
    }
   ],
   "source": [
    "from IPython.core.display import display\n",
    "from plotnine import *\n",
    "\n",
    "model_hash = models['player_tournament_min_pooled'].model_hash\n",
    "data_hash = models['player_tournament_min_pooled'].data_hash\n",
    "\n",
    "matchup_chart = (\n",
    "    ggplot(matchups, aes(x='0', y='win_rate', fill='median_win_rate'))\n",
    "    + geom_violin()\n",
    "    + geom_text(\n",
    "        data=median_rates.reset_index(),\n",
    "        mapping=aes(label='median_win_rate', y='median_win_rate', x=0, size=9),\n",
    "        color=text_color,\n",
    "        format_string='{:.2}',\n",
    "    )\n",
    "    + facet_grid('c1 ~ c2')\n",
    "    + coord_flip()\n",
    "    + theme(figure_size=(25, 15))\n",
    "    + scale_fill_gradient2(midpoint=5)\n",
    ")\n",
    "\n",
    "filename = f'yomi-matchup-estimates-{model_hash}-{data_hash}.png'\n",
    "matchup_chart.save(filename)"
   ]
  },
  {
   "cell_type": "code",
   "execution_count": null,
   "metadata": {},
   "outputs": [],
   "source": [
    "matchups.info(memory_usage='deep')"
   ]
  },
  {
   "cell_type": "code",
   "execution_count": null,
   "metadata": {},
   "outputs": [],
   "source": [
    "std_devs = fit_results[[\n",
    "    col for col in fit_results.columns\n",
    "    if col.startswith('muv[') or col.startswith('mmv[')\n",
    "]].rename(\n",
    "    columns={'muv[{}]'.format(ix): \"{.value}-{.value}\".format(c1, c2) for ((c1, c2), ix) in mu_index.items()}\n",
    ").rename(\n",
    "    columns={'mmv[{}]'.format(ix): \"{.value}-{.value}\".format(c1, c1) for (c1, ix) in mirror_index.items()}\n",
    ").unstack().rename('std_dev').reset_index()\n",
    "std_devs['c1'] = std_devs.level_0.apply(lambda x: Character(x.split('-')[0])).astype(character_category)\n",
    "std_devs['c2'] = std_devs.level_0.apply(lambda x: Character(x.split('-')[1])).astype(character_category)\n",
    "del(std_devs['level_0'])\n",
    "std_devs = std_devs.rename(columns={'level_1': 'sample'})"
   ]
  },
  {
   "cell_type": "code",
   "execution_count": null,
   "metadata": {},
   "outputs": [],
   "source": [
    "std_devs.info(memory_usage='deep')"
   ]
  },
  {
   "cell_type": "code",
   "execution_count": null,
   "metadata": {},
   "outputs": [],
   "source": [
    "flipped = std_devs[std_devs.c1 != std_devs.c2].rename(columns={'c1': 'c2', 'c2': 'c1'})\n",
    "\n",
    "std_devs = std_devs.append(flipped)"
   ]
  },
  {
   "cell_type": "code",
   "execution_count": null,
   "metadata": {},
   "outputs": [],
   "source": [
    "std_devs.info(memory_usage='deep')"
   ]
  },
  {
   "cell_type": "code",
   "execution_count": null,
   "metadata": {},
   "outputs": [],
   "source": [
    "import math\n",
    "#std_devs['std_dev'] = 10*(std_devs['std_dev'].rpow(math.e)) / (1 + std_devs['std_dev'].rpow(math.e))-5\n",
    "\n",
    "median_rates = pandas.DataFrame(std_devs.groupby(['c1', 'c2']).std_dev.median().rename('median_std_dev'))\n",
    "text_color = median_rates.reset_index().median_std_dev.apply(lambda x: 'white' if x < 1 else 'black')\n",
    "\n",
    "std_devs = std_devs.join(median_rates, on=['c1', 'c2'])"
   ]
  },
  {
   "cell_type": "code",
   "execution_count": null,
   "metadata": {},
   "outputs": [],
   "source": [
    "std_devs.info(memory_usage='deep')"
   ]
  },
  {
   "cell_type": "code",
   "execution_count": null,
   "metadata": {},
   "outputs": [],
   "source": [
    "from plotnine import *\n",
    "from IPython.core.display import display\n",
    "\n",
    "std_dev_chart = (\n",
    "    ggplot(std_devs, aes(x='0', y='std_dev', fill='median_std_dev'))\n",
    "    + geom_violin()\n",
    "    + geom_text(\n",
    "        data=median_rates.reset_index(),\n",
    "        mapping=aes(label='median_std_dev', x=.4, y=2, size=9),\n",
    "        #color=text_color,\n",
    "        format_string='median={:.2}',\n",
    "    )\n",
    "    + facet_grid('c1 ~ c2')\n",
    "    + coord_flip()\n",
    "    + theme(figure_size=(25, 15))\n",
    "    + scale_fill_gradient2(midpoint=1)\n",
    ")\n",
    "\n",
    "filename = f'yomi-std-dev-estimates-{model_hash}-{data_hash}.png'\n",
    "std_dev_chart.save(filename)"
   ]
  },
  {
   "cell_type": "code",
   "execution_count": null,
   "metadata": {},
   "outputs": [],
   "source": [
    "(\n",
    "    ggplot(std_devs.sample(frac=0.01), aes(x='0', y='std_dev', fill='median_std_dev'))\n",
    "    + geom_violin()\n",
    "    + facet_wrap('c1')\n",
    "    + coord_flip()\n",
    "    + theme(figure_size=(5, 5))\n",
    "    + scale_fill_gradient2(midpoint=1)\n",
    ").save(f'skill-effects-character-{model_hash}-{data_hash}.png')"
   ]
  },
  {
   "cell_type": "code",
   "execution_count": 65,
   "metadata": {},
   "outputs": [],
   "source": []
  },
  {
   "cell_type": "code",
   "execution_count": 66,
   "metadata": {},
   "outputs": [
    {
     "name": "stderr",
     "output_type": "stream",
     "text": [
      "/code/model.py:236: FutureWarning: from_csv is deprecated. Please use read_csv(...) instead. Note that some of the default arguments are different, so please refer to the documentation for from_csv when changing your function calls\n",
      "  for par in self.model.pars:\n"
     ]
    }
   ],
   "source": [
    "render_player, render_players = player_skill(models['skill_mult_with_char_skill'], 1500, 2000)"
   ]
  },
  {
   "cell_type": "code",
   "execution_count": 67,
   "metadata": {},
   "outputs": [
    {
     "name": "stderr",
     "output_type": "stream",
     "text": [
      "/usr/local/lib/python3.7/site-packages/plotnine/ggplot.py:706: UserWarning: Saving 2.8000000000000003 x 2 in image.\n",
      "  from_inches(height, units), units))\n",
      "/usr/local/lib/python3.7/site-packages/plotnine/ggplot.py:707: UserWarning: Filename: vengefulpickle-skill-0e616ebc420f950e4369c25013121552-4fed4f11ebcd2678ee1d7278d87eb650.png\n",
      "  warn('Filename: {}'.format(filename))\n",
      "/usr/local/lib/python3.7/site-packages/plotnine/ggplot.py:706: UserWarning: Saving 4.0 x 2 in image.\n",
      "  from_inches(height, units), units))\n",
      "/usr/local/lib/python3.7/site-packages/plotnine/ggplot.py:707: UserWarning: Filename: vengefulpickle-char-skill-0e616ebc420f950e4369c25013121552-4fed4f11ebcd2678ee1d7278d87eb650.png\n",
      "  warn('Filename: {}'.format(filename))\n",
      "/usr/local/lib/python3.7/site-packages/plotnine/ggplot.py:706: UserWarning: Saving 9.8 x 2 in image.\n",
      "  from_inches(height, units), units))\n",
      "/usr/local/lib/python3.7/site-packages/plotnine/ggplot.py:707: UserWarning: Filename: mysticjuicer-skill-0e616ebc420f950e4369c25013121552-4fed4f11ebcd2678ee1d7278d87eb650.png\n",
      "  warn('Filename: {}'.format(filename))\n",
      "/usr/local/lib/python3.7/site-packages/plotnine/ggplot.py:706: UserWarning: Saving 4.0 x 2 in image.\n",
      "  from_inches(height, units), units))\n",
      "/usr/local/lib/python3.7/site-packages/plotnine/ggplot.py:707: UserWarning: Filename: mysticjuicer-char-skill-0e616ebc420f950e4369c25013121552-4fed4f11ebcd2678ee1d7278d87eb650.png\n",
      "  warn('Filename: {}'.format(filename))\n",
      "/usr/local/lib/python3.7/site-packages/plotnine/ggplot.py:706: UserWarning: Saving 2.4000000000000004 x 2 in image.\n",
      "  from_inches(height, units), units))\n",
      "/usr/local/lib/python3.7/site-packages/plotnine/ggplot.py:707: UserWarning: Filename: cpat-skill-0e616ebc420f950e4369c25013121552-4fed4f11ebcd2678ee1d7278d87eb650.png\n",
      "  warn('Filename: {}'.format(filename))\n",
      "/usr/local/lib/python3.7/site-packages/plotnine/ggplot.py:706: UserWarning: Saving 4.0 x 2 in image.\n",
      "  from_inches(height, units), units))\n",
      "/usr/local/lib/python3.7/site-packages/plotnine/ggplot.py:707: UserWarning: Filename: cpat-char-skill-0e616ebc420f950e4369c25013121552-4fed4f11ebcd2678ee1d7278d87eb650.png\n",
      "  warn('Filename: {}'.format(filename))\n",
      "/usr/local/lib/python3.7/site-packages/plotnine/ggplot.py:706: UserWarning: Saving 6.4 x 2 in image.\n",
      "  from_inches(height, units), units))\n",
      "/usr/local/lib/python3.7/site-packages/plotnine/ggplot.py:707: UserWarning: Filename: CKR-skill-0e616ebc420f950e4369c25013121552-4fed4f11ebcd2678ee1d7278d87eb650.png\n",
      "  warn('Filename: {}'.format(filename))\n",
      "/usr/local/lib/python3.7/site-packages/plotnine/ggplot.py:706: UserWarning: Saving 4.0 x 2 in image.\n",
      "  from_inches(height, units), units))\n",
      "/usr/local/lib/python3.7/site-packages/plotnine/ggplot.py:707: UserWarning: Filename: CKR-char-skill-0e616ebc420f950e4369c25013121552-4fed4f11ebcd2678ee1d7278d87eb650.png\n",
      "  warn('Filename: {}'.format(filename))\n",
      "/usr/local/lib/python3.7/site-packages/plotnine/ggplot.py:706: UserWarning: Saving 5.4 x 2 in image.\n",
      "  from_inches(height, units), units))\n",
      "/usr/local/lib/python3.7/site-packages/plotnine/ggplot.py:707: UserWarning: Filename: Bomber678-skill-0e616ebc420f950e4369c25013121552-4fed4f11ebcd2678ee1d7278d87eb650.png\n",
      "  warn('Filename: {}'.format(filename))\n",
      "/usr/local/lib/python3.7/site-packages/plotnine/ggplot.py:706: UserWarning: Saving 4.0 x 2 in image.\n",
      "  from_inches(height, units), units))\n",
      "/usr/local/lib/python3.7/site-packages/plotnine/ggplot.py:707: UserWarning: Filename: Bomber678-char-skill-0e616ebc420f950e4369c25013121552-4fed4f11ebcd2678ee1d7278d87eb650.png\n",
      "  warn('Filename: {}'.format(filename))\n",
      "/usr/local/lib/python3.7/site-packages/plotnine/ggplot.py:706: UserWarning: Saving 6.800000000000001 x 2 in image.\n",
      "  from_inches(height, units), units))\n",
      "/usr/local/lib/python3.7/site-packages/plotnine/ggplot.py:707: UserWarning: Filename: snoc-skill-0e616ebc420f950e4369c25013121552-4fed4f11ebcd2678ee1d7278d87eb650.png\n",
      "  warn('Filename: {}'.format(filename))\n",
      "/usr/local/lib/python3.7/site-packages/plotnine/ggplot.py:706: UserWarning: Saving 4.0 x 2 in image.\n",
      "  from_inches(height, units), units))\n",
      "/usr/local/lib/python3.7/site-packages/plotnine/ggplot.py:707: UserWarning: Filename: snoc-char-skill-0e616ebc420f950e4369c25013121552-4fed4f11ebcd2678ee1d7278d87eb650.png\n",
      "  warn('Filename: {}'.format(filename))\n",
      "/usr/local/lib/python3.7/site-packages/plotnine/ggplot.py:706: UserWarning: Saving 4.6000000000000005 x 2 in image.\n",
      "  from_inches(height, units), units))\n",
      "/usr/local/lib/python3.7/site-packages/plotnine/ggplot.py:707: UserWarning: Filename: thehug0naut-skill-0e616ebc420f950e4369c25013121552-4fed4f11ebcd2678ee1d7278d87eb650.png\n",
      "  warn('Filename: {}'.format(filename))\n",
      "/usr/local/lib/python3.7/site-packages/plotnine/ggplot.py:706: UserWarning: Saving 4.0 x 2 in image.\n",
      "  from_inches(height, units), units))\n",
      "/usr/local/lib/python3.7/site-packages/plotnine/ggplot.py:707: UserWarning: Filename: thehug0naut-char-skill-0e616ebc420f950e4369c25013121552-4fed4f11ebcd2678ee1d7278d87eb650.png\n",
      "  warn('Filename: {}'.format(filename))\n",
      "/usr/local/lib/python3.7/site-packages/plotnine/ggplot.py:706: UserWarning: Saving 6.2 x 2 in image.\n",
      "  from_inches(height, units), units))\n",
      "/usr/local/lib/python3.7/site-packages/plotnine/ggplot.py:707: UserWarning: Filename: Fluffiness-skill-0e616ebc420f950e4369c25013121552-4fed4f11ebcd2678ee1d7278d87eb650.png\n",
      "  warn('Filename: {}'.format(filename))\n",
      "/usr/local/lib/python3.7/site-packages/plotnine/ggplot.py:706: UserWarning: Saving 4.0 x 2 in image.\n",
      "  from_inches(height, units), units))\n",
      "/usr/local/lib/python3.7/site-packages/plotnine/ggplot.py:707: UserWarning: Filename: Fluffiness-char-skill-0e616ebc420f950e4369c25013121552-4fed4f11ebcd2678ee1d7278d87eb650.png\n",
      "  warn('Filename: {}'.format(filename))\n",
      "/usr/local/lib/python3.7/site-packages/plotnine/ggplot.py:706: UserWarning: Saving 2.4000000000000004 x 2 in image.\n",
      "  from_inches(height, units), units))\n",
      "/usr/local/lib/python3.7/site-packages/plotnine/ggplot.py:707: UserWarning: Filename: Hobusu-skill-0e616ebc420f950e4369c25013121552-4fed4f11ebcd2678ee1d7278d87eb650.png\n",
      "  warn('Filename: {}'.format(filename))\n",
      "/usr/local/lib/python3.7/site-packages/plotnine/ggplot.py:706: UserWarning: Saving 4.0 x 2 in image.\n",
      "  from_inches(height, units), units))\n",
      "/usr/local/lib/python3.7/site-packages/plotnine/ggplot.py:707: UserWarning: Filename: Hobusu-char-skill-0e616ebc420f950e4369c25013121552-4fed4f11ebcd2678ee1d7278d87eb650.png\n",
      "  warn('Filename: {}'.format(filename))\n",
      "/usr/local/lib/python3.7/site-packages/plotnine/ggplot.py:706: UserWarning: Saving 8.0 x 2 in image.\n",
      "  from_inches(height, units), units))\n",
      "/usr/local/lib/python3.7/site-packages/plotnine/ggplot.py:707: UserWarning: Filename: Niijima-San-skill-0e616ebc420f950e4369c25013121552-4fed4f11ebcd2678ee1d7278d87eb650.png\n",
      "  warn('Filename: {}'.format(filename))\n",
      "/usr/local/lib/python3.7/site-packages/plotnine/ggplot.py:706: UserWarning: Saving 4.0 x 2 in image.\n",
      "  from_inches(height, units), units))\n",
      "/usr/local/lib/python3.7/site-packages/plotnine/ggplot.py:707: UserWarning: Filename: Niijima-San-char-skill-0e616ebc420f950e4369c25013121552-4fed4f11ebcd2678ee1d7278d87eb650.png\n",
      "  warn('Filename: {}'.format(filename))\n"
     ]
    }
   ],
   "source": [
    "render_players(\n",
    "    'vengefulpickle',\n",
    "    'mysticjuicer',\n",
    "    'cpat',\n",
    "    'CKR',\n",
    "    'Bomber678',\n",
    "    'snoc',\n",
    "    'thehug0naut',\n",
    "    'Fluffiness',\n",
    "    'Hobusu',\n",
    "    'Niijima-San'\n",
    ")"
   ]
  },
  {
   "cell_type": "code",
   "execution_count": null,
   "metadata": {},
   "outputs": [],
   "source": [
    "iyl6 = player_tournament_skill[player_tournament_skill.tournament=='IYL Season 6'].copy()\n",
    "\n",
    "iyl_player_list = iyl6.groupby('player').skill.median().sort_values().index.tolist()\n",
    "iyl6['player'] = iyl6['player'].astype('category').cat.reorder_categories(iyl_player_list, ordered=True)\n",
    "\n",
    "plot = (\n",
    "    ggplot(iyl6, aes(x='player', y='skill'))\n",
    "    + geom_violin()\n",
    "    + theme(\n",
    "        figure_size=(10, 10),\n",
    "    )\n",
    "    + coord_flip()\n",
    ")\n",
    "plot.save(f'iyl6-{model_hash}-{data_hash}.png')"
   ]
  },
  {
   "cell_type": "code",
   "execution_count": null,
   "metadata": {},
   "outputs": [],
   "source": [
    "num_samples = player_tournament_skill['sample'].nunique()\n",
    "skill_subsample = pandas.cut(\n",
    "    player_tournament_skill.set_index(['tournament', 'player']).skill,\n",
    "    bins=[x-0.5 for x in range(-9, 9)],\n",
    "    precision=0,\n",
    ").rename('skill').reset_index().groupby(\n",
    "    ['tournament', 'player', 'skill']\n",
    ").size().rename('skill_fraction').reset_index(['skill'])\n",
    "\n",
    "skill_subsample['skill_fraction'] /= num_samples\n",
    "\n",
    "game_skill = games.join(\n",
    "    skill_subsample.rename(columns={'skill': 'skill_1', 'skill_fraction': 'skill_fraction_1'}),\n",
    "    on=('tournament_name', 'player_1')\n",
    ").join(\n",
    "    skill_subsample.rename(columns={'skill': 'skill_2', 'skill_fraction': 'skill_fraction_2'}),\n",
    "    on=('tournament_name', 'player_2')\n",
    ")\n",
    "\n",
    "flipped = game_skill[game_skill.character_1 < game_skill.character_2]\n",
    "flipped = flipped.rename(columns={\n",
    "    'character_1': 'character_2',\n",
    "    'character_2': 'character_1',\n",
    "    'skill_1': 'skill_2',\n",
    "    'skill_2': 'skill_1',\n",
    "    'skill_fraction_1': 'skill_fraction_2',\n",
    "    'skill_fraction_2': 'skill_fraction_1',\n",
    "})\n",
    "flipped['win'] = 1-flipped.win\n",
    "game_skill = game_skill.append(flipped)\n",
    "\n",
    "game_skill['skill_fraction'] = game_skill.skill_fraction_1 * game_skill.skill_fraction_2\n",
    "game_skill['win_fraction'] = game_skill.win * game_skill.skill_fraction\n",
    "\n"
   ]
  },
  {
   "cell_type": "code",
   "execution_count": null,
   "metadata": {},
   "outputs": [],
   "source": [
    "game_skill.info(memory_usage='deep')"
   ]
  },
  {
   "cell_type": "code",
   "execution_count": null,
   "metadata": {},
   "outputs": [],
   "source": [
    "game_skill.groupby(['character_1', 'character_2', 'skill_1', 'skill_2']).sum().dropna().sort_values(by='win_fraction', ascending=False).head()"
   ]
  },
  {
   "cell_type": "code",
   "execution_count": null,
   "metadata": {},
   "outputs": [],
   "source": [
    "import itertools\n",
    "from plotnine import *\n",
    "\n",
    "df = game_skill.groupby(\n",
    "    ['character_1', 'character_2', 'skill_1', 'skill_2']\n",
    ").sum().rename(columns={'skill_fraction': 'games_played', 'win_fraction': 'p1_wins'}).reset_index().dropna()\n",
    "df['p1_win_prob'] = df.p1_wins / df.games_played\n",
    "max_count = df['games_played'].max()\n",
    "df['played_color'] = df.games_played.apply(lambda p: p > max_count*.8)\n",
    "df['prob_color'] = df.p1_win_prob.apply(lambda p: not (.2 < p < .8))\n",
    "\n",
    "df = df[df.games_played >= 0.05]\n",
    "\n",
    "character_subsets = [list(Character)[x:x+4] for x in range(0, len(Character), 4)]\n",
    "\n",
    "show_legends = False\n",
    "\n",
    "for ((y, c1_subset), (x, c2_subset)) in itertools.product(enumerate(character_subsets), enumerate(character_subsets)):\n",
    "    subset_selector = df.character_1.isin(c1_subset) & df.character_2.isin(c2_subset)\n",
    "    \n",
    "    tile_plot = (\n",
    "        ggplot(\n",
    "            df[subset_selector],\n",
    "            aes(y='factor(skill_1)', x='factor(skill_2)')\n",
    "        )\n",
    "        + facet_grid('character_1 ~ character_2', labeller='label_both')\n",
    "        + scale_color_grey(start=0, end=1, limits=[False, True])\n",
    "        + labs(y='p1 skill', x='p2 skill')\n",
    "    )\n",
    "    \n",
    "    (\n",
    "        tile_plot\n",
    "        + geom_tile(aes(fill='games_played'), show_legend=show_legends)\n",
    "        + geom_text(\n",
    "            aes(label='games_played', color='played_color'),\n",
    "            size=7,\n",
    "            format_string='{:.1f}',\n",
    "            show_legend=show_legends,\n",
    "        )\n",
    "        + scale_fill_distiller(type='seq', limits=[0, max_count], palette='YlOrRd')\n",
    "        + theme(\n",
    "            figure_size=(15, 15),\n",
    "            axis_text_x=element_text(rotation=90)\n",
    "        )\n",
    "    ).save(f'games-played-skill-{model_hash}-{data_hash}-{x}-{y}.png', limitsize=False, verbose=False)\n",
    "    \n",
    "    (\n",
    "        tile_plot\n",
    "        + geom_tile(aes(fill='p1_win_prob'), show_legend=show_legends)\n",
    "        + geom_text(\n",
    "            aes(label='p1_win_prob', color='prob_color'),\n",
    "            size=7,\n",
    "            format_string='{:.0%}',\n",
    "            show_legend=show_legends,\n",
    "        )\n",
    "        + scale_fill_distiller(type='div', limits=[0, 1], palette='RdBu')\n",
    "        + theme(\n",
    "            figure_size=(15, 15),\n",
    "            axis_text_x=element_text(rotation=90)\n",
    "        )\n",
    "    ).save(f'win-rate-skill-{model_hash}-{data_hash}-{x}-{y}.png', limitsize=False, verbose=False)\n"
   ]
  },
  {
   "cell_type": "code",
   "execution_count": null,
   "metadata": {},
   "outputs": [],
   "source": [
    "from PIL import Image\n",
    "\n",
    "num_tiles = len(Character) // 4\n",
    "\n",
    "for prefix in ('win-rate-skill', 'games-played-skill'):\n",
    "    tiles = {\n",
    "        (x, y): Image.open(f'{prefix}-{model_hash}-{data_hash}-{x}-{y}.png')\n",
    "        for x in range(num_tiles)\n",
    "        for y in range(num_tiles)\n",
    "    }\n",
    "    (tile_width, tile_height) = tiles[(0, 0)].size\n",
    "    dest_image = Image.new(tiles[(0, 0)].mode, (num_tiles * tile_width, num_tiles * tile_height))\n",
    "    for ((x, y), tile) in tiles.items():\n",
    "        dest_image.paste(tile, (x * tile_width, y * tile_height))\n",
    "    dest_image.save(f'{prefix}-{model_hash}-{data_hash}.png')"
   ]
  },
  {
   "cell_type": "code",
   "execution_count": null,
   "metadata": {},
   "outputs": [],
   "source": []
  }
 ],
 "metadata": {
  "kernelspec": {
   "display_name": "Python 3",
   "language": "python",
   "name": "python3"
  },
  "language_info": {
   "codemirror_mode": {
    "name": "ipython",
    "version": 3
   },
   "file_extension": ".py",
   "mimetype": "text/x-python",
   "name": "python",
   "nbconvert_exporter": "python",
   "pygments_lexer": "ipython3",
   "version": "3.7.1"
  }
 },
 "nbformat": 4,
 "nbformat_minor": 2
}
