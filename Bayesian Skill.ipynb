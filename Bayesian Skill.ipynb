{
 "cells": [
  {
   "cell_type": "code",
   "execution_count": 1,
   "metadata": {},
   "outputs": [],
   "source": [
    "%load_ext autoreload\n",
    "%autoreload 2"
   ]
  },
  {
   "cell_type": "code",
   "execution_count": 2,
   "metadata": {},
   "outputs": [],
   "source": [
    "url = 'https://docs.google.com/spreadsheets/d/1HcdISgCl3s4RpWkJa8m-G1JjfKzd8qf2WY2Xcw32D7U/pub?gid=1371955398&single=true&output=csv'"
   ]
  },
  {
   "cell_type": "code",
   "execution_count": 3,
   "metadata": {},
   "outputs": [],
   "source": [
    "import pandas\n",
    "import re\n",
    "from enum import Enum\n",
    "\n",
    "class Character(Enum):\n",
    "   \n",
    "    def __ge__(self, other):\n",
    "        if self.__class__ is other.__class__:\n",
    "            return self.value >= other.value\n",
    "        return NotImplemented\n",
    "    def __gt__(self, other):\n",
    "        if self.__class__ is other.__class__:\n",
    "            return self.value > other.value\n",
    "        return NotImplemented\n",
    "    def __le__(self, other):\n",
    "        if self.__class__ is other.__class__:\n",
    "            return self.value <= other.value\n",
    "        return NotImplemented\n",
    "    def __lt__(self, other):\n",
    "        if self.__class__ is other.__class__:\n",
    "            return self.value < other.value\n",
    "        return NotImplemented\n",
    "\n",
    "    Argagarg = 'argagarg'\n",
    "    BBB = 'bbb'\n",
    "    DeGrey = 'degrey'\n",
    "    Geiger = 'geiger'\n",
    "    Gloria = 'gloria'\n",
    "    Grave = 'grave'\n",
    "    Gwen = 'gwen'\n",
    "    Jaina = 'jaina'\n",
    "    Lum = 'lum'\n",
    "    Menelker = 'menelker'\n",
    "    Midori = 'midori'\n",
    "    Onimaru = 'onimaru'\n",
    "    Persephone = 'persephone'\n",
    "    Quince = 'quince'\n",
    "    Rook = 'rook'\n",
    "    Setsuki = 'setsuki'\n",
    "    Troq = 'troq'\n",
    "    Valerie = 'valerie'\n",
    "    Vendetta = 'vendetta'\n",
    "    Zane = 'zane'\n",
    "    \n",
    "    def __str__(self):\n",
    "        return self.name\n",
    "    \n",
    "for char in Character:\n",
    "    locals()[char.name] = char\n",
    "    \n",
    "character_category = pandas.api.types.CategoricalDtype(Character, ordered=True)\n",
    "    \n",
    "historical_record = pandas.read_csv(url)\n",
    "historical_record.columns = [re.sub('\\W+', '_', col.lower()).strip('_') for col in historical_record.columns]\n",
    "\n",
    "historical_record = historical_record[\n",
    "    ~historical_record.character_1.isin(['Squall', 'Kefka', 'Ultimicia']) &\n",
    "    ~historical_record.character_2.isin(['Squall', 'Kefka', 'Ultimicia'])\n",
    "]\n",
    "\n",
    "historical_record.character_2.replace(to_replace=['variable'], value=['Gloria'], inplace=True)\n",
    "\n",
    "names = pandas.DataFrame({'name': historical_record.player_1.append(historical_record.player_2)})\n",
    "names['lower'] = names.apply(lambda r: r['name'].lower(), axis=1)\n",
    "name_map = names.groupby('lower').first()\n",
    "\n",
    "historical_record['match_date'] = pandas.to_datetime(historical_record.match_date, infer_datetime_format=True)\n",
    "historical_record.format_restricted.replace(to_replace=['.', 'Restricted'], value=[False, True], inplace=True)\n",
    "historical_record.format_team.replace(to_replace=['.', 'Team'], value=[False, True], inplace=True)\n",
    "historical_record.char_select_random.replace(to_replace=['.', 'Random'], value=[False, True], inplace=True)\n",
    "historical_record.char_select_locked.replace(to_replace=['.', 'Locked'], value=[False, True], inplace=True)\n",
    "historical_record.set_length_non_ft3_ft4.replace(to_replace=['.', 'non-FT3/FT4'], value=[False, True], inplace=True)\n",
    "historical_record.set_win_1 = historical_record.set_win_1.fillna(0)\n",
    "historical_record.set_win_2 = historical_record.set_win_2.fillna(0)\n",
    "historical_record.wins_1 = historical_record.wins_1.fillna(0)\n",
    "historical_record.wins_2 = historical_record.wins_2.fillna(0)\n",
    "historical_record.character_1 = historical_record.character_1.apply(lambda n: Character(n.lower()))\n",
    "historical_record.character_2 = historical_record.character_2.apply(lambda n: Character(n.lower()))\n",
    "historical_record.player_1 = historical_record.player_1.apply(lambda n: name_map.loc[n.lower()])\n",
    "historical_record.player_2 = historical_record.player_2.apply(lambda n: name_map.loc[n.lower()])\n",
    "\n",
    "player_category = pandas.api.types.CategoricalDtype(\n",
    "    sorted(historical_record.player_1.append(historical_record.player_2).unique()),\n",
    "    ordered=True\n",
    ")\n",
    "\n",
    "tournament_category = pandas.api.types.CategoricalDtype(\n",
    "    sorted(historical_record.tournament_name.unique()),\n",
    "    ordered=True\n",
    ")\n",
    "\n",
    "historical_record = historical_record.astype({\n",
    "    'tournament_name': tournament_category,\n",
    "    'set_win_1': 'int8',\n",
    "    'player_1': player_category,\n",
    "    'character_1': character_category,\n",
    "    'wins_1': 'int8',\n",
    "    'wins_2': 'int8',\n",
    "    'character_2': character_category,\n",
    "    'player_2': player_category,\n",
    "    'set_win_2': 'int8',\n",
    "})\n"
   ]
  },
  {
   "cell_type": "code",
   "execution_count": 4,
   "metadata": {},
   "outputs": [
    {
     "name": "stdout",
     "output_type": "stream",
     "text": [
      "<class 'pandas.core.frame.DataFrame'>\n",
      "Int64Index: 12136 entries, 0 to 12137\n",
      "Data columns (total 15 columns):\n",
      "tournament_name           12136 non-null category\n",
      "match_date                12136 non-null datetime64[ns]\n",
      "char_select_random        12136 non-null bool\n",
      "char_select_locked        12136 non-null bool\n",
      "set_length_non_ft3_ft4    12136 non-null bool\n",
      "format_team               12136 non-null bool\n",
      "format_restricted         12136 non-null bool\n",
      "set_win_1                 12136 non-null int8\n",
      "player_1                  12136 non-null category\n",
      "character_1               12136 non-null category\n",
      "wins_1                    12136 non-null int8\n",
      "wins_2                    12136 non-null int8\n",
      "character_2               12136 non-null category\n",
      "player_2                  12136 non-null category\n",
      "set_win_2                 12136 non-null int8\n",
      "dtypes: bool(5), category(5), datetime64[ns](1), int8(4)\n",
      "memory usage: 468.8 KB\n"
     ]
    }
   ],
   "source": [
    "historical_record.info(memory_usage='deep')"
   ]
  },
  {
   "cell_type": "code",
   "execution_count": 5,
   "metadata": {},
   "outputs": [
    {
     "data": {
      "text/html": [
       "<div>\n",
       "<style scoped>\n",
       "    .dataframe tbody tr th:only-of-type {\n",
       "        vertical-align: middle;\n",
       "    }\n",
       "\n",
       "    .dataframe tbody tr th {\n",
       "        vertical-align: top;\n",
       "    }\n",
       "\n",
       "    .dataframe thead th {\n",
       "        text-align: right;\n",
       "    }\n",
       "</style>\n",
       "<table border=\"1\" class=\"dataframe\">\n",
       "  <thead>\n",
       "    <tr style=\"text-align: right;\">\n",
       "      <th></th>\n",
       "      <th>tournament_name</th>\n",
       "      <th>match_date</th>\n",
       "      <th>char_select_random</th>\n",
       "      <th>char_select_locked</th>\n",
       "      <th>set_length_non_ft3_ft4</th>\n",
       "      <th>format_team</th>\n",
       "      <th>format_restricted</th>\n",
       "      <th>set_win_1</th>\n",
       "      <th>player_1</th>\n",
       "      <th>character_1</th>\n",
       "      <th>wins_1</th>\n",
       "      <th>wins_2</th>\n",
       "      <th>character_2</th>\n",
       "      <th>player_2</th>\n",
       "      <th>set_win_2</th>\n",
       "    </tr>\n",
       "  </thead>\n",
       "  <tbody>\n",
       "    <tr>\n",
       "      <th>0</th>\n",
       "      <td>IYL Season 1</td>\n",
       "      <td>2014-08-16</td>\n",
       "      <td>False</td>\n",
       "      <td>False</td>\n",
       "      <td>False</td>\n",
       "      <td>False</td>\n",
       "      <td>False</td>\n",
       "      <td>0</td>\n",
       "      <td>Akawashi</td>\n",
       "      <td>Gwen</td>\n",
       "      <td>2</td>\n",
       "      <td>1</td>\n",
       "      <td>Argagarg</td>\n",
       "      <td>Bob199</td>\n",
       "      <td>1</td>\n",
       "    </tr>\n",
       "    <tr>\n",
       "      <th>1</th>\n",
       "      <td>IYL Season 1</td>\n",
       "      <td>2014-08-16</td>\n",
       "      <td>False</td>\n",
       "      <td>False</td>\n",
       "      <td>False</td>\n",
       "      <td>False</td>\n",
       "      <td>False</td>\n",
       "      <td>0</td>\n",
       "      <td>Akawashi</td>\n",
       "      <td>Gwen</td>\n",
       "      <td>0</td>\n",
       "      <td>2</td>\n",
       "      <td>Lum</td>\n",
       "      <td>Bob199</td>\n",
       "      <td>0</td>\n",
       "    </tr>\n",
       "    <tr>\n",
       "      <th>2</th>\n",
       "      <td>IYL Season 1</td>\n",
       "      <td>2014-08-17</td>\n",
       "      <td>False</td>\n",
       "      <td>False</td>\n",
       "      <td>False</td>\n",
       "      <td>False</td>\n",
       "      <td>False</td>\n",
       "      <td>0</td>\n",
       "      <td>CKR</td>\n",
       "      <td>Setsuki</td>\n",
       "      <td>2</td>\n",
       "      <td>1</td>\n",
       "      <td>Zane</td>\n",
       "      <td>Bob199</td>\n",
       "      <td>1</td>\n",
       "    </tr>\n",
       "    <tr>\n",
       "      <th>3</th>\n",
       "      <td>IYL Season 1</td>\n",
       "      <td>2014-08-17</td>\n",
       "      <td>False</td>\n",
       "      <td>False</td>\n",
       "      <td>False</td>\n",
       "      <td>False</td>\n",
       "      <td>False</td>\n",
       "      <td>0</td>\n",
       "      <td>CKR</td>\n",
       "      <td>Setsuki</td>\n",
       "      <td>0</td>\n",
       "      <td>2</td>\n",
       "      <td>Grave</td>\n",
       "      <td>Bob199</td>\n",
       "      <td>0</td>\n",
       "    </tr>\n",
       "    <tr>\n",
       "      <th>4</th>\n",
       "      <td>IYL Season 1</td>\n",
       "      <td>2014-08-17</td>\n",
       "      <td>False</td>\n",
       "      <td>False</td>\n",
       "      <td>False</td>\n",
       "      <td>False</td>\n",
       "      <td>False</td>\n",
       "      <td>1</td>\n",
       "      <td>Akawashi</td>\n",
       "      <td>Troq</td>\n",
       "      <td>1</td>\n",
       "      <td>0</td>\n",
       "      <td>Argagarg</td>\n",
       "      <td>CKR</td>\n",
       "      <td>0</td>\n",
       "    </tr>\n",
       "  </tbody>\n",
       "</table>\n",
       "</div>"
      ],
      "text/plain": [
       "  tournament_name match_date  char_select_random  char_select_locked  \\\n",
       "0    IYL Season 1 2014-08-16               False               False   \n",
       "1    IYL Season 1 2014-08-16               False               False   \n",
       "2    IYL Season 1 2014-08-17               False               False   \n",
       "3    IYL Season 1 2014-08-17               False               False   \n",
       "4    IYL Season 1 2014-08-17               False               False   \n",
       "\n",
       "   set_length_non_ft3_ft4  format_team  format_restricted  set_win_1  \\\n",
       "0                   False        False              False          0   \n",
       "1                   False        False              False          0   \n",
       "2                   False        False              False          0   \n",
       "3                   False        False              False          0   \n",
       "4                   False        False              False          1   \n",
       "\n",
       "   player_1 character_1  wins_1  wins_2 character_2 player_2  set_win_2  \n",
       "0  Akawashi        Gwen       2       1    Argagarg   Bob199          1  \n",
       "1  Akawashi        Gwen       0       2         Lum   Bob199          0  \n",
       "2       CKR     Setsuki       2       1        Zane   Bob199          1  \n",
       "3       CKR     Setsuki       0       2       Grave   Bob199          0  \n",
       "4  Akawashi        Troq       1       0    Argagarg      CKR          0  "
      ]
     },
     "execution_count": 5,
     "metadata": {},
     "output_type": "execute_result"
    }
   ],
   "source": [
    "historical_record.head()"
   ]
  },
  {
   "cell_type": "code",
   "execution_count": 6,
   "metadata": {},
   "outputs": [],
   "source": [
    "import numpy as np\n",
    "p1_wins = historical_record.loc[np.repeat(historical_record.index.values, historical_record.wins_1.astype(int))].reset_index(drop=True)\n",
    "p2_wins = historical_record.loc[np.repeat(historical_record.index.values, historical_record.wins_2.astype(int))].reset_index(drop=True)\n",
    "\n",
    "p1_wins['win'] = 1\n",
    "p2_wins['win'] = 0\n",
    "\n",
    "games = pandas.concat([p1_wins, p2_wins]).reset_index(drop=True)[['tournament_name', 'match_date', 'player_1', 'character_1', 'win', 'character_2', 'player_2']]\n",
    "\n",
    "backwards_mus = games.character_1 > games.character_2\n",
    "games[backwards_mus] = games[backwards_mus].rename(columns={\n",
    "    'player_1': 'player_2',\n",
    "    'player_2': 'player_1',\n",
    "    'character_1': 'character_2',\n",
    "    'character_2': 'character_1',\n",
    "})\n",
    "games.loc[backwards_mus, ['win']] = 1 - games[backwards_mus].win\n",
    "\n",
    "mirror_mus_to_flip = list(games[games.character_1 == games.character_2].iloc[::2].index.values)\n",
    "games.iloc[mirror_mus_to_flip] = games.iloc[mirror_mus_to_flip].rename(columns={\n",
    "    'player_1': 'player_2',\n",
    "    'player_2': 'player_1',\n",
    "    'character_1': 'character_2',\n",
    "    'character_2': 'character_1',\n",
    "})\n",
    "games.iloc[mirror_mus_to_flip, games.columns.get_loc('win')] = 1 - games.iloc[mirror_mus_to_flip].win\n",
    "\n",
    "games = games.astype({'win': 'int8'})"
   ]
  },
  {
   "cell_type": "code",
   "execution_count": 7,
   "metadata": {},
   "outputs": [
    {
     "name": "stdout",
     "output_type": "stream",
     "text": [
      "<class 'pandas.core.frame.DataFrame'>\n",
      "RangeIndex: 21385 entries, 0 to 21384\n",
      "Data columns (total 7 columns):\n",
      "tournament_name    21385 non-null category\n",
      "match_date         21385 non-null datetime64[ns]\n",
      "player_1           21385 non-null category\n",
      "character_1        21385 non-null category\n",
      "win                21385 non-null int8\n",
      "character_2        21385 non-null category\n",
      "player_2           21385 non-null category\n",
      "dtypes: category(5), datetime64[ns](1), int8(1)\n",
      "memory usage: 432.8 KB\n"
     ]
    }
   ],
   "source": [
    "games.info(memory_usage='deep')"
   ]
  },
  {
   "cell_type": "code",
   "execution_count": 8,
   "metadata": {},
   "outputs": [
    {
     "data": {
      "text/plain": [
       "636"
      ]
     },
     "execution_count": 8,
     "metadata": {},
     "output_type": "execute_result"
    }
   ],
   "source": [
    "games[games.character_1 == games.character_2].win.sum()"
   ]
  },
  {
   "cell_type": "code",
   "execution_count": 9,
   "metadata": {},
   "outputs": [
    {
     "data": {
      "text/html": [
       "<div>\n",
       "<style scoped>\n",
       "    .dataframe tbody tr th:only-of-type {\n",
       "        vertical-align: middle;\n",
       "    }\n",
       "\n",
       "    .dataframe tbody tr th {\n",
       "        vertical-align: top;\n",
       "    }\n",
       "\n",
       "    .dataframe thead th {\n",
       "        text-align: right;\n",
       "    }\n",
       "</style>\n",
       "<table border=\"1\" class=\"dataframe\">\n",
       "  <thead>\n",
       "    <tr style=\"text-align: right;\">\n",
       "      <th></th>\n",
       "      <th>tournament_name</th>\n",
       "      <th>match_date</th>\n",
       "      <th>player_1</th>\n",
       "      <th>character_1</th>\n",
       "      <th>win</th>\n",
       "      <th>character_2</th>\n",
       "      <th>player_2</th>\n",
       "    </tr>\n",
       "  </thead>\n",
       "  <tbody>\n",
       "    <tr>\n",
       "      <th>0</th>\n",
       "      <td>IYL Season 1</td>\n",
       "      <td>2014-08-16</td>\n",
       "      <td>Bob199</td>\n",
       "      <td>Argagarg</td>\n",
       "      <td>0</td>\n",
       "      <td>Gwen</td>\n",
       "      <td>Akawashi</td>\n",
       "    </tr>\n",
       "    <tr>\n",
       "      <th>1</th>\n",
       "      <td>IYL Season 1</td>\n",
       "      <td>2014-08-16</td>\n",
       "      <td>Bob199</td>\n",
       "      <td>Argagarg</td>\n",
       "      <td>0</td>\n",
       "      <td>Gwen</td>\n",
       "      <td>Akawashi</td>\n",
       "    </tr>\n",
       "    <tr>\n",
       "      <th>2</th>\n",
       "      <td>IYL Season 1</td>\n",
       "      <td>2014-08-17</td>\n",
       "      <td>CKR</td>\n",
       "      <td>Setsuki</td>\n",
       "      <td>1</td>\n",
       "      <td>Zane</td>\n",
       "      <td>Bob199</td>\n",
       "    </tr>\n",
       "    <tr>\n",
       "      <th>3</th>\n",
       "      <td>IYL Season 1</td>\n",
       "      <td>2014-08-17</td>\n",
       "      <td>CKR</td>\n",
       "      <td>Setsuki</td>\n",
       "      <td>1</td>\n",
       "      <td>Zane</td>\n",
       "      <td>Bob199</td>\n",
       "    </tr>\n",
       "    <tr>\n",
       "      <th>4</th>\n",
       "      <td>IYL Season 1</td>\n",
       "      <td>2014-08-17</td>\n",
       "      <td>CKR</td>\n",
       "      <td>Argagarg</td>\n",
       "      <td>0</td>\n",
       "      <td>Troq</td>\n",
       "      <td>Akawashi</td>\n",
       "    </tr>\n",
       "  </tbody>\n",
       "</table>\n",
       "</div>"
      ],
      "text/plain": [
       "  tournament_name match_date player_1 character_1  win character_2  player_2\n",
       "0    IYL Season 1 2014-08-16   Bob199    Argagarg    0        Gwen  Akawashi\n",
       "1    IYL Season 1 2014-08-16   Bob199    Argagarg    0        Gwen  Akawashi\n",
       "2    IYL Season 1 2014-08-17      CKR     Setsuki    1        Zane    Bob199\n",
       "3    IYL Season 1 2014-08-17      CKR     Setsuki    1        Zane    Bob199\n",
       "4    IYL Season 1 2014-08-17      CKR    Argagarg    0        Troq  Akawashi"
      ]
     },
     "execution_count": 9,
     "metadata": {},
     "output_type": "execute_result"
    }
   ],
   "source": [
    "games.head()"
   ]
  },
  {
   "cell_type": "code",
   "execution_count": 10,
   "metadata": {},
   "outputs": [
    {
     "name": "stdout",
     "output_type": "stream",
     "text": [
      "Model Hash: 165eac82d0ff9a5eedae03d5326dc6fa\n"
     ]
    }
   ],
   "source": [
    "import pystan\n",
    "import pickle\n",
    "import hashlib\n",
    "\n",
    "stan_code = \"\"\"\n",
    "data {\n",
    "    int<lower=0> NPT; // Number of player/tournaments\n",
    "    int<lower=0> NG; // Number of games\n",
    "    int<lower=0> NMG; // Number of mirror-games\n",
    "    int<lower=0> NM; // Number of non-mirror matchups\n",
    "    int<lower=0> NMM; // Number of mirror matchups\n",
    "    \n",
    "    int<lower=0, upper=NPT> prev_tournament[NPT]; // Previous tournament for player/tournament\n",
    "    \n",
    "    int<lower=0, upper=1> win[NG]; // Did player 1 win game\n",
    "    int<lower=1, upper=NPT> pt1[NG]; // Player/tournament 1 in game\n",
    "    int<lower=1, upper=NPT> pt2[NG]; // Player/tournament 2 in game\n",
    "    int<lower=1, upper=NM> mup[NG]; // Matchup in game\n",
    "    \n",
    "    int<lower=0, upper=1> m_win[NMG]; // Did player 1 win mirror-match\n",
    "    int<lower=1, upper=NPT> m_pt1[NMG]; // Player/tournament 1 in mirror-match\n",
    "    int<lower=1, upper=NPT> m_pt2[NMG]; // Player/tournament 2 in mirror-match\n",
    "    int<lower=1, upper=NM> m_mup[NMG]; // Matchup in game\n",
    "    \n",
    "}\n",
    "parameters {\n",
    "    vector[NPT] skill_adjust; // Skill change before player/tournament\n",
    "    vector[NM] mu; // Matchup value\n",
    "    vector<lower=0>[NM] muv; // Matchup skill multiplier\n",
    "    vector<lower=0>[NMM] mmv; // Mirror matchup skill multiplier\n",
    "}\n",
    "transformed parameters {\n",
    "    vector[NPT] skill;\n",
    "    \n",
    "    for (t in 1:NPT) {\n",
    "        if (prev_tournament[t] == 0)\n",
    "            skill[t] = skill_adjust[t];\n",
    "        else\n",
    "            skill[t] = skill[prev_tournament[t]] + skill_adjust[t];\n",
    "    }\n",
    "    \n",
    "}\n",
    "model {\n",
    "    skill_adjust ~ std_normal();\n",
    "    mu ~ normal(0, 0.5);\n",
    "    mmv ~ std_normal();\n",
    "    muv ~ std_normal();\n",
    "    \n",
    "    win ~ bernoulli_logit(muv[mup] .* (skill[pt1] - skill[pt2]) + mu[mup]);\n",
    "    m_win ~ bernoulli_logit(mmv[m_mup] .* (skill[m_pt1] - skill[m_pt2]));\n",
    "}\n",
    "\"\"\"\n",
    "\n",
    "model_hash = hashlib.md5(stan_code.encode('utf-8')).hexdigest()\n",
    "print(f\"Model Hash: {model_hash}\")\n",
    "\n",
    "model_filename = f\"{model_hash}.model\"\n",
    "\n",
    "try:\n",
    "    with open(model_filename, 'rb') as model_file:\n",
    "        model = pickle.load(model_file)\n",
    "except IOError:\n",
    "    with open(f\"{model_hash}.stan\", \"w\") as code_file:\n",
    "        code_file.write(stan_code)\n",
    "    model = pystan.StanModel(model_code=stan_code)\n",
    "    with open(model_filename, 'wb') as model_file:\n",
    "        pickle.dump(model, model_file)"
   ]
  },
  {
   "cell_type": "code",
   "execution_count": 11,
   "metadata": {},
   "outputs": [],
   "source": [
    "player_index = dict(zip(sorted(games.player_1.append(games.player_2).unique()), range(1, 1000)))\n",
    "mu_index = dict(zip(((c1, c2) for c1 in Character for c2 in Character if c1 < c2), range(1, 1000)))\n",
    "mirror_index = dict(zip(Character, range(1, 1000)))\n",
    "\n",
    "p1_games = games[['player_1', 'tournament_name', 'match_date']].rename(columns={'player_1': 'player'})\n",
    "p2_games = games[['player_2', 'tournament_name', 'match_date']].rename(columns={'player_2': 'player'})\n",
    "\n",
    "player_tournament_dates = (\n",
    "    p1_games\n",
    "    .append(p2_games)\n",
    "    .groupby(['player', 'tournament_name'])\n",
    "    .match_date\n",
    "    .quantile(0.5)\n",
    "    .reset_index()\n",
    "    .sort_values(['match_date', 'player'])\n",
    "    .reset_index(drop=True)\n",
    ")\n",
    "\n",
    "player_tournament_index = dict(player_tournament_dates.apply(lambda r: ((r.player, r.tournament_name), r.name + 1), axis=1).values)\n",
    "\n",
    "for player in player_tournament_dates.player.unique():\n",
    "    player_tournament_dates.loc[player_tournament_dates.player == player, 'previous'] = (\n",
    "        [-1] + list(player_tournament_dates.loc[player_tournament_dates.player == player].index.values)[:-1]\n",
    "    )\n",
    "\n",
    "\n",
    "ordered_tournaments = games.groupby('tournament_name').match_date.quantile(0.5).reset_index().sort_values('match_date').tournament_name\n",
    "tournament_index = dict(zip(ordered_tournaments, range(1, 1000)))\n",
    "\n",
    "non_mirror_games = games[games.character_1 != games.character_2]\n",
    "mirror_games = games[games.character_1 == games.character_2]\n",
    "\n",
    "stan_data = {\n",
    "    'NPT': len(player_tournament_index),\n",
    "    'NG': len(non_mirror_games),\n",
    "    'NMG': len(mirror_games),\n",
    "    'NM': len(mu_index),\n",
    "    'NMM': len(mirror_index),\n",
    "    'win': non_mirror_games.win,\n",
    "    'pt1': non_mirror_games.apply(lambda r: player_tournament_index[(r.player_1, r.tournament_name)], axis=1),\n",
    "    'pt2': non_mirror_games.apply(lambda r: player_tournament_index[(r.player_2, r.tournament_name)], axis=1),\n",
    "    'mup': non_mirror_games.apply(lambda r: mu_index[(r.character_1, r.character_2)], axis=1),\n",
    "    'm_win': mirror_games.win,\n",
    "    'm_pt1': mirror_games.apply(lambda r: player_tournament_index[(r.player_1, r.tournament_name)], axis=1),\n",
    "    'm_pt2': mirror_games.apply(lambda r: player_tournament_index[(r.player_2, r.tournament_name)], axis=1),\n",
    "    'm_mup': mirror_games.apply(lambda r: mirror_index[r.character_1], axis=1),\n",
    "    'prev_tournament': player_tournament_dates.previous.astype(int).apply(lambda x: x+1)\n",
    "}\n",
    "\n",
    "del(p1_games)\n",
    "del(p2_games)\n",
    "del(player_tournament_dates)\n",
    "del(non_mirror_games)\n",
    "del(mirror_games)"
   ]
  },
  {
   "cell_type": "code",
   "execution_count": 12,
   "metadata": {},
   "outputs": [
    {
     "name": "stdout",
     "output_type": "stream",
     "text": [
      "Data Hash: f99dc79a2a1d584d25f833bdc5e4c656\n"
     ]
    }
   ],
   "source": [
    "# data_hash = hashlib.md5(pickle.dumps(stan_data)).hexdigest()\n",
    "data_hash = 'f99dc79a2a1d584d25f833bdc5e4c656'\n",
    "print(f\"Data Hash: {data_hash}\")"
   ]
  },
  {
   "cell_type": "code",
   "execution_count": 13,
   "metadata": {},
   "outputs": [
    {
     "name": "stderr",
     "output_type": "stream",
     "text": [
      "/home/cpennington/.virtualenvs/yomi-skill/lib/python3.6/site-packages/ipykernel_launcher.py:4: FutureWarning: from_csv is deprecated. Please use read_csv(...) instead. Note that some of the default arguments are different, so please refer to the documentation for from_csv when changing your function calls\n",
      "  after removing the cwd from sys.path.\n"
     ]
    }
   ],
   "source": [
    "results_filename = f'{model_hash}-{data_hash}.csv'\n",
    "\n",
    "try:\n",
    "    fit_results = pandas.DataFrame.from_csv(results_filename)\n",
    "except FileNotFoundError:\n",
    "\n",
    "    fit = model.sampling(\n",
    "        data=stan_data,\n",
    "        iter=1000,\n",
    "        chains=4,\n",
    "        n_jobs=1,\n",
    "    )\n",
    "    fit_results = fit.to_dataframe()\n",
    "\n",
    "    fit_results.to_csv(results_filename)"
   ]
  },
  {
   "cell_type": "code",
   "execution_count": 14,
   "metadata": {},
   "outputs": [
    {
     "name": "stdout",
     "output_type": "stream",
     "text": [
      "<class 'pandas.core.frame.DataFrame'>\n",
      "Int64Index: 2000 entries, 0 to 1999\n",
      "Columns: 5134 entries, chain to lp__\n",
      "dtypes: float64(5128), int64(6)\n",
      "memory usage: 78.4 MB\n"
     ]
    }
   ],
   "source": [
    "fit_results.info(memory_usage='deep')"
   ]
  },
  {
   "cell_type": "code",
   "execution_count": 15,
   "metadata": {},
   "outputs": [],
   "source": [
    "matchups = fit_results[[col for col in fit_results.columns if col.startswith('mu[')]].rename(\n",
    "    columns={'mu[{}]'.format(ix): \"{.value}-{.value}\".format(c1, c2) for ((c1, c2), ix) in mu_index.items()}\n",
    ").unstack().rename('win_rate').reset_index()\n",
    "matchups['c1'] = matchups.level_0.apply(lambda x: Character(x.split('-')[0])).astype(character_category)\n",
    "matchups['c2'] = matchups.level_0.apply(lambda x: Character(x.split('-')[1])).astype(character_category)\n",
    "matchups['win_rate'] = pandas.to_numeric(matchups['win_rate'])\n",
    "del(matchups['level_0'])\n",
    "matchups = matchups.rename(columns={'level_1': 'sample'})"
   ]
  },
  {
   "cell_type": "code",
   "execution_count": 16,
   "metadata": {},
   "outputs": [
    {
     "name": "stdout",
     "output_type": "stream",
     "text": [
      "<class 'pandas.core.frame.DataFrame'>\n",
      "RangeIndex: 380000 entries, 0 to 379999\n",
      "Data columns (total 4 columns):\n",
      "sample      380000 non-null int64\n",
      "win_rate    380000 non-null float64\n",
      "c1          380000 non-null category\n",
      "c2          380000 non-null category\n",
      "dtypes: category(2), float64(1), int64(1)\n",
      "memory usage: 6.5 MB\n"
     ]
    }
   ],
   "source": [
    "matchups.info(memory_usage='deep')"
   ]
  },
  {
   "cell_type": "code",
   "execution_count": 17,
   "metadata": {},
   "outputs": [
    {
     "name": "stderr",
     "output_type": "stream",
     "text": [
      "/home/cpennington/.virtualenvs/yomi-skill/lib/python3.6/site-packages/pandas/core/frame.py:6211: FutureWarning: Sorting because non-concatenation axis is not aligned. A future version\n",
      "of pandas will change to not sort by default.\n",
      "\n",
      "To accept the future behavior, pass 'sort=False'.\n",
      "\n",
      "To retain the current behavior and silence the warning, pass 'sort=True'.\n",
      "\n",
      "  sort=sort)\n"
     ]
    }
   ],
   "source": [
    "flipped = matchups[matchups.c1 != matchups.c2].rename(columns={'c1': 'c2', 'c2': 'c1'})\n",
    "flipped['win_rate'] = -flipped['win_rate']\n",
    "\n",
    "matchups = matchups.append(flipped)\n",
    "del(flipped)"
   ]
  },
  {
   "cell_type": "code",
   "execution_count": 18,
   "metadata": {},
   "outputs": [
    {
     "name": "stdout",
     "output_type": "stream",
     "text": [
      "<class 'pandas.core.frame.DataFrame'>\n",
      "Int64Index: 760000 entries, 0 to 379999\n",
      "Data columns (total 4 columns):\n",
      "c1          760000 non-null category\n",
      "c2          760000 non-null category\n",
      "sample      760000 non-null int64\n",
      "win_rate    760000 non-null float64\n",
      "dtypes: category(2), float64(1), int64(1)\n",
      "memory usage: 18.8 MB\n"
     ]
    }
   ],
   "source": [
    "matchups.info(memory_usage='deep')"
   ]
  },
  {
   "cell_type": "code",
   "execution_count": 19,
   "metadata": {},
   "outputs": [],
   "source": [
    "import math\n",
    "\n",
    "matchups['win_rate'] = pandas.to_numeric(10*(matchups['win_rate'].rpow(math.e)) / (1 + matchups['win_rate'].rpow(math.e)))\n",
    "\n",
    "median_rates = pandas.to_numeric(matchups.groupby(['c1', 'c2']).win_rate.median().rename('median_win_rate'))\n",
    "text_color = median_rates.reset_index().median_win_rate.apply(lambda x: 'white' if x > 6 or x < 4 else 'black')\n",
    "\n",
    "matchups = matchups.join(median_rates, on=['c1', 'c2'])"
   ]
  },
  {
   "cell_type": "code",
   "execution_count": 20,
   "metadata": {},
   "outputs": [
    {
     "name": "stdout",
     "output_type": "stream",
     "text": [
      "<class 'pandas.core.frame.DataFrame'>\n",
      "Int64Index: 760000 entries, 0 to 379999\n",
      "Data columns (total 5 columns):\n",
      "c1                 760000 non-null category\n",
      "c2                 760000 non-null category\n",
      "sample             760000 non-null int64\n",
      "win_rate           760000 non-null float64\n",
      "median_win_rate    760000 non-null float64\n",
      "dtypes: category(2), float64(2), int64(1)\n",
      "memory usage: 24.6 MB\n"
     ]
    }
   ],
   "source": [
    "matchups.info(memory_usage='deep')"
   ]
  },
  {
   "cell_type": "code",
   "execution_count": 22,
   "metadata": {},
   "outputs": [
    {
     "name": "stderr",
     "output_type": "stream",
     "text": [
      "/home/cpennington/.virtualenvs/yomi-skill/lib/python3.6/site-packages/plotnine/ggplot.py:706: UserWarning: Saving 25 x 15 in image.\n",
      "  from_inches(height, units), units))\n",
      "/home/cpennington/.virtualenvs/yomi-skill/lib/python3.6/site-packages/plotnine/ggplot.py:707: UserWarning: Filename: yomi-matchup-estimates-165eac82d0ff9a5eedae03d5326dc6fa-f99dc79a2a1d584d25f833bdc5e4c656.png\n",
      "  warn('Filename: {}'.format(filename))\n",
      "/home/cpennington/.virtualenvs/yomi-skill/lib/python3.6/site-packages/plotnine/layer.py:517: MatplotlibDeprecationWarning: isinstance(..., numbers.Number)\n",
      "  return not cbook.iterable(value) and (cbook.is_numlike(value) or\n",
      "/home/cpennington/.virtualenvs/yomi-skill/lib/python3.6/site-packages/plotnine/layer.py:517: MatplotlibDeprecationWarning: isinstance(..., numbers.Number)\n",
      "  return not cbook.iterable(value) and (cbook.is_numlike(value) or\n",
      "/home/cpennington/.virtualenvs/yomi-skill/lib/python3.6/site-packages/plotnine/utils.py:629: FutureWarning: Sorting because non-concatenation axis is not aligned. A future version\n",
      "of pandas will change to not sort by default.\n",
      "\n",
      "To accept the future behavior, pass 'sort=False'.\n",
      "\n",
      "To retain the current behavior and silence the warning, pass 'sort=True'.\n",
      "\n",
      "  return pd.concat(lst, axis=axis, ignore_index=True)\n"
     ]
    }
   ],
   "source": [
    "from IPython.core.display import display\n",
    "from plotnine import *\n",
    "\n",
    "matchup_chart = (\n",
    "    ggplot(matchups, aes(x='0', y='win_rate', fill='median_win_rate'))\n",
    "    + geom_violin()\n",
    "    + geom_text(\n",
    "        data=median_rates.reset_index(),\n",
    "        mapping=aes(label='median_win_rate', y='median_win_rate', x=0, size=9),\n",
    "        color=text_color,\n",
    "        format_string='{:.2}',\n",
    "    )\n",
    "    + facet_grid('c1 ~ c2')\n",
    "    + coord_flip()\n",
    "    + theme(figure_size=(25, 15))\n",
    "    + scale_fill_gradient2(midpoint=5)\n",
    ")\n",
    "\n",
    "filename = f'yomi-matchup-estimates-{model_hash}-{data_hash}.png'\n",
    "matchup_chart.save(filename)"
   ]
  },
  {
   "cell_type": "code",
   "execution_count": 21,
   "metadata": {},
   "outputs": [
    {
     "name": "stdout",
     "output_type": "stream",
     "text": [
      "<class 'pandas.core.frame.DataFrame'>\n",
      "Int64Index: 760000 entries, 0 to 379999\n",
      "Data columns (total 5 columns):\n",
      "c1                 760000 non-null category\n",
      "c2                 760000 non-null category\n",
      "sample             760000 non-null int64\n",
      "win_rate           760000 non-null float64\n",
      "median_win_rate    760000 non-null float64\n",
      "dtypes: category(2), float64(2), int64(1)\n",
      "memory usage: 24.6 MB\n"
     ]
    }
   ],
   "source": [
    "matchups.info(memory_usage='deep')"
   ]
  },
  {
   "cell_type": "code",
   "execution_count": 22,
   "metadata": {},
   "outputs": [],
   "source": [
    "std_devs = fit_results[[\n",
    "    col for col in fit_results.columns\n",
    "    if col.startswith('muv[') or col.startswith('mmv[')\n",
    "]].rename(\n",
    "    columns={'muv[{}]'.format(ix): \"{.value}-{.value}\".format(c1, c2) for ((c1, c2), ix) in mu_index.items()}\n",
    ").rename(\n",
    "    columns={'mmv[{}]'.format(ix): \"{.value}-{.value}\".format(c1, c1) for (c1, ix) in mirror_index.items()}\n",
    ").unstack().rename('std_dev').reset_index()\n",
    "std_devs['c1'] = std_devs.level_0.apply(lambda x: Character(x.split('-')[0])).astype(character_category)\n",
    "std_devs['c2'] = std_devs.level_0.apply(lambda x: Character(x.split('-')[1])).astype(character_category)\n",
    "del(std_devs['level_0'])\n",
    "std_devs = std_devs.rename(columns={'level_1': 'sample'})"
   ]
  },
  {
   "cell_type": "code",
   "execution_count": 23,
   "metadata": {},
   "outputs": [
    {
     "name": "stdout",
     "output_type": "stream",
     "text": [
      "<class 'pandas.core.frame.DataFrame'>\n",
      "RangeIndex: 420000 entries, 0 to 419999\n",
      "Data columns (total 4 columns):\n",
      "sample     420000 non-null int64\n",
      "std_dev    420000 non-null float64\n",
      "c1         420000 non-null category\n",
      "c2         420000 non-null category\n",
      "dtypes: category(2), float64(1), int64(1)\n",
      "memory usage: 7.2 MB\n"
     ]
    }
   ],
   "source": [
    "std_devs.info(memory_usage='deep')"
   ]
  },
  {
   "cell_type": "code",
   "execution_count": 24,
   "metadata": {},
   "outputs": [],
   "source": [
    "flipped = std_devs[std_devs.c1 != std_devs.c2].rename(columns={'c1': 'c2', 'c2': 'c1'})\n",
    "\n",
    "std_devs = std_devs.append(flipped)"
   ]
  },
  {
   "cell_type": "code",
   "execution_count": 25,
   "metadata": {},
   "outputs": [
    {
     "name": "stdout",
     "output_type": "stream",
     "text": [
      "<class 'pandas.core.frame.DataFrame'>\n",
      "Int64Index: 800000 entries, 0 to 379999\n",
      "Data columns (total 4 columns):\n",
      "c1         800000 non-null category\n",
      "c2         800000 non-null category\n",
      "sample     800000 non-null int64\n",
      "std_dev    800000 non-null float64\n",
      "dtypes: category(2), float64(1), int64(1)\n",
      "memory usage: 19.8 MB\n"
     ]
    }
   ],
   "source": [
    "std_devs.info(memory_usage='deep')"
   ]
  },
  {
   "cell_type": "code",
   "execution_count": 26,
   "metadata": {},
   "outputs": [],
   "source": [
    "import math\n",
    "#std_devs['std_dev'] = 10*(std_devs['std_dev'].rpow(math.e)) / (1 + std_devs['std_dev'].rpow(math.e))-5\n",
    "\n",
    "median_rates = pandas.DataFrame(std_devs.groupby(['c1', 'c2']).std_dev.median().rename('median_std_dev'))\n",
    "text_color = median_rates.reset_index().median_std_dev.apply(lambda x: 'white' if x < 1 else 'black')\n",
    "\n",
    "std_devs = std_devs.join(median_rates, on=['c1', 'c2'])"
   ]
  },
  {
   "cell_type": "code",
   "execution_count": 27,
   "metadata": {},
   "outputs": [
    {
     "name": "stdout",
     "output_type": "stream",
     "text": [
      "<class 'pandas.core.frame.DataFrame'>\n",
      "Int64Index: 800000 entries, 0 to 379999\n",
      "Data columns (total 5 columns):\n",
      "c1                800000 non-null category\n",
      "c2                800000 non-null category\n",
      "sample            800000 non-null int64\n",
      "std_dev           800000 non-null float64\n",
      "median_std_dev    800000 non-null float64\n",
      "dtypes: category(2), float64(2), int64(1)\n",
      "memory usage: 25.9 MB\n"
     ]
    }
   ],
   "source": [
    "std_devs.info(memory_usage='deep')"
   ]
  },
  {
   "cell_type": "code",
   "execution_count": 30,
   "metadata": {},
   "outputs": [
    {
     "name": "stderr",
     "output_type": "stream",
     "text": [
      "/home/cpennington/.virtualenvs/yomi-skill/lib/python3.6/site-packages/plotnine/ggplot.py:706: UserWarning: Saving 25 x 15 in image.\n",
      "  from_inches(height, units), units))\n",
      "/home/cpennington/.virtualenvs/yomi-skill/lib/python3.6/site-packages/plotnine/ggplot.py:707: UserWarning: Filename: yomi-std-dev-estimates-165eac82d0ff9a5eedae03d5326dc6fa-f99dc79a2a1d584d25f833bdc5e4c656.png\n",
      "  warn('Filename: {}'.format(filename))\n",
      "/home/cpennington/.virtualenvs/yomi-skill/lib/python3.6/site-packages/plotnine/layer.py:517: MatplotlibDeprecationWarning: isinstance(..., numbers.Number)\n",
      "  return not cbook.iterable(value) and (cbook.is_numlike(value) or\n",
      "/home/cpennington/.virtualenvs/yomi-skill/lib/python3.6/site-packages/plotnine/layer.py:517: MatplotlibDeprecationWarning: isinstance(..., numbers.Number)\n",
      "  return not cbook.iterable(value) and (cbook.is_numlike(value) or\n",
      "/home/cpennington/.virtualenvs/yomi-skill/lib/python3.6/site-packages/plotnine/layer.py:517: MatplotlibDeprecationWarning: isinstance(..., numbers.Number)\n",
      "  return not cbook.iterable(value) and (cbook.is_numlike(value) or\n"
     ]
    }
   ],
   "source": [
    "from plotnine import *\n",
    "from IPython.core.display import display\n",
    "\n",
    "std_dev_chart = (\n",
    "    ggplot(std_devs, aes(x='0', y='std_dev', fill='median_std_dev'))\n",
    "    + geom_violin()\n",
    "    + geom_text(\n",
    "        data=median_rates.reset_index(),\n",
    "        mapping=aes(label='median_std_dev', x=.4, y=2, size=9),\n",
    "        #color=text_color,\n",
    "        format_string='median={:.2}',\n",
    "    )\n",
    "    + facet_grid('c1 ~ c2')\n",
    "    + coord_flip()\n",
    "    + theme(figure_size=(25, 15))\n",
    "    + scale_fill_gradient2(midpoint=1)\n",
    ")\n",
    "\n",
    "filename = f'yomi-std-dev-estimates-{model_hash}-{data_hash}.png'\n",
    "std_dev_chart.save(filename)"
   ]
  },
  {
   "cell_type": "code",
   "execution_count": 31,
   "metadata": {},
   "outputs": [
    {
     "name": "stderr",
     "output_type": "stream",
     "text": [
      "/home/cpennington/.virtualenvs/yomi-skill/lib/python3.6/site-packages/plotnine/ggplot.py:706: UserWarning: Saving 5 x 5 in image.\n",
      "  from_inches(height, units), units))\n",
      "/home/cpennington/.virtualenvs/yomi-skill/lib/python3.6/site-packages/plotnine/ggplot.py:707: UserWarning: Filename: skill-effects-character-165eac82d0ff9a5eedae03d5326dc6fa-f99dc79a2a1d584d25f833bdc5e4c656.png\n",
      "  warn('Filename: {}'.format(filename))\n"
     ]
    }
   ],
   "source": [
    "(\n",
    "    ggplot(std_devs.sample(frac=0.01), aes(x='0', y='std_dev', fill='median_std_dev'))\n",
    "    + geom_violin()\n",
    "    + facet_wrap('c1')\n",
    "    + coord_flip()\n",
    "    + theme(figure_size=(5, 5))\n",
    "    + scale_fill_gradient2(midpoint=1)\n",
    ").save(f'skill-effects-character-{model_hash}-{data_hash}.png')"
   ]
  },
  {
   "cell_type": "code",
   "execution_count": 33,
   "metadata": {},
   "outputs": [],
   "source": [
    "from IPython.core.display import display\n",
    "\n",
    "reverse_player_tournament_index = {ix: (player, tournament) for ((player, tournament), ix) in player_tournament_index.items()}\n",
    "\n",
    "player_tournament_skill = fit_results[[col for col in fit_results.columns if col.startswith('skill[')]].unstack().rename('skill').reset_index()\n",
    "player_tournament_skill['player'] = player_tournament_skill.level_0.apply(\n",
    "    lambda x: reverse_player_tournament_index[int(x[6:-1])][0]\n",
    ").astype(player_category)\n",
    "player_tournament_skill['tournament'] = player_tournament_skill.level_0.apply(\n",
    "    lambda x: reverse_player_tournament_index[int(x[6:-1])][1]\n",
    ").astype(tournament_category)\n",
    "#     columns={'skill[{}]'.format(ix): player for (player, ix) in player_index.items()}\n",
    "# )\n",
    "del(player_tournament_skill['level_0'])\n",
    "player_tournament_skill = player_tournament_skill.rename(columns={'level_1': 'sample'})\n",
    "tournament_list = games.groupby('tournament_name').match_date.quantile(0.5).sort_values().index.tolist()\n",
    "\n",
    "player_tournament_skill['tournament'] = player_tournament_skill['tournament'].cat.reorder_categories(tournament_list, ordered=True )\n",
    "\n",
    "\n",
    "def render_player(player):\n",
    "    player_skill = player_tournament_skill[player_tournament_skill.player == player]\n",
    "    player_chart = (\n",
    "        ggplot(player_skill, aes(x='tournament', y='skill'))\n",
    "        + geom_violin()\n",
    "        + theme(\n",
    "            figure_size=(player_skill.tournament.nunique()*.2, 2),\n",
    "            axis_text_x=element_text(rotation=90),\n",
    "        )\n",
    "        + labs(title=player)\n",
    "    )\n",
    "    filename = f'{player}-skill-{model_hash}-{data_hash}.png'\n",
    "    player_chart.save(filename)\n",
    "    \n",
    "def render_players(*players):\n",
    "    for player in players:\n",
    "        render_player(player)\n"
   ]
  },
  {
   "cell_type": "code",
   "execution_count": 34,
   "metadata": {},
   "outputs": [
    {
     "name": "stdout",
     "output_type": "stream",
     "text": [
      "<class 'pandas.core.frame.DataFrame'>\n",
      "RangeIndex: 4724000 entries, 0 to 4723999\n",
      "Data columns (total 4 columns):\n",
      "sample        int64\n",
      "skill         float64\n",
      "player        category\n",
      "tournament    category\n",
      "dtypes: category(2), float64(1), int64(1)\n",
      "memory usage: 90.1 MB\n"
     ]
    }
   ],
   "source": [
    "player_tournament_skill.info(memory_usage='deep')"
   ]
  },
  {
   "cell_type": "code",
   "execution_count": 34,
   "metadata": {},
   "outputs": [
    {
     "name": "stderr",
     "output_type": "stream",
     "text": [
      "/home/cpennington/.virtualenvs/yomi-skill/lib/python3.6/site-packages/plotnine/ggplot.py:706: UserWarning: Saving 2.6 x 2 in image.\n",
      "  from_inches(height, units), units))\n",
      "/home/cpennington/.virtualenvs/yomi-skill/lib/python3.6/site-packages/plotnine/ggplot.py:707: UserWarning: Filename: vengefulpickle-skill-165eac82d0ff9a5eedae03d5326dc6fa-f99dc79a2a1d584d25f833bdc5e4c656.png\n",
      "  warn('Filename: {}'.format(filename))\n",
      "/home/cpennington/.virtualenvs/yomi-skill/lib/python3.6/site-packages/plotnine/ggplot.py:706: UserWarning: Saving 9.600000000000001 x 2 in image.\n",
      "  from_inches(height, units), units))\n",
      "/home/cpennington/.virtualenvs/yomi-skill/lib/python3.6/site-packages/plotnine/ggplot.py:707: UserWarning: Filename: mysticjuicer-skill-165eac82d0ff9a5eedae03d5326dc6fa-f99dc79a2a1d584d25f833bdc5e4c656.png\n",
      "  warn('Filename: {}'.format(filename))\n",
      "/home/cpennington/.virtualenvs/yomi-skill/lib/python3.6/site-packages/plotnine/ggplot.py:706: UserWarning: Saving 2.4000000000000004 x 2 in image.\n",
      "  from_inches(height, units), units))\n",
      "/home/cpennington/.virtualenvs/yomi-skill/lib/python3.6/site-packages/plotnine/ggplot.py:707: UserWarning: Filename: cpat-skill-165eac82d0ff9a5eedae03d5326dc6fa-f99dc79a2a1d584d25f833bdc5e4c656.png\n",
      "  warn('Filename: {}'.format(filename))\n",
      "/home/cpennington/.virtualenvs/yomi-skill/lib/python3.6/site-packages/plotnine/ggplot.py:706: UserWarning: Saving 6.4 x 2 in image.\n",
      "  from_inches(height, units), units))\n",
      "/home/cpennington/.virtualenvs/yomi-skill/lib/python3.6/site-packages/plotnine/ggplot.py:707: UserWarning: Filename: CKR-skill-165eac82d0ff9a5eedae03d5326dc6fa-f99dc79a2a1d584d25f833bdc5e4c656.png\n",
      "  warn('Filename: {}'.format(filename))\n",
      "/home/cpennington/.virtualenvs/yomi-skill/lib/python3.6/site-packages/plotnine/ggplot.py:706: UserWarning: Saving 5.2 x 2 in image.\n",
      "  from_inches(height, units), units))\n",
      "/home/cpennington/.virtualenvs/yomi-skill/lib/python3.6/site-packages/plotnine/ggplot.py:707: UserWarning: Filename: Bomber678-skill-165eac82d0ff9a5eedae03d5326dc6fa-f99dc79a2a1d584d25f833bdc5e4c656.png\n",
      "  warn('Filename: {}'.format(filename))\n",
      "/home/cpennington/.virtualenvs/yomi-skill/lib/python3.6/site-packages/plotnine/ggplot.py:706: UserWarning: Saving 6.6000000000000005 x 2 in image.\n",
      "  from_inches(height, units), units))\n",
      "/home/cpennington/.virtualenvs/yomi-skill/lib/python3.6/site-packages/plotnine/ggplot.py:707: UserWarning: Filename: snoc-skill-165eac82d0ff9a5eedae03d5326dc6fa-f99dc79a2a1d584d25f833bdc5e4c656.png\n",
      "  warn('Filename: {}'.format(filename))\n",
      "/home/cpennington/.virtualenvs/yomi-skill/lib/python3.6/site-packages/plotnine/ggplot.py:706: UserWarning: Saving 4.6000000000000005 x 2 in image.\n",
      "  from_inches(height, units), units))\n",
      "/home/cpennington/.virtualenvs/yomi-skill/lib/python3.6/site-packages/plotnine/ggplot.py:707: UserWarning: Filename: thehug0naut-skill-165eac82d0ff9a5eedae03d5326dc6fa-f99dc79a2a1d584d25f833bdc5e4c656.png\n",
      "  warn('Filename: {}'.format(filename))\n",
      "/home/cpennington/.virtualenvs/yomi-skill/lib/python3.6/site-packages/plotnine/ggplot.py:706: UserWarning: Saving 6.0 x 2 in image.\n",
      "  from_inches(height, units), units))\n",
      "/home/cpennington/.virtualenvs/yomi-skill/lib/python3.6/site-packages/plotnine/ggplot.py:707: UserWarning: Filename: Fluffiness-skill-165eac82d0ff9a5eedae03d5326dc6fa-f99dc79a2a1d584d25f833bdc5e4c656.png\n",
      "  warn('Filename: {}'.format(filename))\n",
      "/home/cpennington/.virtualenvs/yomi-skill/lib/python3.6/site-packages/plotnine/ggplot.py:706: UserWarning: Saving 2.2 x 2 in image.\n",
      "  from_inches(height, units), units))\n",
      "/home/cpennington/.virtualenvs/yomi-skill/lib/python3.6/site-packages/plotnine/ggplot.py:707: UserWarning: Filename: Hobusu-skill-165eac82d0ff9a5eedae03d5326dc6fa-f99dc79a2a1d584d25f833bdc5e4c656.png\n",
      "  warn('Filename: {}'.format(filename))\n"
     ]
    }
   ],
   "source": [
    "render_players(\n",
    "    'vengefulpickle',\n",
    "    'mysticjuicer',\n",
    "    'cpat',\n",
    "    'CKR',\n",
    "    'Bomber678',\n",
    "    'snoc',\n",
    "    'thehug0naut',\n",
    "    'Fluffiness',\n",
    "    'Hobusu',\n",
    ")"
   ]
  },
  {
   "cell_type": "code",
   "execution_count": 35,
   "metadata": {},
   "outputs": [
    {
     "ename": "NameError",
     "evalue": "name 'ggplot' is not defined",
     "output_type": "error",
     "traceback": [
      "\u001b[0;31m---------------------------------------------------------------------------\u001b[0m",
      "\u001b[0;31mNameError\u001b[0m                                 Traceback (most recent call last)",
      "\u001b[0;32m<ipython-input-35-b0cd405e1df7>\u001b[0m in \u001b[0;36m<module>\u001b[0;34m\u001b[0m\n\u001b[1;32m     10\u001b[0m         \u001b[0mfigure_size\u001b[0m\u001b[0;34m=\u001b[0m\u001b[0;34m(\u001b[0m\u001b[0;36m10\u001b[0m\u001b[0;34m,\u001b[0m \u001b[0;36m10\u001b[0m\u001b[0;34m)\u001b[0m\u001b[0;34m,\u001b[0m\u001b[0;34m\u001b[0m\u001b[0;34m\u001b[0m\u001b[0m\n\u001b[1;32m     11\u001b[0m     )\n\u001b[0;32m---> 12\u001b[0;31m     \u001b[0;34m+\u001b[0m \u001b[0mcoord_flip\u001b[0m\u001b[0;34m(\u001b[0m\u001b[0;34m)\u001b[0m\u001b[0;34m\u001b[0m\u001b[0;34m\u001b[0m\u001b[0m\n\u001b[0m\u001b[1;32m     13\u001b[0m )\n\u001b[1;32m     14\u001b[0m \u001b[0mplot\u001b[0m\u001b[0;34m.\u001b[0m\u001b[0msave\u001b[0m\u001b[0;34m(\u001b[0m\u001b[0;34mf'iyl6-{model_hash}-{data_hash}.png'\u001b[0m\u001b[0;34m)\u001b[0m\u001b[0;34m\u001b[0m\u001b[0;34m\u001b[0m\u001b[0m\n",
      "\u001b[0;31mNameError\u001b[0m: name 'ggplot' is not defined"
     ]
    }
   ],
   "source": [
    "iyl6 = player_tournament_skill[player_tournament_skill.tournament=='IYL Season 6'].copy()\n",
    "\n",
    "iyl_player_list = iyl6.groupby('player').skill.median().sort_values().index.tolist()\n",
    "iyl6['player'] = iyl6['player'].astype('category').cat.reorder_categories(iyl_player_list, ordered=True)\n",
    "\n",
    "plot = (\n",
    "    ggplot(iyl6, aes(x='player', y='skill'))\n",
    "    + geom_violin()\n",
    "    + theme(\n",
    "        figure_size=(10, 10),\n",
    "    )\n",
    "    + coord_flip()\n",
    ")\n",
    "plot.save(f'iyl6-{model_hash}-{data_hash}.png')"
   ]
  },
  {
   "cell_type": "code",
   "execution_count": 38,
   "metadata": {},
   "outputs": [
    {
     "name": "stderr",
     "output_type": "stream",
     "text": [
      "/home/cpennington/.virtualenvs/yomi-skill/lib/python3.6/site-packages/pandas/core/frame.py:6211: FutureWarning: Sorting because non-concatenation axis is not aligned. A future version\n",
      "of pandas will change to not sort by default.\n",
      "\n",
      "To accept the future behavior, pass 'sort=False'.\n",
      "\n",
      "To retain the current behavior and silence the warning, pass 'sort=True'.\n",
      "\n",
      "  sort=sort)\n"
     ]
    }
   ],
   "source": [
    "num_samples = player_tournament_skill['sample'].nunique()\n",
    "skill_subsample = pandas.cut(\n",
    "    player_tournament_skill.set_index(['tournament', 'player']).skill,\n",
    "    bins=[x-0.5 for x in range(-9, 9)],\n",
    "    precision=0,\n",
    ").rename('skill').reset_index().groupby(\n",
    "    ['tournament', 'player', 'skill']\n",
    ").size().rename('skill_fraction').reset_index(['skill'])\n",
    "\n",
    "skill_subsample['skill_fraction'] /= num_samples\n",
    "\n",
    "game_skill = games.join(\n",
    "    skill_subsample.rename(columns={'skill': 'skill_1', 'skill_fraction': 'skill_fraction_1'}),\n",
    "    on=('tournament_name', 'player_1')\n",
    ").join(\n",
    "    skill_subsample.rename(columns={'skill': 'skill_2', 'skill_fraction': 'skill_fraction_2'}),\n",
    "    on=('tournament_name', 'player_2')\n",
    ")\n",
    "\n",
    "flipped = game_skill[game_skill.character_1 < game_skill.character_2]\n",
    "flipped = flipped.rename(columns={\n",
    "    'character_1': 'character_2',\n",
    "    'character_2': 'character_1',\n",
    "    'skill_1': 'skill_2',\n",
    "    'skill_2': 'skill_1',\n",
    "    'skill_fraction_1': 'skill_fraction_2',\n",
    "    'skill_fraction_2': 'skill_fraction_1',\n",
    "})\n",
    "flipped['win'] = 1-flipped.win\n",
    "game_skill = game_skill.append(flipped)\n",
    "\n",
    "game_skill['skill_fraction'] = game_skill.skill_fraction_1 * game_skill.skill_fraction_2\n",
    "game_skill['win_fraction'] = game_skill.win * game_skill.skill_fraction\n",
    "\n"
   ]
  },
  {
   "cell_type": "code",
   "execution_count": 39,
   "metadata": {},
   "outputs": [
    {
     "name": "stdout",
     "output_type": "stream",
     "text": [
      "<class 'pandas.core.frame.DataFrame'>\n",
      "Int64Index: 2407502 entries, 0 to 21384\n",
      "Data columns (total 13 columns):\n",
      "character_1         category\n",
      "character_2         category\n",
      "match_date          datetime64[ns]\n",
      "player_1            category\n",
      "player_2            category\n",
      "skill_1             category\n",
      "skill_2             category\n",
      "skill_fraction_1    float64\n",
      "skill_fraction_2    float64\n",
      "tournament_name     object\n",
      "win                 int8\n",
      "skill_fraction      float64\n",
      "win_fraction        float64\n",
      "dtypes: category(6), datetime64[ns](1), float64(4), int8(1), object(1)\n",
      "memory usage: 300.3 MB\n"
     ]
    }
   ],
   "source": [
    "game_skill.info(memory_usage='deep')"
   ]
  },
  {
   "cell_type": "code",
   "execution_count": 40,
   "metadata": {},
   "outputs": [
    {
     "data": {
      "text/html": [
       "<div>\n",
       "<style scoped>\n",
       "    .dataframe tbody tr th:only-of-type {\n",
       "        vertical-align: middle;\n",
       "    }\n",
       "\n",
       "    .dataframe tbody tr th {\n",
       "        vertical-align: top;\n",
       "    }\n",
       "\n",
       "    .dataframe thead th {\n",
       "        text-align: right;\n",
       "    }\n",
       "</style>\n",
       "<table border=\"1\" class=\"dataframe\">\n",
       "  <thead>\n",
       "    <tr style=\"text-align: right;\">\n",
       "      <th></th>\n",
       "      <th></th>\n",
       "      <th></th>\n",
       "      <th></th>\n",
       "      <th>skill_fraction_1</th>\n",
       "      <th>skill_fraction_2</th>\n",
       "      <th>win</th>\n",
       "      <th>skill_fraction</th>\n",
       "      <th>win_fraction</th>\n",
       "    </tr>\n",
       "    <tr>\n",
       "      <th>character_1</th>\n",
       "      <th>character_2</th>\n",
       "      <th>skill_1</th>\n",
       "      <th>skill_2</th>\n",
       "      <th></th>\n",
       "      <th></th>\n",
       "      <th></th>\n",
       "      <th></th>\n",
       "      <th></th>\n",
       "    </tr>\n",
       "  </thead>\n",
       "  <tbody>\n",
       "    <tr>\n",
       "      <th rowspan=\"3\" valign=\"top\">Troq</th>\n",
       "      <th rowspan=\"2\" valign=\"top\">Zane</th>\n",
       "      <th rowspan=\"2\" valign=\"top\">(0.5, 1.5]</th>\n",
       "      <th>(-0.5, 0.5]</th>\n",
       "      <td>64.2015</td>\n",
       "      <td>55.6815</td>\n",
       "      <td>184.0</td>\n",
       "      <td>13.461586</td>\n",
       "      <td>9.588087</td>\n",
       "    </tr>\n",
       "    <tr>\n",
       "      <th>(0.5, 1.5]</th>\n",
       "      <td>65.5495</td>\n",
       "      <td>64.5530</td>\n",
       "      <td>195.0</td>\n",
       "      <td>14.773090</td>\n",
       "      <td>9.448076</td>\n",
       "    </tr>\n",
       "    <tr>\n",
       "      <th>Setsuki</th>\n",
       "      <th>(2.5, 3.5]</th>\n",
       "      <th>(3.5, 4.5]</th>\n",
       "      <td>57.8430</td>\n",
       "      <td>51.1005</td>\n",
       "      <td>126.0</td>\n",
       "      <td>15.660598</td>\n",
       "      <td>8.671501</td>\n",
       "    </tr>\n",
       "    <tr>\n",
       "      <th>Quince</th>\n",
       "      <th>Setsuki</th>\n",
       "      <th>(1.5, 2.5]</th>\n",
       "      <th>(0.5, 1.5]</th>\n",
       "      <td>56.6740</td>\n",
       "      <td>40.5300</td>\n",
       "      <td>100.0</td>\n",
       "      <td>13.945864</td>\n",
       "      <td>8.620961</td>\n",
       "    </tr>\n",
       "    <tr>\n",
       "      <th>Gloria</th>\n",
       "      <th>Argagarg</th>\n",
       "      <th>(1.5, 2.5]</th>\n",
       "      <th>(0.5, 1.5]</th>\n",
       "      <td>45.6490</td>\n",
       "      <td>50.1860</td>\n",
       "      <td>105.0</td>\n",
       "      <td>12.538451</td>\n",
       "      <td>8.598522</td>\n",
       "    </tr>\n",
       "  </tbody>\n",
       "</table>\n",
       "</div>"
      ],
      "text/plain": [
       "                                                skill_fraction_1  \\\n",
       "character_1 character_2 skill_1    skill_2                         \n",
       "Troq        Zane        (0.5, 1.5] (-0.5, 0.5]           64.2015   \n",
       "                                   (0.5, 1.5]            65.5495   \n",
       "            Setsuki     (2.5, 3.5] (3.5, 4.5]            57.8430   \n",
       "Quince      Setsuki     (1.5, 2.5] (0.5, 1.5]            56.6740   \n",
       "Gloria      Argagarg    (1.5, 2.5] (0.5, 1.5]            45.6490   \n",
       "\n",
       "                                                skill_fraction_2    win  \\\n",
       "character_1 character_2 skill_1    skill_2                                \n",
       "Troq        Zane        (0.5, 1.5] (-0.5, 0.5]           55.6815  184.0   \n",
       "                                   (0.5, 1.5]            64.5530  195.0   \n",
       "            Setsuki     (2.5, 3.5] (3.5, 4.5]            51.1005  126.0   \n",
       "Quince      Setsuki     (1.5, 2.5] (0.5, 1.5]            40.5300  100.0   \n",
       "Gloria      Argagarg    (1.5, 2.5] (0.5, 1.5]            50.1860  105.0   \n",
       "\n",
       "                                                skill_fraction  win_fraction  \n",
       "character_1 character_2 skill_1    skill_2                                    \n",
       "Troq        Zane        (0.5, 1.5] (-0.5, 0.5]       13.461586      9.588087  \n",
       "                                   (0.5, 1.5]        14.773090      9.448076  \n",
       "            Setsuki     (2.5, 3.5] (3.5, 4.5]        15.660598      8.671501  \n",
       "Quince      Setsuki     (1.5, 2.5] (0.5, 1.5]        13.945864      8.620961  \n",
       "Gloria      Argagarg    (1.5, 2.5] (0.5, 1.5]        12.538451      8.598522  "
      ]
     },
     "execution_count": 40,
     "metadata": {},
     "output_type": "execute_result"
    }
   ],
   "source": [
    "game_skill.groupby(['character_1', 'character_2', 'skill_1', 'skill_2']).sum().dropna().sort_values(by='win_fraction', ascending=False).head()"
   ]
  },
  {
   "cell_type": "code",
   "execution_count": 45,
   "metadata": {},
   "outputs": [],
   "source": [
    "import itertools\n",
    "from plotnine import *\n",
    "\n",
    "df = game_skill.groupby(\n",
    "    ['character_1', 'character_2', 'skill_1', 'skill_2']\n",
    ").sum().rename(columns={'skill_fraction': 'games_played', 'win_fraction': 'p1_wins'}).reset_index().dropna()\n",
    "df['p1_win_prob'] = df.p1_wins / df.games_played\n",
    "max_count = df['games_played'].max()\n",
    "df['played_color'] = df.games_played.apply(lambda p: p > max_count*.8)\n",
    "df['prob_color'] = df.p1_win_prob.apply(lambda p: not (.2 < p < .8))\n",
    "\n",
    "df = df[df.games_played >= 0.05]\n",
    "\n",
    "character_subsets = [list(Character)[x:x+4] for x in range(0, len(Character), 4)]\n",
    "\n",
    "show_legends = False\n",
    "\n",
    "for ((y, c1_subset), (x, c2_subset)) in itertools.product(enumerate(character_subsets), enumerate(character_subsets)):\n",
    "    subset_selector = df.character_1.isin(c1_subset) & df.character_2.isin(c2_subset)\n",
    "    \n",
    "    tile_plot = (\n",
    "        ggplot(\n",
    "            df[subset_selector],\n",
    "            aes(y='factor(skill_1)', x='factor(skill_2)')\n",
    "        )\n",
    "        + facet_grid('character_1 ~ character_2', labeller='label_both')\n",
    "        + scale_color_grey(start=0, end=1, limits=[False, True])\n",
    "        + labs(y='p1 skill', x='p2 skill')\n",
    "    )\n",
    "    \n",
    "    (\n",
    "        tile_plot\n",
    "        + geom_tile(aes(fill='games_played'), show_legend=show_legends)\n",
    "        + geom_text(\n",
    "            aes(label='games_played', color='played_color'),\n",
    "            size=7,\n",
    "            format_string='{:.1f}',\n",
    "            show_legend=show_legends,\n",
    "        )\n",
    "        + scale_fill_distiller(type='seq', limits=[0, max_count], palette='YlOrRd')\n",
    "        + theme(\n",
    "            figure_size=(15, 15),\n",
    "            axis_text_x=element_text(rotation=90)\n",
    "        )\n",
    "    ).save(f'games-played-skill-{model_hash}-{data_hash}-{x}-{y}.png', limitsize=False, verbose=False)\n",
    "    \n",
    "    (\n",
    "        tile_plot\n",
    "        + geom_tile(aes(fill='p1_win_prob'), show_legend=show_legends)\n",
    "        + geom_text(\n",
    "            aes(label='p1_win_prob', color='prob_color'),\n",
    "            size=7,\n",
    "            format_string='{:.0%}',\n",
    "            show_legend=show_legends,\n",
    "        )\n",
    "        + scale_fill_distiller(type='div', limits=[0, 1], palette='RdBu')\n",
    "        + theme(\n",
    "            figure_size=(15, 15),\n",
    "            axis_text_x=element_text(rotation=90)\n",
    "        )\n",
    "    ).save(f'win-rate-skill-{model_hash}-{data_hash}-{x}-{y}.png', limitsize=False, verbose=False)\n"
   ]
  },
  {
   "cell_type": "code",
   "execution_count": 46,
   "metadata": {},
   "outputs": [],
   "source": [
    "from PIL import Image\n",
    "\n",
    "num_tiles = len(Character) // 4\n",
    "\n",
    "for prefix in ('win-rate-skill', 'games-played-skill'):\n",
    "    tiles = {\n",
    "        (x, y): Image.open(f'{prefix}-{model_hash}-{data_hash}-{x}-{y}.png')\n",
    "        for x in range(num_tiles)\n",
    "        for y in range(num_tiles)\n",
    "    }\n",
    "    (tile_width, tile_height) = tiles[(0, 0)].size\n",
    "    dest_image = Image.new(tiles[(0, 0)].mode, (num_tiles * tile_width, num_tiles * tile_height))\n",
    "    for ((x, y), tile) in tiles.items():\n",
    "        dest_image.paste(tile, (x * tile_width, y * tile_height))\n",
    "    dest_image.save(f'{prefix}-{model_hash}-{data_hash}.png')"
   ]
  },
  {
   "cell_type": "code",
   "execution_count": null,
   "metadata": {},
   "outputs": [],
   "source": []
  }
 ],
 "metadata": {
  "kernelspec": {
   "display_name": "Python 3",
   "language": "python",
   "name": "python3"
  },
  "language_info": {
   "codemirror_mode": {
    "name": "ipython",
    "version": 3
   },
   "file_extension": ".py",
   "mimetype": "text/x-python",
   "name": "python",
   "nbconvert_exporter": "python",
   "pygments_lexer": "ipython3",
   "version": "3.6.6"
  }
 },
 "nbformat": 4,
 "nbformat_minor": 2
}
