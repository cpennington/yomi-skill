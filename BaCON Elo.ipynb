{
 "cells": [
  {
   "cell_type": "code",
   "execution_count": 1,
   "metadata": {},
   "outputs": [],
   "source": [
    "%load_ext autoreload\n",
    "%autoreload 2"
   ]
  },
  {
   "cell_type": "code",
   "execution_count": 13,
   "metadata": {},
   "outputs": [],
   "source": [
    "from yomi.historical_record import fetch_historical_elo, compute_elo"
   ]
  },
  {
   "cell_type": "code",
   "execution_count": 11,
   "metadata": {},
   "outputs": [
    {
     "data": {
      "text/html": [
       "<div>\n",
       "<style scoped>\n",
       "    .dataframe tbody tr th:only-of-type {\n",
       "        vertical-align: middle;\n",
       "    }\n",
       "\n",
       "    .dataframe tbody tr th {\n",
       "        vertical-align: top;\n",
       "    }\n",
       "\n",
       "    .dataframe thead th {\n",
       "        text-align: right;\n",
       "    }\n",
       "</style>\n",
       "<table border=\"1\" class=\"dataframe\">\n",
       "  <thead>\n",
       "    <tr style=\"text-align: right;\">\n",
       "      <th></th>\n",
       "      <th>set_number</th>\n",
       "      <th>event</th>\n",
       "      <th>match_date</th>\n",
       "      <th>elo_1_before</th>\n",
       "      <th>set_win_1</th>\n",
       "      <th>player_1</th>\n",
       "      <th>player_2</th>\n",
       "      <th>set_win_2</th>\n",
       "      <th>elo_2_before</th>\n",
       "    </tr>\n",
       "  </thead>\n",
       "  <tbody>\n",
       "    <tr>\n",
       "      <th>0</th>\n",
       "      <td>1</td>\n",
       "      <td>Summer Smash</td>\n",
       "      <td>2014-07-06</td>\n",
       "      <td>1500.0</td>\n",
       "      <td>1</td>\n",
       "      <td>ntillerman</td>\n",
       "      <td>Felix</td>\n",
       "      <td>0</td>\n",
       "      <td>1500.0</td>\n",
       "    </tr>\n",
       "    <tr>\n",
       "      <th>1</th>\n",
       "      <td>2</td>\n",
       "      <td>Summer Smash</td>\n",
       "      <td>2014-07-06</td>\n",
       "      <td>1500.0</td>\n",
       "      <td>1</td>\n",
       "      <td>Mallorean_Thug</td>\n",
       "      <td>Nathan</td>\n",
       "      <td>0</td>\n",
       "      <td>1500.0</td>\n",
       "    </tr>\n",
       "    <tr>\n",
       "      <th>2</th>\n",
       "      <td>3</td>\n",
       "      <td>Summer Smash</td>\n",
       "      <td>2014-07-06</td>\n",
       "      <td>1500.0</td>\n",
       "      <td>1</td>\n",
       "      <td>Bob199</td>\n",
       "      <td>Djister</td>\n",
       "      <td>0</td>\n",
       "      <td>1500.0</td>\n",
       "    </tr>\n",
       "    <tr>\n",
       "      <th>3</th>\n",
       "      <td>4</td>\n",
       "      <td>Summer Smash</td>\n",
       "      <td>2014-07-06</td>\n",
       "      <td>1500.0</td>\n",
       "      <td>1</td>\n",
       "      <td>Xom</td>\n",
       "      <td>rybalko</td>\n",
       "      <td>0</td>\n",
       "      <td>1500.0</td>\n",
       "    </tr>\n",
       "    <tr>\n",
       "      <th>4</th>\n",
       "      <td>5</td>\n",
       "      <td>Summer Smash</td>\n",
       "      <td>2014-07-06</td>\n",
       "      <td>1500.0</td>\n",
       "      <td>1</td>\n",
       "      <td>Redless</td>\n",
       "      <td>LK4O4</td>\n",
       "      <td>0</td>\n",
       "      <td>1500.0</td>\n",
       "    </tr>\n",
       "  </tbody>\n",
       "</table>\n",
       "</div>"
      ],
      "text/plain": [
       "   set_number         event match_date  elo_1_before  set_win_1  \\\n",
       "0           1  Summer Smash 2014-07-06        1500.0          1   \n",
       "1           2  Summer Smash 2014-07-06        1500.0          1   \n",
       "2           3  Summer Smash 2014-07-06        1500.0          1   \n",
       "3           4  Summer Smash 2014-07-06        1500.0          1   \n",
       "4           5  Summer Smash 2014-07-06        1500.0          1   \n",
       "\n",
       "         player_1 player_2  set_win_2  elo_2_before  \n",
       "0      ntillerman    Felix          0        1500.0  \n",
       "1  Mallorean_Thug   Nathan          0        1500.0  \n",
       "2          Bob199  Djister          0        1500.0  \n",
       "3             Xom  rybalko          0        1500.0  \n",
       "4         Redless    LK4O4          0        1500.0  "
      ]
     },
     "execution_count": 11,
     "metadata": {},
     "output_type": "execute_result"
    }
   ],
   "source": [
    "matches = fetch_historical_elo()\n",
    "matches.head()"
   ]
  },
  {
   "cell_type": "code",
   "execution_count": 22,
   "metadata": {},
   "outputs": [
    {
     "name": "stdout",
     "output_type": "stream",
     "text": [
      "Found new best result (2379.8403683279716, 35, 90, 40)\n",
      "Found new best result (2378.9200021110937, 35, 90, 46)\n",
      "Found new best result (2377.8831153432943, 35, 90, 47)\n",
      "Found new best result (2377.8177110926854, 35, 90, 48)\n",
      "Found new best result (2377.5234092576175, 35, 90, 50)\n",
      "Found new best result (2377.347742158676, 35, 90, 51)\n",
      "Found new best result (2377.0963021398316, 35, 90, 54)\n",
      "Found new best result (2375.4324723858726, 35, 90, 55)\n",
      "Found new best result (2375.372727880498, 35, 91, 55)\n",
      "Found new best result (2375.3227792813477, 35, 92, 55)\n",
      "Found new best result (2375.2824531781725, 35, 93, 55)\n",
      "Found new best result (2375.2515806396473, 35, 94, 55)\n",
      "Found new best result (2375.229997054942, 35, 95, 55)\n",
      "Found new best result (2375.21754198238, 35, 96, 55)\n",
      "Found new best result (2375.214059004836, 35, 97, 55)\n",
      "Found new best result (2375.191926629377, 36, 94, 55)\n",
      "Found new best result (2375.1706130680523, 36, 95, 55)\n",
      "Found new best result (2375.1583952819137, 36, 96, 55)\n",
      "Found new best result (2375.155117319526, 36, 97, 55)\n",
      "Found new best result (2375.1460415747088, 37, 94, 55)\n",
      "Found new best result (2375.12501011932, 37, 95, 55)\n",
      "Found new best result (2375.113042440218, 37, 96, 55)\n",
      "Found new best result (2375.109983038983, 37, 97, 55)\n",
      "Found new best result (2375.092545283884, 38, 95, 55)\n",
      "Found new best result (2375.0808391505543, 38, 96, 55)\n",
      "Found new best result (2375.078010456001, 38, 97, 55)\n",
      "Found new best result (2375.072615714642, 39, 95, 55)\n",
      "Found new best result (2375.061181287332, 39, 96, 55)\n",
      "Found new best result (2375.058594148185, 39, 97, 55)\n",
      "Found new best result (2375.053501841534, 40, 96, 55)\n",
      "Found new best result (2375.0511659058793, 40, 97, 55)\n"
     ]
    }
   ],
   "source": [
    "results = []\n",
    "best_result = None\n",
    "\n",
    "for low_k in range(35, 45, 1):\n",
    "    for high_k in range(90, 105, 1):\n",
    "        for k_cutoff in range(40, 70, 1):\n",
    "            elo = compute_elo(matches, low_k=low_k, high_k=high_k, k_cutoff=k_cutoff)\n",
    "\n",
    "            elo[\"points_diff\"] = elo.elo_before_1 - elo.elo_before_2\n",
    "            elo[\"win_chance\"] = 1 / (1 + (-elo.points_diff / 1135.77).rpow(10))\n",
    "            squared_error = (\n",
    "                (elo.win_chance - elo.set_win_1).pow(2)\n",
    "                + ((1 - elo.win_chance) - (elo.set_win_2)).pow(2)\n",
    "            ).sum()\n",
    "    \n",
    "            result = (squared_error, low_k, high_k, k_cutoff)\n",
    "            if best_result is None or result < best_result:\n",
    "                best_result = result\n",
    "                print(\"Found new best result\", result)\n",
    "            results.append(result)\n",
    "            if low_k == high_k:\n",
    "                break"
   ]
  },
  {
   "cell_type": "code",
   "execution_count": 23,
   "metadata": {},
   "outputs": [
    {
     "data": {
      "text/plain": [
       "(2375.0511659058793, 40, 97, 55)"
      ]
     },
     "execution_count": 23,
     "metadata": {},
     "output_type": "execute_result"
    }
   ],
   "source": [
    "min(results)"
   ]
  },
  {
   "cell_type": "code",
   "execution_count": null,
   "metadata": {},
   "outputs": [],
   "source": []
  }
 ],
 "metadata": {
  "kernelspec": {
   "display_name": "Python 3",
   "language": "python",
   "name": "python3"
  },
  "language_info": {
   "codemirror_mode": {
    "name": "ipython",
    "version": 3
   },
   "file_extension": ".py",
   "mimetype": "text/x-python",
   "name": "python",
   "nbconvert_exporter": "python",
   "pygments_lexer": "ipython3",
   "version": "3.7.1"
  }
 },
 "nbformat": 4,
 "nbformat_minor": 2
}
